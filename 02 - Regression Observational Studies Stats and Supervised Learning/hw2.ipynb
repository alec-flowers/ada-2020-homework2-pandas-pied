{
 "cells": [
  {
   "cell_type": "markdown",
   "metadata": {},
   "source": [
    "# Homework 2 (HW2)\n",
    "\n",
    "---\n",
    "By the end of this homework we expect you to be able to:\n",
    "1. Preprocess data and make it amenable to statistical analysis and machine learning models;\n",
    "2. Train and test out-of-the-box machine learning models in Python;\n",
    "3. Carry out statistical hypothesis testing;\n",
    "4. Carry out simple multivariate regression analyses;\n",
    "5. Use techniques to control for covariates;\n",
    "---\n",
    "\n",
    "## Important Dates\n",
    "\n",
    "- Homework release: Fri 6 Nov 2020\n",
    "- **Homework due**: Fri 20 Nov 2020, 23:59\n",
    "- Grade release: Mon 30 Nov 2020\n",
    "\n",
    "---\n",
    "\n",
    "##  Some rules\n",
    "\n",
    "1. You are allowed to use any built-in Python library that comes with Anaconda. If you want to use an external library, you have to justify your choice.\n",
    "2. Make sure you use the data folder provided in the repository in **read-only** mode.\n",
    "3. Be sure to provide a textual description of your thought process, the assumptions you made, the solution you implemented, and explanations for your answers. A notebook that only has code cells will not suffice.\n",
    "4. For questions containing the **/Discuss:/** prefix, answer not with code, but with a textual explanation (in markdown).\n",
    "5. Back up any hypotheses and claims with data, since this is an important aspect of the course.\n",
    "6. Please write all your comments in English, and use meaningful variable names in your code. Your repo should have a single notebook (plus the required data files) in the master branch. If there are multiple notebooks present, we will **strictly** not grade anything.\n",
    "7. Also, be sure to hand in a fully-run and evaluated notebook. We will not run your notebook for you, we will grade it as is, which means that only the results contained in your evaluated code cells will be considered, and we will not see the results in unevaluated code cells. In order to check whether everything looks as intended, you can check the rendered notebook on the GitHub website once you have pushed your solution there.\n",
    "8. Make sure to print results or dataframes that confirm you have properly addressed the task.\n",
    "9. Lastly, the grading is done in the *double blind* mode, i.e., the TAs grades an anonymized version of your notebook, so make sure that your notebook **neither has your team name nor the names of the members**.\n",
    "\n",
    "## Context\n",
    "\n",
    "Publishing papers is a big part of the lives of [Ph.D. students](http://phdcomics.com/comics/archive.php?comicid=154), [post-docs](http://phdcomics.com/comics/archive.php?comicid=1744) and [professors](http://phdcomics.com/comics/archive.php?comicid=1051). \n",
    "In Computer Science, publishing happens mostly in conferences. What follows is a slight simplification of how these conferences decide which papers to accept and which papers to reject.\n",
    " \n",
    "Every year, scholars submit papers to prestigious conferences. The papers are then assigned to reviewers (usually around 3), who are other people from the same research community (respect thy neighbor!). Each reviewer weighs in on whether they believe the papers they were assigned are good or bad, and write a review, often along with a score (e.g. +3 Strong Accept, +2 Accept, +1 Weak Accept, 0 Borderline, …,  -3 Strong Reject). Then, in the end, \"special\" reviewers called, \"Area Chairs\" analyze all the reviews that were written for the same paper and decide what gets accepted and what gets rejected. Importantly, throughout this whole dance, reviewers and authors are anonymous. When you're reviewing a paper, you do not know who wrote it. And when you receive the review, you don't know who reviewed it. Because of that, we call this a double-blind reviewing process.\n",
    "\n",
    "An interesting development that has evolved in recent years is the rise of pre-prints. In previous times, researchers often exposed their research to the world only after it had been peer-reviewed and published in a conference or a journal. But recently researchers are much keener to let their ideas out into the world as soon as possible, and they publish their research before it has been approved to any conference or journal, by posting the research on so-called pre-print servers. The most common pre-print server for Computer Science, Physics, and Maths is called [arXiv](https://arxiv.org/), for Biology, an increasingly popular one is [bioRxiv](https://www.biorxiv.org/), for Psychology [psyArXiv](https://psyarxiv.com/) (they are not very creative with the names). Notice that pre-prints and peer-review are not mutually exclusive, in fact, usually, you publish your pre-print, and then you try to publish your work in a peer-reviewed setting.\n",
    "\n",
    "Overall, publishing pre-prints has many benefits. They make science more accessible and hasten the circulation of important results in the academic community. However, a big issue brought forth with pre-prints is that they often break the anonymity in the double-blind reviewing process. For instance, in machine learning, since most papers are published as pre-prints, it is often easy to figure out if the paper you are reviewing is from a famous researcher or a big company with prominent research scientists. From critics' viewpoint, knowing the authors of the papers you are reviewing can bias your reviews. If you know that a given author is famous, you'd be more inclined to take his or her word for granted. If the author is from an institution you’ve never heard about, you are more likely to doubt his or her findings.\n",
    "\n",
    "In this homework, we will take a data-driven deep dive into the world of academic publishing. Can you use your freshly acquired data-science skills to predict which papers are going to make the cut? Are your data analysis skills sharp enough to figure out whether the aforementioned concerns about pre-print issues are justified?\n",
    "\n",
    "\n",
    "## The data\n",
    "\n",
    "The data, whose source has been *\"double-blinded\"* from you, and which has been simplified a bit for the assignment, contains information about submissions to a prestigious machine learning conference called ICLR (pronounced “I-clear”). You can find the dataframe in the git repo for the homework (`./data/dataset_final.csv`). We provide a brief description of the fields you will encounter.\n",
    "\n",
    "- `year`: year the paper has been submitted to ICLR. Notice that we provide data for three years, 2018, 2019, and 2020.\n",
    "\n",
    "\n",
    "- `paper`: title of the paper.\n",
    "\n",
    "\n",
    "- `authors`: names of the authors separated by ;.\n",
    "\n",
    "\n",
    "- `ratings`: mean rating given to the paper by the reviewers.\n",
    "\n",
    "\n",
    "- `decisions`: either Accept if the paper was accepted, or Reject otherwise.\n",
    "\n",
    "\n",
    "- `institution`: institutions for each of the authors, separated by ;.\n",
    "\n",
    "\n",
    "- `csranking`: ranking of the institutions according to csrankings. The better the institution, the better the rank. Notice that, if a paper has more than 1 author, this field will contain multiple values, separated by ;. For institutions that are not in csrankings, the value will be -1.\n",
    "\n",
    "\n",
    "- `categories`: topical categories of the paper. Each number corresponds to a different category: (1) Theory, (2) Computer Vision, (3) Natural Language Processing, (4) Adversarial ML, (5) Generative Modeling, (7) Fairness, (8) Generalization, (9) Optimization, (10) Graphs, (11) Bayesian Methods, (0) Others. A paper may belong to multiple categories, separated by ;.\n",
    "\n",
    "\n",
    "- `authors_citations`: number of citations of each one of the authors, separated by ;.\n",
    "\n",
    "\n",
    "- `authors_publications`: number of publications by each one of the authors, separated by ;.\n",
    "\n",
    "\n",
    "- `authors_hindex`: h-index of each one of the authors, separated by ;. The h-index is an author-level metric that measures both the productivity and citation impact of the publications of a scientist or scholar. It is the maximum value $h$ such that the given author has published $h$ papers that have each been cited at least $h$ times.\n",
    "\n",
    "\n",
    "- `arxiv`: whether the paper was spotted in a pre-print server around the submission period.\n",
    "\n",
    "Also, notice that in this dataframe, when some piece of data was not available, -1 will be used as the value. For example, companies aren't a part of csrankings, so for people who work in big companies, the values are -1 in the field csranking.\n"
   ]
  },
  {
   "cell_type": "code",
   "execution_count": 1,
   "metadata": {},
   "outputs": [
    {
     "data": {
      "text/html": [
       "<style>.container { width:98% !important; }</style>"
      ],
      "text/plain": [
       "<IPython.core.display.HTML object>"
      ]
     },
     "metadata": {},
     "output_type": "display_data"
    }
   ],
   "source": [
    "import pandas as pd\n",
    "import numpy as np\n",
    "import matplotlib.pyplot as plt\n",
    "import seaborn as sns\n",
    "from sklearn import model_selection, linear_model, metrics, ensemble\n",
    "import statsmodels.api as sm\n",
    "import networkx as nx\n",
    "from networkx.algorithms import bipartite\n",
    "import scipy\n",
    "\n",
    "from IPython.core.display import display, HTML\n",
    "display(HTML(\"<style>.container { width:98% !important; }</style>\"))"
   ]
  },
  {
   "cell_type": "code",
   "execution_count": 2,
   "metadata": {},
   "outputs": [],
   "source": [
    "DATA_PATH = './data/dataset_final.csv'\n",
    "df = pd.read_csv(DATA_PATH)"
   ]
  },
  {
   "cell_type": "code",
   "execution_count": 3,
   "metadata": {},
   "outputs": [
    {
     "data": {
      "text/html": [
       "<div>\n",
       "<style scoped>\n",
       "    .dataframe tbody tr th:only-of-type {\n",
       "        vertical-align: middle;\n",
       "    }\n",
       "\n",
       "    .dataframe tbody tr th {\n",
       "        vertical-align: top;\n",
       "    }\n",
       "\n",
       "    .dataframe thead th {\n",
       "        text-align: right;\n",
       "    }\n",
       "</style>\n",
       "<table border=\"1\" class=\"dataframe\">\n",
       "  <thead>\n",
       "    <tr style=\"text-align: right;\">\n",
       "      <th></th>\n",
       "      <th>year</th>\n",
       "      <th>ratings</th>\n",
       "    </tr>\n",
       "  </thead>\n",
       "  <tbody>\n",
       "    <tr>\n",
       "      <th>count</th>\n",
       "      <td>4256.000000</td>\n",
       "      <td>4256.000000</td>\n",
       "    </tr>\n",
       "    <tr>\n",
       "      <th>mean</th>\n",
       "      <td>2019.291353</td>\n",
       "      <td>4.963381</td>\n",
       "    </tr>\n",
       "    <tr>\n",
       "      <th>std</th>\n",
       "      <td>0.766931</td>\n",
       "      <td>1.492028</td>\n",
       "    </tr>\n",
       "    <tr>\n",
       "      <th>min</th>\n",
       "      <td>2018.000000</td>\n",
       "      <td>1.000000</td>\n",
       "    </tr>\n",
       "    <tr>\n",
       "      <th>25%</th>\n",
       "      <td>2019.000000</td>\n",
       "      <td>4.000000</td>\n",
       "    </tr>\n",
       "    <tr>\n",
       "      <th>50%</th>\n",
       "      <td>2019.000000</td>\n",
       "      <td>5.000000</td>\n",
       "    </tr>\n",
       "    <tr>\n",
       "      <th>75%</th>\n",
       "      <td>2020.000000</td>\n",
       "      <td>6.000000</td>\n",
       "    </tr>\n",
       "    <tr>\n",
       "      <th>max</th>\n",
       "      <td>2020.000000</td>\n",
       "      <td>9.000000</td>\n",
       "    </tr>\n",
       "  </tbody>\n",
       "</table>\n",
       "</div>"
      ],
      "text/plain": [
       "              year      ratings\n",
       "count  4256.000000  4256.000000\n",
       "mean   2019.291353     4.963381\n",
       "std       0.766931     1.492028\n",
       "min    2018.000000     1.000000\n",
       "25%    2019.000000     4.000000\n",
       "50%    2019.000000     5.000000\n",
       "75%    2020.000000     6.000000\n",
       "max    2020.000000     9.000000"
      ]
     },
     "execution_count": 3,
     "metadata": {},
     "output_type": "execute_result"
    }
   ],
   "source": [
    "df.describe()"
   ]
  },
  {
   "cell_type": "markdown",
   "metadata": {},
   "source": [
    "## _Step 1:_ Predicting paper ratings\n",
    "\n",
    "The first part of this homework poses a simple question: Can you predict the ratings the paper will receive given attributes related to its authors? To answer this question, we will build an ML pipeline from scratch, preprocessing the data, training a regression model, and then evaluating it.\n",
    "\n",
    "\n",
    "---\n",
    "\n",
    "### Task 1.1\n",
    "\n",
    "Some of the fields in the data are not very amenable to serve as input to traditional machine learning algorithms. Namely, we have some fields for which there are a varying number of values (e.g. papers with 3 authors will have 3 values in the `author_citations` field, papers with 5 authors will have 5).\n",
    "\n",
    "\n",
    "Your first task is to perform some feature engineering and derive unique values for each paper which you will be able to use in your ML model. \n",
    "More specifically, you must:\n",
    "\n",
    "1. Create 3 new fields in the dataframe corresponding to the median value of the number of citations per author, the number of publications per author, and the h-index per author. So for instance, for the row `authors_publications`, you will create an additional column, e.g. `authors_publications_median`, containing the median number of publications per author in each paper.\n",
    "2. Create another field entitled `reputation` capturing how famous the last author of the paper is. Notice that the last author of the paper is usually the most senior person involved in the project. This field should equal $\\log_{10}\\Big(\\frac{\\#citations}{\\#publications} + 1\\Big)$. Notice that each author in the dataset has at least 1 publication, so you don't risk dividing by 0.\n",
    "3. Create two fields called `has_top_company` and `has_top_institution`. The field `has_top_company` equals 1 if the article contains an author in the following list of companies `[\"Facebook\", \"Google\", \"Microsoft\", \"Deepmind\"]`, and 0 otherwise. The field `has_top_institution` equals 1 if the article contains an author in the top 10 institutions according to CSRankings.\n",
    "4. **Discuss:** How did you handle -1 values in item 1.1.1? Justify your approach.\n",
    "\n",
    "---"
   ]
  },
  {
   "cell_type": "code",
   "execution_count": 4,
   "metadata": {},
   "outputs": [],
   "source": [
    "#1\n",
    "df['authors_citations'] = df['authors_citations'].str.split(';').apply(lambda x: list(map(int,x)))\n",
    "df['authors_publications'] = df['authors_publications'].str.split(';').apply(lambda x: list(map(int,x)))\n",
    "df['authors_hindex'] = df['authors_hindex'].str.split(';').apply(lambda x: list(map(int,x)))"
   ]
  },
  {
   "cell_type": "code",
   "execution_count": 5,
   "metadata": {},
   "outputs": [
    {
     "name": "stdout",
     "output_type": "stream",
     "text": [
      "Number -1 in authors_citations: 96\n",
      "Number -1 in authors_publications: 96\n",
      "Number -1 in authors_hindex: 96\n"
     ]
    }
   ],
   "source": [
    "print(f\"Number -1 in authors_citations: {sum(df['authors_citations'].apply(lambda x: -1 in x))}\")\n",
    "print(f\"Number -1 in authors_publications: {sum(df['authors_publications'].apply(lambda x: -1 in x))}\")\n",
    "print(f\"Number -1 in authors_hindex: {sum(df['authors_hindex'].apply(lambda x: -1 in x))}\")"
   ]
  },
  {
   "cell_type": "code",
   "execution_count": 6,
   "metadata": {},
   "outputs": [],
   "source": [
    "df['authors_citations_median'] = df['authors_citations'].apply(lambda x: np.median(x))\n",
    "df['authors_publications_median'] = df['authors_publications'].apply(lambda x: np.median(x))\n",
    "df['authors_hindex_median'] = df['authors_hindex'].apply(lambda x: np.median(x))"
   ]
  },
  {
   "cell_type": "code",
   "execution_count": 7,
   "metadata": {},
   "outputs": [],
   "source": [
    "#2\n",
    "df['reputation'] = df.apply(lambda x: np.log10(x['authors_citations'][-1]/x['authors_publications'][-1] + 1), axis=1)"
   ]
  },
  {
   "cell_type": "code",
   "execution_count": 8,
   "metadata": {},
   "outputs": [],
   "source": [
    "#3\n",
    "TOP_COMPANY = '|'.join([\"Facebook\", \"Google\", \"Microsoft\", \"Deepmind\"])\n",
    "df['has_top_company'] = df['institution'].str.contains(TOP_COMPANY).astype(int)"
   ]
  },
  {
   "cell_type": "code",
   "execution_count": 9,
   "metadata": {},
   "outputs": [],
   "source": [
    "df['csranking'] = df['csranking'].str.split(';').apply(lambda x: list(map(int,x)))\n",
    "\n",
    "def is_inbetween(x, min_ = 0, max_ = 10):\n",
    "    'Return true if values is inbetween 0 and 10, otherwise false'\n",
    "    \n",
    "    if (x >= min_) & (x <= 10):\n",
    "        return True\n",
    "    else:\n",
    "        return False\n",
    "\n",
    "df['has_top_institution'] = df['csranking'].apply(lambda x: any([is_inbetween(i) for i in x])).astype(int)"
   ]
  },
  {
   "cell_type": "markdown",
   "metadata": {},
   "source": [
    "4. **Discuss:** How did you handle -1 values in item 1.1.1? Justify your approach.\n",
    "\n",
    "The normal options to deal with null values (-1) are to drop these values or to impute something for the value. In 1.1.1 we are creating new features that takes the median of a group of values, with some of these values being null. Having a null value for these scores means that we could not find available data. In this case I think it is ok to leave the -1 as in and to pull the median value of the group down should there be a null value. There is only 1 paper whose medians are actually -1 which means they are the only group with a majority of nulls. "
   ]
  },
  {
   "cell_type": "code",
   "execution_count": 10,
   "metadata": {},
   "outputs": [
    {
     "data": {
      "text/html": [
       "<div>\n",
       "<style scoped>\n",
       "    .dataframe tbody tr th:only-of-type {\n",
       "        vertical-align: middle;\n",
       "    }\n",
       "\n",
       "    .dataframe tbody tr th {\n",
       "        vertical-align: top;\n",
       "    }\n",
       "\n",
       "    .dataframe thead th {\n",
       "        text-align: right;\n",
       "    }\n",
       "</style>\n",
       "<table border=\"1\" class=\"dataframe\">\n",
       "  <thead>\n",
       "    <tr style=\"text-align: right;\">\n",
       "      <th></th>\n",
       "      <th>year</th>\n",
       "      <th>paper</th>\n",
       "      <th>authors</th>\n",
       "      <th>ratings</th>\n",
       "      <th>decisions</th>\n",
       "      <th>institution</th>\n",
       "      <th>csranking</th>\n",
       "      <th>categories</th>\n",
       "      <th>authors_citations</th>\n",
       "      <th>authors_publications</th>\n",
       "      <th>authors_hindex</th>\n",
       "      <th>arxiv</th>\n",
       "      <th>authors_citations_median</th>\n",
       "      <th>authors_publications_median</th>\n",
       "      <th>authors_hindex_median</th>\n",
       "      <th>reputation</th>\n",
       "      <th>has_top_company</th>\n",
       "      <th>has_top_institution</th>\n",
       "    </tr>\n",
       "  </thead>\n",
       "  <tbody>\n",
       "    <tr>\n",
       "      <th>4238</th>\n",
       "      <td>2020</td>\n",
       "      <td>CNAS: Channel-Level Neural Architecture Search</td>\n",
       "      <td>Heechul Lim;Min-Soo Kim;Jinjun Xiong</td>\n",
       "      <td>2.5</td>\n",
       "      <td>Reject</td>\n",
       "      <td>Gwangju Institute of Science and Technology;Gw...</td>\n",
       "      <td>[-1, -1, -1]</td>\n",
       "      <td>0</td>\n",
       "      <td>[-1, -1, 1775]</td>\n",
       "      <td>[-1, -1, 171]</td>\n",
       "      <td>[-1, -1, 23]</td>\n",
       "      <td>False</td>\n",
       "      <td>-1.0</td>\n",
       "      <td>-1.0</td>\n",
       "      <td>-1.0</td>\n",
       "      <td>1.056147</td>\n",
       "      <td>0</td>\n",
       "      <td>0</td>\n",
       "    </tr>\n",
       "  </tbody>\n",
       "</table>\n",
       "</div>"
      ],
      "text/plain": [
       "      year                                           paper  \\\n",
       "4238  2020  CNAS: Channel-Level Neural Architecture Search   \n",
       "\n",
       "                                   authors  ratings decisions  \\\n",
       "4238  Heechul Lim;Min-Soo Kim;Jinjun Xiong      2.5    Reject   \n",
       "\n",
       "                                            institution     csranking  \\\n",
       "4238  Gwangju Institute of Science and Technology;Gw...  [-1, -1, -1]   \n",
       "\n",
       "     categories authors_citations authors_publications authors_hindex  arxiv  \\\n",
       "4238          0    [-1, -1, 1775]        [-1, -1, 171]   [-1, -1, 23]  False   \n",
       "\n",
       "      authors_citations_median  authors_publications_median  \\\n",
       "4238                      -1.0                         -1.0   \n",
       "\n",
       "      authors_hindex_median  reputation  has_top_company  has_top_institution  \n",
       "4238                   -1.0    1.056147                0                    0  "
      ]
     },
     "execution_count": 10,
     "metadata": {},
     "output_type": "execute_result"
    }
   ],
   "source": [
    "#Team with a -1 value\n",
    "df[df['authors_hindex_median'] == -1]"
   ]
  },
  {
   "cell_type": "markdown",
   "metadata": {},
   "source": [
    "### Task 1.2\n",
    "\n",
    "Now that you have cleaned up your data, your next task is to divide your data into a training set and a testing set. You should do this in two ways:\n",
    "\n",
    "1. First, do it randomly. Split the data into a training set (70%) and a testing set (30%). We refer to these as \"random split\" in the subsequent tasks.\n",
    "2. Second, do it longitudinally. Use the data from 2018 and 2019 for the training set, and the data from 2020 as the testing set. We refer to these as \"longitudinal split\" in the subsequent tasks.\n"
   ]
  },
  {
   "cell_type": "code",
   "execution_count": null,
   "metadata": {},
   "outputs": [],
   "source": []
  },
  {
   "cell_type": "markdown",
   "metadata": {},
   "source": [
    "### Task 1.3\n",
    "\n",
    "Build a Linear Regression model (use [sklearn](https://scikit-learn.org/stable/)) that predicts the score of a paper (which is in the variable ratings in the dataframe). Train it and test it using the split you previously defined. Your model should use as features:\n",
    "- Median values for the number of author citations, publications and h-indexes, as calculated in Task 1.1.1.\n",
    "\n",
    "- `reputation` of the last author, as calculated in Task 1.1.2.\n",
    "\n",
    "For the two scenarios above (random split and longitudinal split):\n",
    "\n",
    "1. Report the model $R^2$ in each case (for the testing set).\n",
    "2. **Discuss:** Hypothesize a reason why the results are different. Additionally, interpret the $R^2$ value for the longitudinal split. How can it be negative?\n",
    "3. **From now onwards (in this task and the following ones), consider only the random split.** For a given entry $X$ your model outputs a predicted score $Y'$. The difference between the real score $Y$ and the predicted score $Y'$ is called the \"residual\". Plot the distribution of your residuals for the test set. Using this distribution, estimate what is the probability that your prediction is off by more than 2-points? Provide bootstrapped confidence intervals for your answer.\n",
    "4. **Discuss:** Identify three additional features that are already computed in your dataframe and that could boost your model's predictive performance. You are not allowed to use the variable `decisions` as an input here. Before running any experiments, discuss why each of these features might add valuable information to your model.\n",
    "5. Report the $R^2$ (for the test set) for a newly trained model with these additional features. Please note that you do not need to improve the model performance to be successful in this task!\n",
    "\n",
    "**Hint**: [Metrics!](https://scikit-learn.org/stable/modules/classes.html#sklearn-metrics-metrics)"
   ]
  },
  {
   "cell_type": "code",
   "execution_count": 11,
   "metadata": {},
   "outputs": [],
   "source": [
    "FEATURES = ['authors_hindex_median','authors_publications_median','authors_citations_median','reputation']"
   ]
  },
  {
   "cell_type": "code",
   "execution_count": 12,
   "metadata": {
    "scrolled": true
   },
   "outputs": [],
   "source": [
    "#Scenario 1 - Random\n",
    "def linear_regression(df, features):\n",
    "    y = df['ratings']\n",
    "    X = df.drop('ratings',axis=1)\n",
    "    X = df[features]\n",
    "\n",
    "    X_train, X_test, y_train, y_test = model_selection.train_test_split(X, y, test_size = .3, random_state = 1)\n",
    "\n",
    "    reg_random = linear_model.LinearRegression().fit(X_train,y_train)\n",
    "    pred = reg_random.predict(X_test)\n",
    "    r2 = metrics.r2_score(y_test,pred)\n",
    "    \n",
    "    return y_test, pred, r2"
   ]
  },
  {
   "cell_type": "code",
   "execution_count": 13,
   "metadata": {},
   "outputs": [
    {
     "data": {
      "text/plain": [
       "0.08749306772992738"
      ]
     },
     "execution_count": 13,
     "metadata": {},
     "output_type": "execute_result"
    }
   ],
   "source": [
    "y_test, pred, r2 = linear_regression(df, FEATURES)\n",
    "r2"
   ]
  },
  {
   "cell_type": "code",
   "execution_count": 14,
   "metadata": {},
   "outputs": [],
   "source": [
    "#2\n",
    "y_ltrain = df[df['year'] <= 2019]['ratings']\n",
    "y_ltest = df[df['year'] == 2020]['ratings']\n",
    "X_ltrain = df[df['year'] <= 2019].drop('ratings', axis = 1)\n",
    "X_ltest = df[df['year'] == 2020].drop('ratings', axis = 1)\n",
    "\n",
    "X_ltrain = X_ltrain[FEATURES]\n",
    "X_ltest = X_ltest[FEATURES]"
   ]
  },
  {
   "cell_type": "code",
   "execution_count": 15,
   "metadata": {},
   "outputs": [
    {
     "data": {
      "text/plain": [
       "-0.2388121312091822"
      ]
     },
     "execution_count": 15,
     "metadata": {},
     "output_type": "execute_result"
    }
   ],
   "source": [
    "#Scenario 2 - Longitudianl\n",
    "reg_long = linear_model.LinearRegression().fit(X_ltrain,y_ltrain)\n",
    "pred_long = reg_long.predict(X_ltest)\n",
    "metrics.r2_score(y_ltest,pred_long)"
   ]
  },
  {
   "cell_type": "markdown",
   "metadata": {},
   "source": [
    "2. **Discuss:** Hypothesize a reason why the results are different. Additionally, interpret the $R^2$ value for the longitudinal split. How can it be negative?\n",
    "\n",
    "The formula for $R^2$ = 1 - $\\big(\\frac{SSR}{TSS}\\big)$ = 1 - $\\big(\\frac{\\sum_{}{}e_i^{2}}{\\sum_{}{}y_i - \\bar{Y}}\\big)$\n",
    "\n",
    "The $R^2$ is the proportion of the variance in the dependent variable that is predictable from the independent variables. We know that a baseline model which always just predicts the mean or $\\bar{Y}$ of the data has an R^2 of 0. A model with a negative prediction score has a negative $R^2$.\n",
    "\n",
    "It already looks like in both cases we have poor .087 and terrible -.239 $R^2$ scores which means that a linear combination of our features does not do a great job of fitting to our data.\n",
    "\n",
    "For .087 if we look at our formula this is saying our sum of squared error for the residuals is almost as large as the total sum of squared error. Having large errors for residuals is bad as this means our data is far away from our prediction line. We are only doing slightly better than if we just fit a line representing the mean to the data. \n",
    "\n",
    "A -.239 means that our residual error is actually larger than the variance. We are actually doing worse than just fitting to the mean of the data. This can happen when our regression line is going opposite of trend in the data and means that our model with these featues and a longitutidinal test set is very poor. \n",
    "\n",
    "Interpreting this, clearly historical data on ratings based on these features actually makes us predict worse. \n"
   ]
  },
  {
   "cell_type": "code",
   "execution_count": 16,
   "metadata": {
    "scrolled": false
   },
   "outputs": [
    {
     "data": {
      "image/png": "[encoded data removed]",
      "text/plain": [
       "<Figure size 432x288 with 1 Axes>"
      ]
     },
     "metadata": {
      "needs_background": "light"
     },
     "output_type": "display_data"
    }
   ],
   "source": [
    "#3\n",
    "residual = y_test - pred\n",
    "plt.hist(residual, bins = 30, density = True)\n",
    "plt.show()"
   ]
  },
  {
   "cell_type": "code",
   "execution_count": 17,
   "metadata": {
    "scrolled": true
   },
   "outputs": [
    {
     "data": {
      "image/png": "[encoded data removed]",
      "text/plain": [
       "<Figure size 432x288 with 1 Axes>"
      ]
     },
     "metadata": {
      "needs_background": "light"
     },
     "output_type": "display_data"
    }
   ],
   "source": [
    "plt.hist(residual, bins = 30, density = True, cumulative = 'True', histtype = 'step')\n",
    "plt.show()"
   ]
  },
  {
   "cell_type": "code",
   "execution_count": 18,
   "metadata": {},
   "outputs": [
    {
     "data": {
      "text/plain": [
       "0.15896632732967894"
      ]
     },
     "execution_count": 18,
     "metadata": {},
     "output_type": "execute_result"
    }
   ],
   "source": [
    "((residual > 2).sum() + (residual < -2).sum()) / residual.count()"
   ]
  },
  {
   "cell_type": "code",
   "execution_count": 19,
   "metadata": {},
   "outputs": [],
   "source": [
    "def bootstrap(df, features):\n",
    "\n",
    "    y = df['ratings']\n",
    "    X = df.drop('ratings',axis=1)\n",
    "    X = X[features]\n",
    "\n",
    "    X_train, X_test, y_train, y_test = model_selection.train_test_split(X,y, test_size = .5)\n",
    "    return X_train, X_test, y_train, y_test"
   ]
  },
  {
   "cell_type": "code",
   "execution_count": 20,
   "metadata": {},
   "outputs": [],
   "source": [
    "def boostrap_CI(df, features, max_iter = 1000):\n",
    "    ci = []\n",
    "    for i in range(max_iter):\n",
    "        X_train, X_test, y_train, y_test = bootstrap(df, features)\n",
    "        reg_random = linear_model.LinearRegression().fit(X_train,y_train)\n",
    "        pred = reg_random.predict(X_test)\n",
    "\n",
    "        residual = y_test - pred\n",
    "        ci.append(((residual > 2).sum() + (residual < -2).sum()) / residual.count())\n",
    "        \n",
    "    return ci"
   ]
  },
  {
   "cell_type": "code",
   "execution_count": 21,
   "metadata": {},
   "outputs": [],
   "source": [
    "max_iter = 1000\n",
    "confidence_interval = boostrap_CI(df, FEATURES, max_iter)"
   ]
  },
  {
   "cell_type": "code",
   "execution_count": 22,
   "metadata": {},
   "outputs": [
    {
     "data": {
      "text/plain": [
       "[0.15037593984962405, 0.1724624060150376]"
      ]
     },
     "execution_count": 22,
     "metadata": {},
     "output_type": "execute_result"
    }
   ],
   "source": [
    "interval = int(.025*max_iter)\n",
    "confidence_interval = sorted(confidence_interval)\n",
    "[confidence_interval[interval],confidence_interval[-interval]]"
   ]
  },
  {
   "cell_type": "markdown",
   "metadata": {},
   "source": [
    "4. **Discuss:** Identify three additional features that are already computed in your dataframe and that could boost your model's predictive performance. You are not allowed to use the variable `decisions` as an input here. Before running any experiments, discuss why each of these features might add valuable information to your model."
   ]
  },
  {
   "cell_type": "markdown",
   "metadata": {},
   "source": [
    "1) Arvix turn into boolean vs not boolean. This is what\n",
    "\n",
    "2) Category one hot encode\n",
    "\n",
    "3) Year as one hot encode. We saw with the longitudinal data it looks like there isn't as much predictivate power from year to year. So would be a good feature to add.\n",
    "\n",
    "4) Reputation of first author"
   ]
  },
  {
   "cell_type": "code",
   "execution_count": 23,
   "metadata": {},
   "outputs": [],
   "source": [
    "one_hot = pd.get_dummies(df['arxiv'], prefix = 'arxiv')\n",
    "df = df.join(one_hot)"
   ]
  },
  {
   "cell_type": "code",
   "execution_count": 24,
   "metadata": {},
   "outputs": [],
   "source": [
    "one_hot = pd.get_dummies(df['year'], prefix = 'year')\n",
    "df = df.join(one_hot)"
   ]
  },
  {
   "cell_type": "code",
   "execution_count": 25,
   "metadata": {},
   "outputs": [],
   "source": [
    "df['reputation_one'] = df.apply(lambda x: np.log10(x['authors_citations'][0]/x['authors_publications'][0] + 1), axis=1)"
   ]
  },
  {
   "cell_type": "code",
   "execution_count": 26,
   "metadata": {},
   "outputs": [],
   "source": [
    "NEW_FEATURES = ['authors_hindex_median','authors_publications_median',\n",
    "                'authors_citations_median','reputation','arxiv_False','arxiv_True',\n",
    "                'year_2018', 'year_2019', 'year_2020', 'reputation_one']"
   ]
  },
  {
   "cell_type": "code",
   "execution_count": 27,
   "metadata": {},
   "outputs": [
    {
     "data": {
      "text/plain": [
       "0.21693130004108963"
      ]
     },
     "execution_count": 27,
     "metadata": {},
     "output_type": "execute_result"
    }
   ],
   "source": [
    "y_test, pred, r2 = linear_regression(df, NEW_FEATURES)\n",
    "r2"
   ]
  },
  {
   "cell_type": "markdown",
   "metadata": {},
   "source": [
    "### Task 1.4\n",
    "\n",
    "Experiment with training a different regressor, a [Gradient Boosting Regressor](https://scikit-learn.org/stable/modules/ensemble.html?highlight=xgboost#gradient-boosting). This regressor is analogous to the Gradient Boosting Classifier that you have seen in class. This model performs extremely well for a variety of tasks and is often used in machine learning competitions for tabular data (e.g., on [Kaggle](www.kaggle.com)). You must:\n",
    "\n",
    "1. Train a Gradient Boosting Regressor without specifying any parameters, e.g. `GradientBoostingRegressor().fit(X, y)`, and report its $R^2$ on the testing set. Your model should again use as features:\n",
    "    - Median values for the number of author citations, publications and h-indexes as calculated in Task 1.1.1.\n",
    "    - `reputation` of the last author, as calculated in Task 1.1.2.\n",
    "2. Create an additional feature called $crazy$, which is derived as follows. If the score  of the paper, $ratings$, is bigger than 4.96, then $crazy = 9 - ratings$, otherwise, $crazy = - ratings$. Train a Gradient Boosting Regressor to predict paper scores using only $crazy$ as a feature. Additionally, train a Linear Regression model to predict paper scores using only $crazy$ as a feature. Report the $R^2$ in the testing set.\n",
    "3. **Discuss:** Why does the Gradient Boosting Regressor perform so much better?"
   ]
  },
  {
   "cell_type": "code",
   "execution_count": 28,
   "metadata": {},
   "outputs": [],
   "source": [
    "def gradient_boost_regression(df, features):\n",
    "    y = df['ratings']\n",
    "    X = df.drop('ratings',axis=1)\n",
    "    X = df[features]\n",
    "\n",
    "    X_train, X_test, y_train, y_test = model_selection.train_test_split(X, y, test_size = .3, random_state = 1)\n",
    "\n",
    "    reg_random = ensemble.GradientBoostingRegressor().fit(X_train,y_train)\n",
    "    pred = reg_random.predict(X_test)\n",
    "    r2 = metrics.r2_score(y_test,pred)\n",
    "    \n",
    "    return y_test, pred, r2"
   ]
  },
  {
   "cell_type": "code",
   "execution_count": 29,
   "metadata": {},
   "outputs": [
    {
     "data": {
      "text/plain": [
       "0.10595730907283085"
      ]
     },
     "execution_count": 29,
     "metadata": {},
     "output_type": "execute_result"
    }
   ],
   "source": [
    "y_test, pred, r2 = gradient_boost_regression(df, FEATURES)\n",
    "r2"
   ]
  },
  {
   "cell_type": "code",
   "execution_count": 30,
   "metadata": {},
   "outputs": [],
   "source": [
    "def crazy_feature(x):\n",
    "    if x >4.96:\n",
    "        crazy = 9 - x\n",
    "    else:\n",
    "        crazy = -x\n",
    "    return crazy\n",
    "\n",
    "df['crazy'] = df['ratings'].apply(crazy_feature)"
   ]
  },
  {
   "cell_type": "code",
   "execution_count": 31,
   "metadata": {},
   "outputs": [
    {
     "data": {
      "text/plain": [
       "0.9999900346272116"
      ]
     },
     "execution_count": 31,
     "metadata": {},
     "output_type": "execute_result"
    }
   ],
   "source": [
    "y_test, pred, r2 = gradient_boost_regression(df, ['crazy'])\n",
    "r2"
   ]
  },
  {
   "cell_type": "code",
   "execution_count": 32,
   "metadata": {},
   "outputs": [
    {
     "data": {
      "text/plain": [
       "0.4216318406900581"
      ]
     },
     "execution_count": 32,
     "metadata": {},
     "output_type": "execute_result"
    }
   ],
   "source": [
    "y_test, pred, r2 = linear_regression(df, ['crazy'])\n",
    "r2"
   ]
  },
  {
   "cell_type": "markdown",
   "metadata": {},
   "source": [
    "### Task 1.5\n",
    "\n",
    "Complex models often have several hyper-parameters. \n",
    "To obtain the best results, it is common-place to use a cross-validation set-up in your training data to find the best hyper-parameters, and then use it for the test set.\n",
    "\n",
    "\n",
    "1. Write modular code (i.e., a function) to divide your training data into $N$ folds and perform cross-validation.\n",
    "2.  Experiment tuning two hyper-parameters of the Gradient Boosting Regressor: `n_estimators` and `learning_rate`.\n",
    "For each possible combination of the two hyper-parameters (see below for the range of values that you should try for each hyper-parameter), train your model in a cross-validation setup with $N$=20. Report the mean $R^2$ along with the 90% CI for the 18 scenarios. Notice that you can calculate the 90% CI in a bootstrap-like fashion.\n",
    "    - `n_estimators`$ \\in  \\{ 50, 75, 100, 150, 200, 250\\}$\n",
    "    - `learning_rate`$ \\in  \\{ 0.1, 0.05, 0.01\\}$.\n",
    "3. With the best hyper-parameters obtained, train your model with the entire training set and report the $R^2$ on the testing set.\n",
    "4. **Discuss:** Why don't we tune the hyper-parameters in the testing set instead of doing cross-validation in the training set?"
   ]
  },
  {
   "cell_type": "code",
   "execution_count": 33,
   "metadata": {},
   "outputs": [],
   "source": [
    "gb = ensemble.GradientBoostingRegressor()\n",
    "parameters = {'n_estimators': [50, 75, 100, 150, 200, 250],\n",
    "              'learning_rate': [.1, .05, .01]}\n",
    "y = df['ratings']\n",
    "X = df.drop('ratings',axis=1)\n",
    "X = df[NEW_FEATURES]\n",
    "\n",
    "X_train, X_test, y_train, y_test = model_selection.train_test_split(X, y, test_size = .3, random_state = 1)\n",
    "\n",
    "clf = model_selection.GridSearchCV(gb, parameters, cv = 20, scoring = 'r2')\n",
    "clf.fit(X_train,y_train)\n",
    "best_param = clf.best_params_"
   ]
  },
  {
   "cell_type": "code",
   "execution_count": 94,
   "metadata": {},
   "outputs": [
    {
     "data": {
      "text/plain": [
       "{'mean_fit_time': array([0.16001563, 0.25251051, 0.31963168, 0.46552131, 0.60189108,\n",
       "        0.77389981, 0.15095336, 0.22889067, 0.31298032, 0.4693619 ,\n",
       "        0.63002748, 0.74189538, 0.15484791, 0.22823111, 0.30415785,\n",
       "        0.45076221, 0.60698638, 0.71622775]),\n",
       " 'std_fit_time': array([0.00805996, 0.00808912, 0.01496081, 0.02493819, 0.01875098,\n",
       "        0.03421957, 0.00557666, 0.01575333, 0.01066255, 0.01563309,\n",
       "        0.03443967, 0.02769238, 0.00554328, 0.00764388, 0.01049629,\n",
       "        0.03521798, 0.04827942, 0.02825339]),\n",
       " 'mean_score_time': array([0.00201054, 0.00237325, 0.00211843, 0.00220482, 0.00217777,\n",
       "        0.00220804, 0.00193396, 0.00207809, 0.00224396, 0.00215212,\n",
       "        0.0023549 , 0.00215098, 0.00184985, 0.00192401, 0.00209292,\n",
       "        0.00221658, 0.00222208, 0.00227102]),\n",
       " 'std_score_time': array([0.00022865, 0.00041873, 0.00031076, 0.00024942, 0.00027507,\n",
       "        0.00024416, 0.0002951 , 0.00037639, 0.00032001, 0.00024009,\n",
       "        0.00038487, 0.00023357, 0.00021523, 0.0002051 , 0.00028887,\n",
       "        0.00040505, 0.00022799, 0.00029746]),\n",
       " 'param_learning_rate': masked_array(data=[0.1, 0.1, 0.1, 0.1, 0.1, 0.1, 0.05, 0.05, 0.05, 0.05,\n",
       "                    0.05, 0.05, 0.01, 0.01, 0.01, 0.01, 0.01, 0.01],\n",
       "              mask=[False, False, False, False, False, False, False, False,\n",
       "                    False, False, False, False, False, False, False, False,\n",
       "                    False, False],\n",
       "        fill_value='?',\n",
       "             dtype=object),\n",
       " 'param_n_estimators': masked_array(data=[50, 75, 100, 150, 200, 250, 50, 75, 100, 150, 200, 250,\n",
       "                    50, 75, 100, 150, 200, 250],\n",
       "              mask=[False, False, False, False, False, False, False, False,\n",
       "                    False, False, False, False, False, False, False, False,\n",
       "                    False, False],\n",
       "        fill_value='?',\n",
       "             dtype=object),\n",
       " 'params': [{'learning_rate': 0.1, 'n_estimators': 50},\n",
       "  {'learning_rate': 0.1, 'n_estimators': 75},\n",
       "  {'learning_rate': 0.1, 'n_estimators': 100},\n",
       "  {'learning_rate': 0.1, 'n_estimators': 150},\n",
       "  {'learning_rate': 0.1, 'n_estimators': 200},\n",
       "  {'learning_rate': 0.1, 'n_estimators': 250},\n",
       "  {'learning_rate': 0.05, 'n_estimators': 50},\n",
       "  {'learning_rate': 0.05, 'n_estimators': 75},\n",
       "  {'learning_rate': 0.05, 'n_estimators': 100},\n",
       "  {'learning_rate': 0.05, 'n_estimators': 150},\n",
       "  {'learning_rate': 0.05, 'n_estimators': 200},\n",
       "  {'learning_rate': 0.05, 'n_estimators': 250},\n",
       "  {'learning_rate': 0.01, 'n_estimators': 50},\n",
       "  {'learning_rate': 0.01, 'n_estimators': 75},\n",
       "  {'learning_rate': 0.01, 'n_estimators': 100},\n",
       "  {'learning_rate': 0.01, 'n_estimators': 150},\n",
       "  {'learning_rate': 0.01, 'n_estimators': 200},\n",
       "  {'learning_rate': 0.01, 'n_estimators': 250}],\n",
       " 'split0_test_score': array([0.2195418 , 0.22021638, 0.21310048, 0.21337613, 0.2074    ,\n",
       "        0.19806563, 0.21436851, 0.22311064, 0.22204507, 0.21737871,\n",
       "        0.22144365, 0.21947237, 0.11930458, 0.14663867, 0.16627683,\n",
       "        0.18965186, 0.20461748, 0.21252818]),\n",
       " 'split1_test_score': array([0.16675736, 0.15499993, 0.15352556, 0.14001985, 0.12936698,\n",
       "        0.12467633, 0.17045691, 0.16966012, 0.17320333, 0.16774202,\n",
       "        0.16507153, 0.15722254, 0.09536101, 0.12029024, 0.13883707,\n",
       "        0.16637483, 0.17042133, 0.17290974]),\n",
       " 'split2_test_score': array([0.23083736, 0.2178735 , 0.21381523, 0.20879007, 0.19960267,\n",
       "        0.19315109, 0.24326075, 0.2361956 , 0.22622059, 0.22168178,\n",
       "        0.21694109, 0.21385297, 0.14074045, 0.17199531, 0.19460295,\n",
       "        0.22519071, 0.23765371, 0.24312626]),\n",
       " 'split3_test_score': array([0.24905842, 0.23163207, 0.21348851, 0.19912226, 0.17001617,\n",
       "        0.16127959, 0.25583491, 0.25511104, 0.24882205, 0.23442322,\n",
       "        0.21152917, 0.20251951, 0.14788953, 0.1878045 , 0.21562184,\n",
       "        0.24841665, 0.25825196, 0.2596518 ]),\n",
       " 'split4_test_score': array([0.14967389, 0.1511167 , 0.15003406, 0.14209982, 0.14610811,\n",
       "        0.14526015, 0.15629415, 0.15774445, 0.15153782, 0.15237934,\n",
       "        0.15564742, 0.15310986, 0.091078  , 0.11702644, 0.13132872,\n",
       "        0.14650119, 0.15246901, 0.1556086 ]),\n",
       " 'split5_test_score': array([0.22397307, 0.22565102, 0.22621316, 0.22464257, 0.2220306 ,\n",
       "        0.20110932, 0.21062235, 0.22375857, 0.2251545 , 0.22748216,\n",
       "        0.22494321, 0.2261349 , 0.11732789, 0.1475521 , 0.16857176,\n",
       "        0.1901494 , 0.20314936, 0.21118975]),\n",
       " 'split6_test_score': array([0.09307306, 0.09125242, 0.09308539, 0.07277842, 0.07020783,\n",
       "        0.06061314, 0.10220473, 0.09857211, 0.09300908, 0.09082334,\n",
       "        0.08896751, 0.08396383, 0.08191534, 0.10114254, 0.10741744,\n",
       "        0.11272383, 0.1076041 , 0.10476412]),\n",
       " 'split7_test_score': array([0.18333983, 0.1677022 , 0.14612076, 0.1263411 , 0.11242003,\n",
       "        0.10552664, 0.18538961, 0.18710768, 0.1799366 , 0.17436335,\n",
       "        0.15725782, 0.14082234, 0.1104979 , 0.13841647, 0.15604836,\n",
       "        0.17578122, 0.18028047, 0.18300012]),\n",
       " 'split8_test_score': array([0.25471145, 0.24914656, 0.24962619, 0.24865479, 0.23957991,\n",
       "        0.23381429, 0.24796205, 0.25549859, 0.25502454, 0.25589325,\n",
       "        0.25400502, 0.25829234, 0.1245629 , 0.15856283, 0.18400127,\n",
       "        0.2138896 , 0.22988848, 0.24233003]),\n",
       " 'split9_test_score': array([0.28621147, 0.27701919, 0.27196817, 0.2610246 , 0.2770644 ,\n",
       "        0.27111863, 0.27501643, 0.28412435, 0.28254458, 0.27883485,\n",
       "        0.26818558, 0.2620982 , 0.14627866, 0.18483775, 0.21339324,\n",
       "        0.24612813, 0.26767369, 0.27782348]),\n",
       " 'split10_test_score': array([0.23867322, 0.2417698 , 0.23592006, 0.2311861 , 0.2225271 ,\n",
       "        0.22924442, 0.23481616, 0.24366419, 0.24017509, 0.2445666 ,\n",
       "        0.25025894, 0.24722488, 0.11946927, 0.1541179 , 0.17838695,\n",
       "        0.20606368, 0.22084012, 0.22865495]),\n",
       " 'split11_test_score': array([0.17748186, 0.17663535, 0.17007973, 0.16335648, 0.16274099,\n",
       "        0.1484667 , 0.17907775, 0.17135469, 0.16753629, 0.16573484,\n",
       "        0.16139802, 0.16139919, 0.11303661, 0.13541885, 0.15026076,\n",
       "        0.17099118, 0.18081501, 0.18276743]),\n",
       " 'split12_test_score': array([0.07430488, 0.06514545, 0.05502465, 0.04413949, 0.03872908,\n",
       "        0.02855839, 0.08921307, 0.08327515, 0.08042454, 0.07325719,\n",
       "        0.06742396, 0.063712  , 0.0664441 , 0.07781633, 0.08419046,\n",
       "        0.08699565, 0.08730294, 0.08832925]),\n",
       " 'split13_test_score': array([0.25369365, 0.25798895, 0.24908976, 0.23200224, 0.21610841,\n",
       "        0.19933252, 0.22535721, 0.24816086, 0.25798493, 0.24572679,\n",
       "        0.23975282, 0.22415944, 0.09489014, 0.13076202, 0.15601296,\n",
       "        0.18938447, 0.20947324, 0.22278378]),\n",
       " 'split14_test_score': array([0.29129794, 0.29661432, 0.29890269, 0.29256191, 0.28433892,\n",
       "        0.28287928, 0.27254369, 0.28720636, 0.29119978, 0.29334725,\n",
       "        0.29037537, 0.28629925, 0.13639755, 0.17650917, 0.20746167,\n",
       "        0.2417823 , 0.26085289, 0.27301223]),\n",
       " 'split15_test_score': array([0.25823704, 0.25232886, 0.24337439, 0.23068762, 0.22069999,\n",
       "        0.20956458, 0.26203174, 0.26595903, 0.26141299, 0.25940971,\n",
       "        0.25166894, 0.24586016, 0.14092397, 0.180369  , 0.20607939,\n",
       "        0.23575223, 0.24813101, 0.2583119 ]),\n",
       " 'split16_test_score': array([0.23180385, 0.2219683 , 0.21632905, 0.19572375, 0.20067725,\n",
       "        0.19581677, 0.23085766, 0.24838972, 0.24569139, 0.23791323,\n",
       "        0.22727286, 0.22097081, 0.11152514, 0.14511952, 0.16925946,\n",
       "        0.19734347, 0.21704226, 0.22769651]),\n",
       " 'split17_test_score': array([0.17013483, 0.17510111, 0.18271329, 0.18266148, 0.17884199,\n",
       "        0.17484571, 0.16316125, 0.16971612, 0.17324484, 0.17618171,\n",
       "        0.17327824, 0.17307628, 0.09713466, 0.12112869, 0.1355889 ,\n",
       "        0.14702991, 0.15617092, 0.16186177]),\n",
       " 'split18_test_score': array([0.16248842, 0.16216197, 0.16378938, 0.1607045 , 0.14931702,\n",
       "        0.12895584, 0.16104606, 0.1661537 , 0.16402033, 0.15821943,\n",
       "        0.15959431, 0.15366643, 0.08582271, 0.10820069, 0.12397784,\n",
       "        0.14515074, 0.15327501, 0.15822129]),\n",
       " 'split19_test_score': array([0.1327801 , 0.12607741, 0.11923901, 0.10985705, 0.0863832 ,\n",
       "        0.08740571, 0.14173899, 0.13934149, 0.1386222 , 0.12681477,\n",
       "        0.12040089, 0.11669604, 0.08094628, 0.10363102, 0.11979027,\n",
       "        0.13657022, 0.14112894, 0.14036487]),\n",
       " 'mean_test_score': array([0.20240368, 0.19812008, 0.19327198, 0.18398651, 0.17670803,\n",
       "        0.16898424, 0.2010627 , 0.20570522, 0.20389053, 0.20010868,\n",
       "        0.19527082, 0.19052767, 0.11107733, 0.140367  , 0.16035541,\n",
       "        0.18359356, 0.1943521 , 0.2002468 ]),\n",
       " 'std_test_score': array([0.05925119, 0.05994068, 0.06026351, 0.06225676, 0.06408385,\n",
       "        0.06472091, 0.05323163, 0.05780239, 0.0587058 , 0.05941413,\n",
       "        0.05890642, 0.05932755, 0.02330359, 0.03003524, 0.03608791,\n",
       "        0.04412835, 0.04960354, 0.0529022 ]),\n",
       " 'rank_test_score': array([ 3,  7, 10, 12, 14, 15,  4,  1,  2,  6,  8, 11, 18, 17, 16, 13,  9,\n",
       "         5], dtype=int32)}"
      ]
     },
     "execution_count": 94,
     "metadata": {},
     "output_type": "execute_result"
    }
   ],
   "source": [
    "clf.cv_results_"
   ]
  },
  {
   "cell_type": "code",
   "execution_count": 90,
   "metadata": {},
   "outputs": [
    {
     "data": {
      "text/plain": [
       "1577    4.000000\n",
       "151     6.666667\n",
       "1032    6.666667\n",
       "460     5.333333\n",
       "1988    6.333333\n",
       "          ...   \n",
       "2895    1.666667\n",
       "2763    6.000000\n",
       "905     6.666667\n",
       "3980    2.333333\n",
       "235     6.333333\n",
       "Name: ratings, Length: 2979, dtype: float64"
      ]
     },
     "execution_count": 90,
     "metadata": {},
     "output_type": "execute_result"
    }
   ],
   "source": [
    "y_train"
   ]
  },
  {
   "cell_type": "code",
   "execution_count": 34,
   "metadata": {},
   "outputs": [],
   "source": [
    "result = pd.DataFrame(clf.cv_results_)\n",
    "result = result.iloc[:,result.columns.str.contains('split')]"
   ]
  },
  {
   "cell_type": "code",
   "execution_count": 35,
   "metadata": {},
   "outputs": [],
   "source": [
    "confidence_interval = []\n",
    "for i in range(result.shape[0]):\n",
    "    ci = sorted(result.loc[i,:])\n",
    "    confidence_interval.append([ci[1],ci[18]])"
   ]
  },
  {
   "cell_type": "code",
   "execution_count": 36,
   "metadata": {},
   "outputs": [
    {
     "data": {
      "text/plain": [
       "0     0.202404\n",
       "1     0.198120\n",
       "2     0.193272\n",
       "3     0.183987\n",
       "4     0.176708\n",
       "5     0.168984\n",
       "6     0.201063\n",
       "7     0.205705\n",
       "8     0.203891\n",
       "9     0.200109\n",
       "10    0.195271\n",
       "11    0.190528\n",
       "12    0.111077\n",
       "13    0.140367\n",
       "14    0.160355\n",
       "15    0.183594\n",
       "16    0.194352\n",
       "17    0.200247\n",
       "dtype: float64"
      ]
     },
     "execution_count": 36,
     "metadata": {},
     "output_type": "execute_result"
    }
   ],
   "source": [
    "result.mean(axis = 1)"
   ]
  },
  {
   "cell_type": "code",
   "execution_count": 37,
   "metadata": {},
   "outputs": [
    {
     "data": {
      "text/plain": [
       "[[0.09307305582617853, 0.2862114689320536],\n",
       " [0.09125241712184928, 0.27701918816167304],\n",
       " [0.0930853873404558, 0.2719681746854343],\n",
       " [0.07277842323517003, 0.26102460035599684],\n",
       " [0.07020783417756882, 0.2770644038243123],\n",
       " [0.06061314272420293, 0.2711186333740343],\n",
       " [0.1022047315691259, 0.27254368982077337],\n",
       " [0.09857211166559698, 0.2841243467943312],\n",
       " [0.09300908432308341, 0.2825445778465687],\n",
       " [0.09082334467606779, 0.27883485152983567],\n",
       " [0.08896750954079446, 0.268185577833981],\n",
       " [0.0839638345553575, 0.26209820225869707],\n",
       " [0.08094627893163941, 0.14627866411925217],\n",
       " [0.10114253789787109, 0.1848377548684752],\n",
       " [0.10741743693012962, 0.21339323840898317],\n",
       " [0.11272383335274083, 0.246128130170717],\n",
       " [0.10760410213380911, 0.260852887010911],\n",
       " [0.10476411673807973, 0.27301223260640173]]"
      ]
     },
     "execution_count": 37,
     "metadata": {},
     "output_type": "execute_result"
    }
   ],
   "source": [
    "confidence_interval"
   ]
  },
  {
   "cell_type": "code",
   "execution_count": 38,
   "metadata": {},
   "outputs": [],
   "source": [
    "optimal_reg = ensemble.GradientBoostingRegressor(**best_param).fit(X_train,y_train)"
   ]
  },
  {
   "cell_type": "code",
   "execution_count": 39,
   "metadata": {},
   "outputs": [
    {
     "data": {
      "text/plain": [
       "0.2211172367853067"
      ]
     },
     "execution_count": 39,
     "metadata": {},
     "output_type": "execute_result"
    }
   ],
   "source": [
    "pred = optimal_reg.predict(X_test)\n",
    "r2 = metrics.r2_score(y_test,pred)\n",
    "r2"
   ]
  },
  {
   "cell_type": "markdown",
   "metadata": {},
   "source": [
    "## _Step 2:_ What influences papers getting accepted?\n",
    "\n",
    "Time to change hats!\n",
    "\n",
    "If before we were interested in creating an accurate regressor, now we are interested in understanding what increases the chance of papers getting accepted. \n",
    "\n",
    "Typically, in that scenario, simpler models with a clear statistical interpretation (e.g. logistic regression) yield more interesting insights.\n",
    "\n",
    "For the analysis in this and the next step, you should use [statsmodels](https://www.statsmodels.org/) (for the regressions) and [scipy](https://www.scipy.org/) (for the statistical hypothesis testing).\n"
   ]
  },
  {
   "cell_type": "markdown",
   "metadata": {},
   "source": [
    "### Task 2.1\n",
    "\n",
    "Let's warm up with some visualizations and some hypothesis testing!\n",
    "\n",
    "1. Plot the distributions of 1) ratings of papers that got accepted in 2020, 2) ratings of papers that got rejected in 2020.\n",
    "2. Select a statistical test to compare whether the mean for ratings of papers that got accepted in 2020 is significantly higher.\n",
    "3. **Discuss:** Justify why the statistical test you selected is appropriate. Interpret the test-related statistic and its p-value: concretely, what do they mean?"
   ]
  },
  {
   "cell_type": "code",
   "execution_count": 40,
   "metadata": {
    "scrolled": true
   },
   "outputs": [],
   "source": [
    "accept_2020 = df[(df['year'] == 2020)&(df['decisions'] == 'Accept')]['ratings']\n",
    "reject_2020 = df[(df['year'] == 2020)&(df['decisions'] == 'Reject')]['ratings']"
   ]
  },
  {
   "cell_type": "code",
   "execution_count": 41,
   "metadata": {},
   "outputs": [
    {
     "data": {
      "text/plain": [
       "<AxesSubplot:>"
      ]
     },
     "execution_count": 41,
     "metadata": {},
     "output_type": "execute_result"
    },
    {
     "data": {
      "image/png": "[encoded data removed]",
      "text/plain": [
       "<Figure size 432x288 with 1 Axes>"
      ]
     },
     "metadata": {
      "needs_background": "light"
     },
     "output_type": "display_data"
    }
   ],
   "source": [
    "accept_2020.hist(bins = 30)"
   ]
  },
  {
   "cell_type": "code",
   "execution_count": 42,
   "metadata": {
    "scrolled": true
   },
   "outputs": [
    {
     "data": {
      "text/plain": [
       "<AxesSubplot:>"
      ]
     },
     "execution_count": 42,
     "metadata": {},
     "output_type": "execute_result"
    },
    {
     "data": {
      "image/png": "[encoded data removed]",
      "text/plain": [
       "<Figure size 432x288 with 1 Axes>"
      ]
     },
     "metadata": {
      "needs_background": "light"
     },
     "output_type": "display_data"
    }
   ],
   "source": [
    "reject_2020.hist(bins = 30)"
   ]
  },
  {
   "cell_type": "code",
   "execution_count": 43,
   "metadata": {},
   "outputs": [
    {
     "data": {
      "text/plain": [
       "<AxesSubplot:>"
      ]
     },
     "execution_count": 43,
     "metadata": {},
     "output_type": "execute_result"
    },
    {
     "data": {
      "image/png": "[encoded data removed]",
      "text/plain": [
       "<Figure size 432x288 with 1 Axes>"
      ]
     },
     "metadata": {
      "needs_background": "light"
     },
     "output_type": "display_data"
    }
   ],
   "source": [
    "accept_2020.plot.box()"
   ]
  },
  {
   "cell_type": "code",
   "execution_count": 44,
   "metadata": {},
   "outputs": [
    {
     "data": {
      "text/plain": [
       "<AxesSubplot:>"
      ]
     },
     "execution_count": 44,
     "metadata": {},
     "output_type": "execute_result"
    },
    {
     "data": {
      "image/png": "[encoded data removed]",
      "text/plain": [
       "<Figure size 432x288 with 1 Axes>"
      ]
     },
     "metadata": {
      "needs_background": "light"
     },
     "output_type": "display_data"
    }
   ],
   "source": [
    "reject_2020.plot.box()"
   ]
  },
  {
   "cell_type": "code",
   "execution_count": 45,
   "metadata": {},
   "outputs": [
    {
     "data": {
      "text/plain": [
       "6.138632750397457"
      ]
     },
     "execution_count": 45,
     "metadata": {},
     "output_type": "execute_result"
    }
   ],
   "source": [
    "accept_2020.mean()"
   ]
  },
  {
   "cell_type": "code",
   "execution_count": 46,
   "metadata": {},
   "outputs": [
    {
     "data": {
      "text/plain": [
       "3.6832747716092755"
      ]
     },
     "execution_count": 46,
     "metadata": {},
     "output_type": "execute_result"
    }
   ],
   "source": [
    "reject_2020.mean()"
   ]
  },
  {
   "cell_type": "code",
   "execution_count": 47,
   "metadata": {},
   "outputs": [
    {
     "data": {
      "text/plain": [
       "Ttest_indResult(statistic=45.79777665813106, pvalue=5.21595695e-316)"
      ]
     },
     "execution_count": 47,
     "metadata": {},
     "output_type": "execute_result"
    }
   ],
   "source": [
    "scipy.stats.ttest_ind(accept_2020, reject_2020)"
   ]
  },
  {
   "cell_type": "code",
   "execution_count": 48,
   "metadata": {},
   "outputs": [
    {
     "data": {
      "text/html": [
       "<div>\n",
       "<style scoped>\n",
       "    .dataframe tbody tr th:only-of-type {\n",
       "        vertical-align: middle;\n",
       "    }\n",
       "\n",
       "    .dataframe tbody tr th {\n",
       "        vertical-align: top;\n",
       "    }\n",
       "\n",
       "    .dataframe thead th {\n",
       "        text-align: right;\n",
       "    }\n",
       "</style>\n",
       "<table border=\"1\" class=\"dataframe\">\n",
       "  <thead>\n",
       "    <tr style=\"text-align: right;\">\n",
       "      <th></th>\n",
       "      <th>year</th>\n",
       "      <th>paper</th>\n",
       "      <th>authors</th>\n",
       "      <th>ratings</th>\n",
       "      <th>decisions</th>\n",
       "      <th>institution</th>\n",
       "      <th>csranking</th>\n",
       "      <th>categories</th>\n",
       "      <th>authors_citations</th>\n",
       "      <th>authors_publications</th>\n",
       "      <th>...</th>\n",
       "      <th>reputation</th>\n",
       "      <th>has_top_company</th>\n",
       "      <th>has_top_institution</th>\n",
       "      <th>arxiv_False</th>\n",
       "      <th>arxiv_True</th>\n",
       "      <th>year_2018</th>\n",
       "      <th>year_2019</th>\n",
       "      <th>year_2020</th>\n",
       "      <th>reputation_one</th>\n",
       "      <th>crazy</th>\n",
       "    </tr>\n",
       "  </thead>\n",
       "  <tbody>\n",
       "    <tr>\n",
       "      <th>0</th>\n",
       "      <td>2018</td>\n",
       "      <td>Certifying Some Distributional Robustness with...</td>\n",
       "      <td>Aman Sinha;Hongseok Namkoong;John Duchi</td>\n",
       "      <td>9.000000</td>\n",
       "      <td>Accept</td>\n",
       "      <td>Stanford University;Stanford University;Stanfo...</td>\n",
       "      <td>[4, 4, 4]</td>\n",
       "      <td>4</td>\n",
       "      <td>[655, 904, 12908]</td>\n",
       "      <td>[42, 19, 162]</td>\n",
       "      <td>...</td>\n",
       "      <td>1.906761</td>\n",
       "      <td>0</td>\n",
       "      <td>1</td>\n",
       "      <td>0</td>\n",
       "      <td>1</td>\n",
       "      <td>1</td>\n",
       "      <td>0</td>\n",
       "      <td>0</td>\n",
       "      <td>1.219983</td>\n",
       "      <td>0.000000</td>\n",
       "    </tr>\n",
       "    <tr>\n",
       "      <th>1</th>\n",
       "      <td>2018</td>\n",
       "      <td>Parametric Information Bottleneck to Optimize ...</td>\n",
       "      <td>Thanh T. Nguyen;Jaesik Choi</td>\n",
       "      <td>4.666667</td>\n",
       "      <td>Reject</td>\n",
       "      <td>Ulsan National Institute of Science and Techno...</td>\n",
       "      <td>[468, 468]</td>\n",
       "      <td>8</td>\n",
       "      <td>[1052, 727]</td>\n",
       "      <td>[86, 88]</td>\n",
       "      <td>...</td>\n",
       "      <td>0.966675</td>\n",
       "      <td>0</td>\n",
       "      <td>0</td>\n",
       "      <td>1</td>\n",
       "      <td>0</td>\n",
       "      <td>1</td>\n",
       "      <td>0</td>\n",
       "      <td>0</td>\n",
       "      <td>1.121644</td>\n",
       "      <td>-4.666667</td>\n",
       "    </tr>\n",
       "    <tr>\n",
       "      <th>2</th>\n",
       "      <td>2018</td>\n",
       "      <td>Towards Neural Phrase-based Machine Translation</td>\n",
       "      <td>Po-Sen Huang;Chong Wang;Sitao Huang;Dengyong Z...</td>\n",
       "      <td>6.666667</td>\n",
       "      <td>Accept</td>\n",
       "      <td>Microsoft;Google;University of Illinois, Urban...</td>\n",
       "      <td>[-1, -1, 3, -1, -1]</td>\n",
       "      <td>3;2</td>\n",
       "      <td>[1718, 17889, 161, 8800, 20766]</td>\n",
       "      <td>[59, 1045, 17, 78, 409]</td>\n",
       "      <td>...</td>\n",
       "      <td>1.714100</td>\n",
       "      <td>1</td>\n",
       "      <td>1</td>\n",
       "      <td>0</td>\n",
       "      <td>1</td>\n",
       "      <td>1</td>\n",
       "      <td>0</td>\n",
       "      <td>0</td>\n",
       "      <td>1.478835</td>\n",
       "      <td>2.333333</td>\n",
       "    </tr>\n",
       "    <tr>\n",
       "      <th>3</th>\n",
       "      <td>2018</td>\n",
       "      <td>Interactive Grounded Language Acquisition and ...</td>\n",
       "      <td>Haonan Yu;Haichao Zhang;Wei Xu</td>\n",
       "      <td>6.333333</td>\n",
       "      <td>Accept</td>\n",
       "      <td>Baidu;Baidu;Baidu</td>\n",
       "      <td>[-1, -1, -1]</td>\n",
       "      <td>6;8</td>\n",
       "      <td>[890, 1382, 9553]</td>\n",
       "      <td>[37, 63, 557]</td>\n",
       "      <td>...</td>\n",
       "      <td>1.258896</td>\n",
       "      <td>0</td>\n",
       "      <td>0</td>\n",
       "      <td>1</td>\n",
       "      <td>0</td>\n",
       "      <td>1</td>\n",
       "      <td>0</td>\n",
       "      <td>0</td>\n",
       "      <td>1.398878</td>\n",
       "      <td>2.666667</td>\n",
       "    </tr>\n",
       "    <tr>\n",
       "      <th>4</th>\n",
       "      <td>2018</td>\n",
       "      <td>A Boo(n) for Evaluating Architecture Performance</td>\n",
       "      <td>Ondrej Bajgar;Rudolf Kadlec;and Jan Kleindienst</td>\n",
       "      <td>4.666667</td>\n",
       "      <td>Reject</td>\n",
       "      <td>;International Business Machines;International...</td>\n",
       "      <td>[-1, -1, -1]</td>\n",
       "      <td>0</td>\n",
       "      <td>[366, 678, 658]</td>\n",
       "      <td>[10, 40, 76]</td>\n",
       "      <td>...</td>\n",
       "      <td>0.984882</td>\n",
       "      <td>0</td>\n",
       "      <td>0</td>\n",
       "      <td>1</td>\n",
       "      <td>0</td>\n",
       "      <td>1</td>\n",
       "      <td>0</td>\n",
       "      <td>0</td>\n",
       "      <td>1.575188</td>\n",
       "      <td>-4.666667</td>\n",
       "    </tr>\n",
       "  </tbody>\n",
       "</table>\n",
       "<p>5 rows × 25 columns</p>\n",
       "</div>"
      ],
      "text/plain": [
       "   year                                              paper  \\\n",
       "0  2018  Certifying Some Distributional Robustness with...   \n",
       "1  2018  Parametric Information Bottleneck to Optimize ...   \n",
       "2  2018    Towards Neural Phrase-based Machine Translation   \n",
       "3  2018  Interactive Grounded Language Acquisition and ...   \n",
       "4  2018   A Boo(n) for Evaluating Architecture Performance   \n",
       "\n",
       "                                             authors   ratings decisions  \\\n",
       "0            Aman Sinha;Hongseok Namkoong;John Duchi  9.000000    Accept   \n",
       "1                        Thanh T. Nguyen;Jaesik Choi  4.666667    Reject   \n",
       "2  Po-Sen Huang;Chong Wang;Sitao Huang;Dengyong Z...  6.666667    Accept   \n",
       "3                     Haonan Yu;Haichao Zhang;Wei Xu  6.333333    Accept   \n",
       "4    Ondrej Bajgar;Rudolf Kadlec;and Jan Kleindienst  4.666667    Reject   \n",
       "\n",
       "                                         institution            csranking  \\\n",
       "0  Stanford University;Stanford University;Stanfo...            [4, 4, 4]   \n",
       "1  Ulsan National Institute of Science and Techno...           [468, 468]   \n",
       "2  Microsoft;Google;University of Illinois, Urban...  [-1, -1, 3, -1, -1]   \n",
       "3                                  Baidu;Baidu;Baidu         [-1, -1, -1]   \n",
       "4  ;International Business Machines;International...         [-1, -1, -1]   \n",
       "\n",
       "  categories                authors_citations     authors_publications  ...  \\\n",
       "0          4                [655, 904, 12908]            [42, 19, 162]  ...   \n",
       "1          8                      [1052, 727]                 [86, 88]  ...   \n",
       "2        3;2  [1718, 17889, 161, 8800, 20766]  [59, 1045, 17, 78, 409]  ...   \n",
       "3        6;8                [890, 1382, 9553]            [37, 63, 557]  ...   \n",
       "4          0                  [366, 678, 658]             [10, 40, 76]  ...   \n",
       "\n",
       "  reputation  has_top_company  has_top_institution  arxiv_False  arxiv_True  \\\n",
       "0   1.906761                0                    1            0           1   \n",
       "1   0.966675                0                    0            1           0   \n",
       "2   1.714100                1                    1            0           1   \n",
       "3   1.258896                0                    0            1           0   \n",
       "4   0.984882                0                    0            1           0   \n",
       "\n",
       "   year_2018  year_2019  year_2020  reputation_one     crazy  \n",
       "0          1          0          0        1.219983  0.000000  \n",
       "1          1          0          0        1.121644 -4.666667  \n",
       "2          1          0          0        1.478835  2.333333  \n",
       "3          1          0          0        1.398878  2.666667  \n",
       "4          1          0          0        1.575188 -4.666667  \n",
       "\n",
       "[5 rows x 25 columns]"
      ]
     },
     "execution_count": 48,
     "metadata": {},
     "output_type": "execute_result"
    }
   ],
   "source": [
    "df.head()"
   ]
  },
  {
   "cell_type": "markdown",
   "metadata": {},
   "source": [
    "### Task 2.2\n",
    "\n",
    "We will now carry out a logistic regression modeling the binary variable `decisions` as a function of the continuous variable `ratings` and an intercept. \n",
    "\n",
    "Recall that a logistic regression is a model in the form:\n",
    "\n",
    "$$\n",
    "\\log \\Big( \\frac{p}{1-p} \\Big) = b_0 + b_1x_1 + b_2x_2 + \\ldots\n",
    "$$\n",
    "\n",
    "Where $p$ is the probability of the dependent variable (here, `decisions`) being equals to 1. \n",
    "Note that $\\frac{p}{1-p}$ represents the odds of the variable, and thus, on the left-hand side we have the log-odds of the variable.\n",
    "This can be also written as:\n",
    "\n",
    "$$\n",
    "\\Big( \\frac{p}{1-p} \\Big) = e^{b_0 + b_1 x_1 + b_2 x_2 + \\ldots} =  e^{b_0} e^{b_1 x_1} e^{b_2 x_2} \\ldots\n",
    "$$\n",
    "\n",
    "Given a linear variable, say $x_1$, if we increase the value associated with this variable by a single unit, and keep everything constant, we have:\n",
    "\n",
    "$$\n",
    " e^{b_1(x_1+1)} =  e^{b_1 x_1 + b_1} = e^{b_1 x_1}e^{b_1}  \n",
    "$$\n",
    "\n",
    "This means that we multiply the odds of the outcome variable by $e^{b_1}$. Thus, let's say that $x_1$ is the average rating, and $\\beta_1$ is the associated coefficient. Also, let's assume that $\\beta_1$ equals 2. In that case, increasing the score of the paper by 1 unit is equivalent to multiplying both sides of the previous equation by $e^{b_1}$. The original equation for our model becomes:\n",
    "\n",
    "$$\n",
    "\\Big( \\frac{p}{1-p} \\Big) = e^{b_0} e^{b_1 x_1} \n",
    "$$\n",
    "$$\n",
    "\\Big( \\frac{p}{1-p} \\Big) e^{b_1}  = e^{b_0} e^{b_1 x_1} e^{b_1}\n",
    "$$\n",
    "\n",
    "Since $b_1=2$, we have that this is the same as multiplying the odds of the variable by $e^2\\approx7$. \n",
    "So for example, if a paper with a score 5 had $p=0.05$ of being approved, its odds would be $0.05/0.95\\approx0.052$. According to our model, an increase in 1-rating point would mean that the new odds would be $0.052*7\\approx0.36$. Using the odds formula  ($\\frac{p}{1-p}$), this suggests that this paper would have a chance of $0.56$ of being accepted.\n",
    "\n",
    "---\n",
    "\n",
    "This is the theory. Now, let's find out what the real world looks like.\n",
    "\n",
    "\n",
    "1. Fit a logistic regression model to our data considering as the training set all papers submitted in 2020. Your model should predict a binary variable related to decisions (which equals true if the paper was accepted and false otherwise) as a function of the paper ratings and an intercept. In mathematical notation:\n",
    "$$\n",
    "d = b_0 + r b_1\n",
    "$$\n",
    "Where $d$ is the binary variable corresponding to a decision, $r$ is a numeric variable corresponding to the rating a paper has received and $b$ are coefficients.\n",
    "Notice that here we have no testing set!\n",
    "Report the summary of your model. \n",
    "2. **Discuss:** Interpreting the coefficients of your model, calculate the probability that a paper with a score 7 will be accepted.\n"
   ]
  },
  {
   "cell_type": "code",
   "execution_count": 49,
   "metadata": {
    "scrolled": true
   },
   "outputs": [],
   "source": [
    "def decisions(x):\n",
    "    if x == 'Accept':\n",
    "        return 1\n",
    "    else:\n",
    "        return 0\n",
    "\n",
    "df['decisions'] = df['decisions'].apply(decisions)"
   ]
  },
  {
   "cell_type": "code",
   "execution_count": 50,
   "metadata": {},
   "outputs": [],
   "source": [
    "df_20 = df[df['year'] == 2020]\n",
    "X = df_20['ratings']\n",
    "X = sm.add_constant(X)\n",
    "y = df_20['decisions']"
   ]
  },
  {
   "cell_type": "code",
   "execution_count": 51,
   "metadata": {},
   "outputs": [
    {
     "data": {
      "text/plain": [
       "2204    1\n",
       "2205    1\n",
       "2206    1\n",
       "2207    1\n",
       "2208    1\n",
       "       ..\n",
       "4251    0\n",
       "4252    0\n",
       "4253    0\n",
       "4254    0\n",
       "4255    0\n",
       "Name: decisions, Length: 2052, dtype: int64"
      ]
     },
     "execution_count": 51,
     "metadata": {},
     "output_type": "execute_result"
    }
   ],
   "source": [
    "y"
   ]
  },
  {
   "cell_type": "code",
   "execution_count": 52,
   "metadata": {
    "scrolled": false
   },
   "outputs": [
    {
     "name": "stdout",
     "output_type": "stream",
     "text": [
      "Optimization terminated successfully.\n",
      "         Current function value: 0.251882\n",
      "         Iterations 8\n"
     ]
    }
   ],
   "source": [
    "log = sm.Logit(y, X).fit()"
   ]
  },
  {
   "cell_type": "code",
   "execution_count": 53,
   "metadata": {},
   "outputs": [
    {
     "data": {
      "text/html": [
       "<table class=\"simpletable\">\n",
       "<caption>Logit Regression Results</caption>\n",
       "<tr>\n",
       "  <th>Dep. Variable:</th>       <td>decisions</td>    <th>  No. Observations:  </th>  <td>  2052</td> \n",
       "</tr>\n",
       "<tr>\n",
       "  <th>Model:</th>                 <td>Logit</td>      <th>  Df Residuals:      </th>  <td>  2050</td> \n",
       "</tr>\n",
       "<tr>\n",
       "  <th>Method:</th>                 <td>MLE</td>       <th>  Df Model:          </th>  <td>     1</td> \n",
       "</tr>\n",
       "<tr>\n",
       "  <th>Date:</th>            <td>Tue, 17 Nov 2020</td> <th>  Pseudo R-squ.:     </th>  <td>0.5913</td> \n",
       "</tr>\n",
       "<tr>\n",
       "  <th>Time:</th>                <td>14:53:07</td>     <th>  Log-Likelihood:    </th> <td> -516.86</td>\n",
       "</tr>\n",
       "<tr>\n",
       "  <th>converged:</th>             <td>True</td>       <th>  LL-Null:           </th> <td> -1264.6</td>\n",
       "</tr>\n",
       "<tr>\n",
       "  <th>Covariance Type:</th>     <td>nonrobust</td>    <th>  LLR p-value:       </th>  <td> 0.000</td> \n",
       "</tr>\n",
       "</table>\n",
       "<table class=\"simpletable\">\n",
       "<tr>\n",
       "     <td></td>        <th>coef</th>     <th>std err</th>      <th>z</th>      <th>P>|z|</th>  <th>[0.025</th>    <th>0.975]</th>  \n",
       "</tr>\n",
       "<tr>\n",
       "  <th>const</th>   <td>  -12.8811</td> <td>    0.597</td> <td>  -21.574</td> <td> 0.000</td> <td>  -14.051</td> <td>  -11.711</td>\n",
       "</tr>\n",
       "<tr>\n",
       "  <th>ratings</th> <td>    2.3672</td> <td>    0.110</td> <td>   21.438</td> <td> 0.000</td> <td>    2.151</td> <td>    2.584</td>\n",
       "</tr>\n",
       "</table>"
      ],
      "text/plain": [
       "<class 'statsmodels.iolib.summary.Summary'>\n",
       "\"\"\"\n",
       "                           Logit Regression Results                           \n",
       "==============================================================================\n",
       "Dep. Variable:              decisions   No. Observations:                 2052\n",
       "Model:                          Logit   Df Residuals:                     2050\n",
       "Method:                           MLE   Df Model:                            1\n",
       "Date:                Tue, 17 Nov 2020   Pseudo R-squ.:                  0.5913\n",
       "Time:                        14:53:07   Log-Likelihood:                -516.86\n",
       "converged:                       True   LL-Null:                       -1264.6\n",
       "Covariance Type:            nonrobust   LLR p-value:                     0.000\n",
       "==============================================================================\n",
       "                 coef    std err          z      P>|z|      [0.025      0.975]\n",
       "------------------------------------------------------------------------------\n",
       "const        -12.8811      0.597    -21.574      0.000     -14.051     -11.711\n",
       "ratings        2.3672      0.110     21.438      0.000       2.151       2.584\n",
       "==============================================================================\n",
       "\"\"\""
      ]
     },
     "execution_count": 53,
     "metadata": {},
     "output_type": "execute_result"
    }
   ],
   "source": [
    "log.summary()"
   ]
  },
  {
   "cell_type": "code",
   "execution_count": 54,
   "metadata": {},
   "outputs": [
    {
     "data": {
      "text/plain": [
       "array([0.97562427])"
      ]
     },
     "execution_count": 54,
     "metadata": {},
     "output_type": "execute_result"
    }
   ],
   "source": [
    "log.predict([1,7])"
   ]
  },
  {
   "cell_type": "markdown",
   "metadata": {},
   "source": [
    "### Task 2.3\n",
    "\n",
    "Our model is not so interesting since the only independent variable (that is, our model' feature or predictor) is something blatantly associated with paper acceptance. Let's go further! \n",
    "\n",
    "1. Run a logistic regression with the binary decision as the dependent variable (the outcome) and using as independent variables (the features): ratings, the reputation of the last author, and whether the paper was on arxiv or not. That is, in [patsy-style formula](https://patsy.readthedocs.io/en/latest/formulas.html): `decisions ~ ratings + reputation + arxiv` (variable names do not need to be exactly these). Consider all papers submitted in 2020 as your training data.\n",
    "Notice that reputation was calculated in Task 1.1. \n",
    "2. **Discuss:** Unlike `ratings` and `reputation`, the variable `arxiv` is binary. Following the same logic as we did for continuous variables in the text of Task 2.2, interpret the meaning of this coefficient. What happens to the odds ratio if the paper was seen in arxiv? Is this effect statistically significant?"
   ]
  },
  {
   "cell_type": "code",
   "execution_count": 55,
   "metadata": {},
   "outputs": [
    {
     "data": {
      "text/plain": [
       "count    2052.000000\n",
       "mean        1.309256\n",
       "std         0.551904\n",
       "min         0.029963\n",
       "25%         0.929711\n",
       "50%         1.315103\n",
       "75%         1.671414\n",
       "max         3.174548\n",
       "Name: reputation, dtype: float64"
      ]
     },
     "execution_count": 55,
     "metadata": {},
     "output_type": "execute_result"
    }
   ],
   "source": [
    "df_20['reputation'].describe()"
   ]
  },
  {
   "cell_type": "code",
   "execution_count": 56,
   "metadata": {
    "scrolled": true
   },
   "outputs": [
    {
     "name": "stdout",
     "output_type": "stream",
     "text": [
      "Optimization terminated successfully.\n",
      "         Current function value: 0.250440\n",
      "         Iterations 8\n"
     ]
    }
   ],
   "source": [
    "formula = 'decisions ~ ratings + reputation + C(arxiv_True)'\n",
    "log_2 = sm.Logit.from_formula(formula,data = df_20).fit()"
   ]
  },
  {
   "cell_type": "code",
   "execution_count": 57,
   "metadata": {
    "scrolled": true
   },
   "outputs": [
    {
     "data": {
      "text/html": [
       "<table class=\"simpletable\">\n",
       "<caption>Logit Regression Results</caption>\n",
       "<tr>\n",
       "  <th>Dep. Variable:</th>       <td>decisions</td>    <th>  No. Observations:  </th>  <td>  2052</td> \n",
       "</tr>\n",
       "<tr>\n",
       "  <th>Model:</th>                 <td>Logit</td>      <th>  Df Residuals:      </th>  <td>  2048</td> \n",
       "</tr>\n",
       "<tr>\n",
       "  <th>Method:</th>                 <td>MLE</td>       <th>  Df Model:          </th>  <td>     3</td> \n",
       "</tr>\n",
       "<tr>\n",
       "  <th>Date:</th>            <td>Tue, 17 Nov 2020</td> <th>  Pseudo R-squ.:     </th>  <td>0.5936</td> \n",
       "</tr>\n",
       "<tr>\n",
       "  <th>Time:</th>                <td>14:53:07</td>     <th>  Log-Likelihood:    </th> <td> -513.90</td>\n",
       "</tr>\n",
       "<tr>\n",
       "  <th>converged:</th>             <td>True</td>       <th>  LL-Null:           </th> <td> -1264.6</td>\n",
       "</tr>\n",
       "<tr>\n",
       "  <th>Covariance Type:</th>     <td>nonrobust</td>    <th>  LLR p-value:       </th>  <td> 0.000</td> \n",
       "</tr>\n",
       "</table>\n",
       "<table class=\"simpletable\">\n",
       "<tr>\n",
       "           <td></td>             <th>coef</th>     <th>std err</th>      <th>z</th>      <th>P>|z|</th>  <th>[0.025</th>    <th>0.975]</th>  \n",
       "</tr>\n",
       "<tr>\n",
       "  <th>Intercept</th>          <td>  -13.2261</td> <td>    0.634</td> <td>  -20.873</td> <td> 0.000</td> <td>  -14.468</td> <td>  -11.984</td>\n",
       "</tr>\n",
       "<tr>\n",
       "  <th>C(arxiv_True)[T.1]</th> <td>    0.2890</td> <td>    0.167</td> <td>    1.727</td> <td> 0.084</td> <td>   -0.039</td> <td>    0.617</td>\n",
       "</tr>\n",
       "<tr>\n",
       "  <th>ratings</th>            <td>    2.3541</td> <td>    0.111</td> <td>   21.296</td> <td> 0.000</td> <td>    2.137</td> <td>    2.571</td>\n",
       "</tr>\n",
       "<tr>\n",
       "  <th>reputation</th>         <td>    0.2267</td> <td>    0.148</td> <td>    1.533</td> <td> 0.125</td> <td>   -0.063</td> <td>    0.517</td>\n",
       "</tr>\n",
       "</table>"
      ],
      "text/plain": [
       "<class 'statsmodels.iolib.summary.Summary'>\n",
       "\"\"\"\n",
       "                           Logit Regression Results                           \n",
       "==============================================================================\n",
       "Dep. Variable:              decisions   No. Observations:                 2052\n",
       "Model:                          Logit   Df Residuals:                     2048\n",
       "Method:                           MLE   Df Model:                            3\n",
       "Date:                Tue, 17 Nov 2020   Pseudo R-squ.:                  0.5936\n",
       "Time:                        14:53:07   Log-Likelihood:                -513.90\n",
       "converged:                       True   LL-Null:                       -1264.6\n",
       "Covariance Type:            nonrobust   LLR p-value:                     0.000\n",
       "======================================================================================\n",
       "                         coef    std err          z      P>|z|      [0.025      0.975]\n",
       "--------------------------------------------------------------------------------------\n",
       "Intercept            -13.2261      0.634    -20.873      0.000     -14.468     -11.984\n",
       "C(arxiv_True)[T.1]     0.2890      0.167      1.727      0.084      -0.039       0.617\n",
       "ratings                2.3541      0.111     21.296      0.000       2.137       2.571\n",
       "reputation             0.2267      0.148      1.533      0.125      -0.063       0.517\n",
       "======================================================================================\n",
       "\"\"\""
      ]
     },
     "execution_count": 57,
     "metadata": {},
     "output_type": "execute_result"
    }
   ],
   "source": [
    "log_2.summary()"
   ]
  },
  {
   "cell_type": "code",
   "execution_count": null,
   "metadata": {},
   "outputs": [],
   "source": [
    "log_2.predict([1,7,1.2,1])"
   ]
  },
  {
   "cell_type": "markdown",
   "metadata": {},
   "source": [
    "### Task 2.4\n",
    "\n",
    "Let's finally move on to the question that you have been dying to answer: Do pre-prints favor top institutions? \n",
    "\n",
    "In order to (try to) answer that question, you must fit yet another logistic regression.\n",
    "\n",
    "Your regression should have the paper decision as the dependent variable, and `ratings`, `reputation`, and `arxiv` as independent variables just like in task 2.3. Yet, here, include also as independent variables the binary variable `has_top_institution`, which equals 1 if the paper has an author in a top-10 institution; and the interaction variable `arxiv:has_top_institution`, which equals one only if the paper is from a top-10 institution **and** if it appeared on arxiv before the submission deadline. In patsy-style formula your model should look something like: \n",
    "\n",
    "`decisions_bool ~ ratings + reputation + arxiv + has_top_institution + arxiv:has_top_institution`\n",
    "\n",
    "\n",
    "1. Fit this model and estimate the effect of posting on arxiv for a top institution. Again, consider only papers submitted in the 2020 edition.\n",
    "2. **Discuss:** Interpreting the p-values, discuss: is this evidence that arxiv breaks double-blind submissions?"
   ]
  },
  {
   "cell_type": "code",
   "execution_count": 58,
   "metadata": {},
   "outputs": [
    {
     "data": {
      "text/html": [
       "<div>\n",
       "<style scoped>\n",
       "    .dataframe tbody tr th:only-of-type {\n",
       "        vertical-align: middle;\n",
       "    }\n",
       "\n",
       "    .dataframe tbody tr th {\n",
       "        vertical-align: top;\n",
       "    }\n",
       "\n",
       "    .dataframe thead th {\n",
       "        text-align: right;\n",
       "    }\n",
       "</style>\n",
       "<table border=\"1\" class=\"dataframe\">\n",
       "  <thead>\n",
       "    <tr style=\"text-align: right;\">\n",
       "      <th></th>\n",
       "      <th>year</th>\n",
       "      <th>paper</th>\n",
       "      <th>authors</th>\n",
       "      <th>ratings</th>\n",
       "      <th>decisions</th>\n",
       "      <th>institution</th>\n",
       "      <th>csranking</th>\n",
       "      <th>categories</th>\n",
       "      <th>authors_citations</th>\n",
       "      <th>authors_publications</th>\n",
       "      <th>...</th>\n",
       "      <th>reputation</th>\n",
       "      <th>has_top_company</th>\n",
       "      <th>has_top_institution</th>\n",
       "      <th>arxiv_False</th>\n",
       "      <th>arxiv_True</th>\n",
       "      <th>year_2018</th>\n",
       "      <th>year_2019</th>\n",
       "      <th>year_2020</th>\n",
       "      <th>reputation_one</th>\n",
       "      <th>crazy</th>\n",
       "    </tr>\n",
       "  </thead>\n",
       "  <tbody>\n",
       "    <tr>\n",
       "      <th>2204</th>\n",
       "      <td>2020</td>\n",
       "      <td>Pitfalls of In-Domain Uncertainty Estimation a...</td>\n",
       "      <td>Arsenii Ashukha;Alexander Lyzhov;Dmitry Molcha...</td>\n",
       "      <td>6.666667</td>\n",
       "      <td>1</td>\n",
       "      <td>Samsung;Skolkovo Institute of Science and Tech...</td>\n",
       "      <td>[-1, -1, -1, 481]</td>\n",
       "      <td>0</td>\n",
       "      <td>[488, 12, 481, 2097]</td>\n",
       "      <td>[14, 2, 17, 124]</td>\n",
       "      <td>...</td>\n",
       "      <td>1.253127</td>\n",
       "      <td>0</td>\n",
       "      <td>0</td>\n",
       "      <td>1</td>\n",
       "      <td>0</td>\n",
       "      <td>0</td>\n",
       "      <td>0</td>\n",
       "      <td>1</td>\n",
       "      <td>1.554576</td>\n",
       "      <td>2.333333</td>\n",
       "    </tr>\n",
       "    <tr>\n",
       "      <th>2205</th>\n",
       "      <td>2020</td>\n",
       "      <td>An Inductive Bias for Distances: Neural Nets t...</td>\n",
       "      <td>Silviu Pitis;Harris Chan;Kiarash Jamali;Jimmy Ba</td>\n",
       "      <td>6.750000</td>\n",
       "      <td>1</td>\n",
       "      <td>Department of Computer Science, University of ...</td>\n",
       "      <td>[18, 18, 18, 18]</td>\n",
       "      <td>1;10</td>\n",
       "      <td>[15, 23, 3, 52924]</td>\n",
       "      <td>[9, 13, 3, 56]</td>\n",
       "      <td>...</td>\n",
       "      <td>2.975924</td>\n",
       "      <td>0</td>\n",
       "      <td>0</td>\n",
       "      <td>1</td>\n",
       "      <td>0</td>\n",
       "      <td>0</td>\n",
       "      <td>0</td>\n",
       "      <td>1</td>\n",
       "      <td>0.425969</td>\n",
       "      <td>2.250000</td>\n",
       "    </tr>\n",
       "    <tr>\n",
       "      <th>2206</th>\n",
       "      <td>2020</td>\n",
       "      <td>Stochastic AUC Maximization with Deep Neural N...</td>\n",
       "      <td>Mingrui Liu;Zhuoning Yuan;Yiming Ying;Tianbao ...</td>\n",
       "      <td>6.000000</td>\n",
       "      <td>1</td>\n",
       "      <td>University of Iowa;University of Iowa;State Un...</td>\n",
       "      <td>[154, 154, 266, 154]</td>\n",
       "      <td>9</td>\n",
       "      <td>[238, 112, 2144, 3236]</td>\n",
       "      <td>[29, 12, 64, 187]</td>\n",
       "      <td>...</td>\n",
       "      <td>1.262565</td>\n",
       "      <td>0</td>\n",
       "      <td>0</td>\n",
       "      <td>0</td>\n",
       "      <td>1</td>\n",
       "      <td>0</td>\n",
       "      <td>0</td>\n",
       "      <td>1</td>\n",
       "      <td>0.964113</td>\n",
       "      <td>3.000000</td>\n",
       "    </tr>\n",
       "    <tr>\n",
       "      <th>2207</th>\n",
       "      <td>2020</td>\n",
       "      <td>On the interaction between supervision and sel...</td>\n",
       "      <td>Ryan Lowe*;Abhinav Gupta*;Jakob Foerster;Douwe...</td>\n",
       "      <td>6.666667</td>\n",
       "      <td>1</td>\n",
       "      <td>McGill University;University of Montreal;Faceb...</td>\n",
       "      <td>[86, 128, -1, -1, 86]</td>\n",
       "      <td>3</td>\n",
       "      <td>[3343, 36, 2107, 3454, 11328]</td>\n",
       "      <td>[53, 10, 58, 80, 267]</td>\n",
       "      <td>...</td>\n",
       "      <td>1.637759</td>\n",
       "      <td>1</td>\n",
       "      <td>0</td>\n",
       "      <td>1</td>\n",
       "      <td>0</td>\n",
       "      <td>0</td>\n",
       "      <td>0</td>\n",
       "      <td>1</td>\n",
       "      <td>1.806692</td>\n",
       "      <td>2.333333</td>\n",
       "    </tr>\n",
       "    <tr>\n",
       "      <th>2208</th>\n",
       "      <td>2020</td>\n",
       "      <td>Towards Better Understanding of Adaptive Gradi...</td>\n",
       "      <td>Mingrui Liu;Youssef Mroueh;Jerret Ross;Wei Zha...</td>\n",
       "      <td>6.000000</td>\n",
       "      <td>1</td>\n",
       "      <td>University of Iowa;International Business Mach...</td>\n",
       "      <td>[154, -1, -1, -1, -1, -1, 154]</td>\n",
       "      <td>5;9</td>\n",
       "      <td>[238, 916, 392, 108, 241, 848, 3236]</td>\n",
       "      <td>[29, 53, 12, 46, 30, 86, 187]</td>\n",
       "      <td>...</td>\n",
       "      <td>1.262565</td>\n",
       "      <td>0</td>\n",
       "      <td>0</td>\n",
       "      <td>1</td>\n",
       "      <td>0</td>\n",
       "      <td>0</td>\n",
       "      <td>0</td>\n",
       "      <td>1</td>\n",
       "      <td>0.964113</td>\n",
       "      <td>3.000000</td>\n",
       "    </tr>\n",
       "  </tbody>\n",
       "</table>\n",
       "<p>5 rows × 25 columns</p>\n",
       "</div>"
      ],
      "text/plain": [
       "      year                                              paper  \\\n",
       "2204  2020  Pitfalls of In-Domain Uncertainty Estimation a...   \n",
       "2205  2020  An Inductive Bias for Distances: Neural Nets t...   \n",
       "2206  2020  Stochastic AUC Maximization with Deep Neural N...   \n",
       "2207  2020  On the interaction between supervision and sel...   \n",
       "2208  2020  Towards Better Understanding of Adaptive Gradi...   \n",
       "\n",
       "                                                authors   ratings  decisions  \\\n",
       "2204  Arsenii Ashukha;Alexander Lyzhov;Dmitry Molcha...  6.666667          1   \n",
       "2205   Silviu Pitis;Harris Chan;Kiarash Jamali;Jimmy Ba  6.750000          1   \n",
       "2206  Mingrui Liu;Zhuoning Yuan;Yiming Ying;Tianbao ...  6.000000          1   \n",
       "2207  Ryan Lowe*;Abhinav Gupta*;Jakob Foerster;Douwe...  6.666667          1   \n",
       "2208  Mingrui Liu;Youssef Mroueh;Jerret Ross;Wei Zha...  6.000000          1   \n",
       "\n",
       "                                            institution  \\\n",
       "2204  Samsung;Skolkovo Institute of Science and Tech...   \n",
       "2205  Department of Computer Science, University of ...   \n",
       "2206  University of Iowa;University of Iowa;State Un...   \n",
       "2207  McGill University;University of Montreal;Faceb...   \n",
       "2208  University of Iowa;International Business Mach...   \n",
       "\n",
       "                           csranking categories  \\\n",
       "2204               [-1, -1, -1, 481]          0   \n",
       "2205                [18, 18, 18, 18]       1;10   \n",
       "2206            [154, 154, 266, 154]          9   \n",
       "2207           [86, 128, -1, -1, 86]          3   \n",
       "2208  [154, -1, -1, -1, -1, -1, 154]        5;9   \n",
       "\n",
       "                         authors_citations           authors_publications  \\\n",
       "2204                  [488, 12, 481, 2097]               [14, 2, 17, 124]   \n",
       "2205                    [15, 23, 3, 52924]                 [9, 13, 3, 56]   \n",
       "2206                [238, 112, 2144, 3236]              [29, 12, 64, 187]   \n",
       "2207         [3343, 36, 2107, 3454, 11328]          [53, 10, 58, 80, 267]   \n",
       "2208  [238, 916, 392, 108, 241, 848, 3236]  [29, 53, 12, 46, 30, 86, 187]   \n",
       "\n",
       "      ... reputation  has_top_company  has_top_institution  arxiv_False  \\\n",
       "2204  ...   1.253127                0                    0            1   \n",
       "2205  ...   2.975924                0                    0            1   \n",
       "2206  ...   1.262565                0                    0            0   \n",
       "2207  ...   1.637759                1                    0            1   \n",
       "2208  ...   1.262565                0                    0            1   \n",
       "\n",
       "      arxiv_True  year_2018  year_2019  year_2020  reputation_one     crazy  \n",
       "2204           0          0          0          1        1.554576  2.333333  \n",
       "2205           0          0          0          1        0.425969  2.250000  \n",
       "2206           1          0          0          1        0.964113  3.000000  \n",
       "2207           0          0          0          1        1.806692  2.333333  \n",
       "2208           0          0          0          1        0.964113  3.000000  \n",
       "\n",
       "[5 rows x 25 columns]"
      ]
     },
     "execution_count": 58,
     "metadata": {},
     "output_type": "execute_result"
    },
    {
     "name": "stdout",
     "output_type": "stream",
     "text": [
      "ERROR! Session/line number was not unique in"
     ]
    }
   ],
   "source": [
    "df_20.head()"
   ]
  },
  {
   "cell_type": "code",
   "execution_count": 59,
   "metadata": {},
   "outputs": [
    {
     "name": "stdout",
     "output_type": "stream",
     "text": [
      " database. History logging moved to new session 209\n",
      "Optimization terminated successfully.\n",
      "         Current function value: 0.247320\n",
      "         Iterations 8\n"
     ]
    }
   ],
   "source": [
    "formula = 'decisions ~ ratings + reputation + C(arxiv_True) + C(has_top_institution) + arxiv_True:has_top_institution'\n",
    "favor = sm.Logit.from_formula(formula,data = df_20).fit()"
   ]
  },
  {
   "cell_type": "code",
   "execution_count": 60,
   "metadata": {},
   "outputs": [
    {
     "data": {
      "text/html": [
       "<table class=\"simpletable\">\n",
       "<caption>Logit Regression Results</caption>\n",
       "<tr>\n",
       "  <th>Dep. Variable:</th>       <td>decisions</td>    <th>  No. Observations:  </th>  <td>  2052</td> \n",
       "</tr>\n",
       "<tr>\n",
       "  <th>Model:</th>                 <td>Logit</td>      <th>  Df Residuals:      </th>  <td>  2046</td> \n",
       "</tr>\n",
       "<tr>\n",
       "  <th>Method:</th>                 <td>MLE</td>       <th>  Df Model:          </th>  <td>     5</td> \n",
       "</tr>\n",
       "<tr>\n",
       "  <th>Date:</th>            <td>Tue, 17 Nov 2020</td> <th>  Pseudo R-squ.:     </th>  <td>0.5987</td> \n",
       "</tr>\n",
       "<tr>\n",
       "  <th>Time:</th>                <td>14:53:08</td>     <th>  Log-Likelihood:    </th> <td> -507.50</td>\n",
       "</tr>\n",
       "<tr>\n",
       "  <th>converged:</th>             <td>True</td>       <th>  LL-Null:           </th> <td> -1264.6</td>\n",
       "</tr>\n",
       "<tr>\n",
       "  <th>Covariance Type:</th>     <td>nonrobust</td>    <th>  LLR p-value:       </th>  <td> 0.000</td> \n",
       "</tr>\n",
       "</table>\n",
       "<table class=\"simpletable\">\n",
       "<tr>\n",
       "                 <td></td>                   <th>coef</th>     <th>std err</th>      <th>z</th>      <th>P>|z|</th>  <th>[0.025</th>    <th>0.975]</th>  \n",
       "</tr>\n",
       "<tr>\n",
       "  <th>Intercept</th>                      <td>  -13.3940</td> <td>    0.647</td> <td>  -20.717</td> <td> 0.000</td> <td>  -14.661</td> <td>  -12.127</td>\n",
       "</tr>\n",
       "<tr>\n",
       "  <th>C(arxiv_True)[T.1]</th>             <td>    0.1061</td> <td>    0.200</td> <td>    0.529</td> <td> 0.597</td> <td>   -0.287</td> <td>    0.499</td>\n",
       "</tr>\n",
       "<tr>\n",
       "  <th>C(has_top_institution)[T.1]</th>    <td>    0.3662</td> <td>    0.224</td> <td>    1.631</td> <td> 0.103</td> <td>   -0.074</td> <td>    0.806</td>\n",
       "</tr>\n",
       "<tr>\n",
       "  <th>ratings</th>                        <td>    2.3834</td> <td>    0.113</td> <td>   21.171</td> <td> 0.000</td> <td>    2.163</td> <td>    2.604</td>\n",
       "</tr>\n",
       "<tr>\n",
       "  <th>reputation</th>                     <td>    0.1605</td> <td>    0.150</td> <td>    1.072</td> <td> 0.284</td> <td>   -0.133</td> <td>    0.454</td>\n",
       "</tr>\n",
       "<tr>\n",
       "  <th>arxiv_True:has_top_institution</th> <td>    0.5793</td> <td>    0.370</td> <td>    1.568</td> <td> 0.117</td> <td>   -0.145</td> <td>    1.304</td>\n",
       "</tr>\n",
       "</table>"
      ],
      "text/plain": [
       "<class 'statsmodels.iolib.summary.Summary'>\n",
       "\"\"\"\n",
       "                           Logit Regression Results                           \n",
       "==============================================================================\n",
       "Dep. Variable:              decisions   No. Observations:                 2052\n",
       "Model:                          Logit   Df Residuals:                     2046\n",
       "Method:                           MLE   Df Model:                            5\n",
       "Date:                Tue, 17 Nov 2020   Pseudo R-squ.:                  0.5987\n",
       "Time:                        14:53:08   Log-Likelihood:                -507.50\n",
       "converged:                       True   LL-Null:                       -1264.6\n",
       "Covariance Type:            nonrobust   LLR p-value:                     0.000\n",
       "==================================================================================================\n",
       "                                     coef    std err          z      P>|z|      [0.025      0.975]\n",
       "--------------------------------------------------------------------------------------------------\n",
       "Intercept                        -13.3940      0.647    -20.717      0.000     -14.661     -12.127\n",
       "C(arxiv_True)[T.1]                 0.1061      0.200      0.529      0.597      -0.287       0.499\n",
       "C(has_top_institution)[T.1]        0.3662      0.224      1.631      0.103      -0.074       0.806\n",
       "ratings                            2.3834      0.113     21.171      0.000       2.163       2.604\n",
       "reputation                         0.1605      0.150      1.072      0.284      -0.133       0.454\n",
       "arxiv_True:has_top_institution     0.5793      0.370      1.568      0.117      -0.145       1.304\n",
       "==================================================================================================\n",
       "\"\"\""
      ]
     },
     "execution_count": 60,
     "metadata": {},
     "output_type": "execute_result"
    }
   ],
   "source": [
    "favor.summary()"
   ]
  },
  {
   "cell_type": "markdown",
   "metadata": {},
   "source": [
    "## Step 3: Matching\n",
    "\n",
    "Okay, so let's change hats one last time.\n",
    "\n",
    "As you have all seen in class, a particularly powerful way of disentangling causal effects from observational data is through matching: making sure we are not comparing apples to oranges.\n",
    "\n",
    "\n",
    "### Task 3.1\n",
    "\n",
    "One of the ways to do matching is called \"Propensity Score Matching.\" There, we calculate a *propensity score* for each subject which represents the propensity to receive a \"treatment.\" Then, we match subjects who received and did not receive the treatment, but that had similar propensity scores (that is, even though some received the treatment and some did not, they had similar chances to receive it).\n",
    "\n",
    "In our specific case, we can further attempt to study the impact of pre-prints by considering publishing to arxiv as our \"treatment\".\n",
    "\n",
    "In that context, the first step to perform propensity score matching is to create a classifier that predicts whether a paper was published on arxiv or not.\n",
    "\n",
    "1. We have trained this classifier for you (don't get spoiled!). You may load the pandas dataframe entitled `propensity_scores.csv.gz` from the github repo. \n",
    "Notice that we will be using only the articles published in 2020. \n",
    "Create a new dataframe that is a merged version of this new dataframe with the dataframe you have been working on so far. Remember to keep only the papers published in 2020!\n",
    "2. **Discuss:** In which way is this classifier (that is a classifier trained to estimate propensity scores) different from the previous classifier that you trained in Step 1?\n",
    "\n",
    "**Hint:** For a classifier tra we don't need a training set and a test set!\n"
   ]
  },
  {
   "cell_type": "code",
   "execution_count": 61,
   "metadata": {},
   "outputs": [],
   "source": [
    "PROP_PATH = './Data/propensity_scores.csv.gz'\n",
    "propensity_df = pd.read_csv(PROP_PATH, compression = 'gzip')"
   ]
  },
  {
   "cell_type": "code",
   "execution_count": 62,
   "metadata": {},
   "outputs": [],
   "source": [
    "prop_20 = df_20.merge(propensity_df, on = 'paper')"
   ]
  },
  {
   "cell_type": "markdown",
   "metadata": {},
   "source": [
    "### Task 3.2\n",
    "\n",
    "Now is time to match users! You will be implementing a technique called *caliper matching*. \n",
    "\n",
    "Create pairs of users as follows. For each treated subject (here a paper that was submitted to arxiv), find a non-treated subject (a paper that was not submitted to arxiv) with similar propensity score. Namely, if the propensity score of the treated unit is $p_t$, you must find a non-treated unit $p_c$ with propensity score $|p_{c} - p_t| < \\epsilon$. If there is no such a non-treated unit, you may ignore the treated unit and move forward with the matching. Notice that your output must be a 1-to-1 matching. So each paper can only be matched once.\n",
    "\n",
    "1. Perform this matching procedure using $\\epsilon = 0.05$.\n",
    "2. Report how many pairs did you manage to match? How many didn't you?"
   ]
  },
  {
   "cell_type": "code",
   "execution_count": null,
   "metadata": {},
   "outputs": [],
   "source": [
    "prop_20_not['propensity_score'].describe()"
   ]
  },
  {
   "cell_type": "code",
   "execution_count": 64,
   "metadata": {},
   "outputs": [],
   "source": [
    "prop_20_arxiv = prop_20[prop_20['arxiv_True'] == 1] \n",
    "prop_20_not = prop_20[prop_20['arxiv_True'] == 0]"
   ]
  },
  {
   "cell_type": "code",
   "execution_count": 65,
   "metadata": {},
   "outputs": [],
   "source": [
    "B = nx.Graph()\n",
    "B.add_nodes_from(list(prop_20_arxiv.index), bipartite = 0)\n",
    "B.add_nodes_from(list(prop_20_not.index), bipartite = 1)"
   ]
  },
  {
   "cell_type": "code",
   "execution_count": 66,
   "metadata": {},
   "outputs": [],
   "source": [
    "graph_arxiv = prop_20_arxiv['propensity_score'].to_dict()\n",
    "graph_not = prop_20_not['propensity_score'].to_dict()"
   ]
  },
  {
   "cell_type": "code",
   "execution_count": 67,
   "metadata": {},
   "outputs": [],
   "source": [
    "E = .05\n",
    "for key,value in graph_arxiv.items():\n",
    "    for key_2,value_2 in graph_not.items():\n",
    "        if np.abs(value-value_2) <= E:\n",
    "            B.add_edge(key, key_2, weight = np.abs(value-value_2))"
   ]
  },
  {
   "cell_type": "code",
   "execution_count": 68,
   "metadata": {},
   "outputs": [
    {
     "data": {
      "text/plain": [
       "True"
      ]
     },
     "execution_count": 68,
     "metadata": {},
     "output_type": "execute_result"
    }
   ],
   "source": [
    "bipartite.is_bipartite(B)"
   ]
  },
  {
   "cell_type": "code",
   "execution_count": 124,
   "metadata": {},
   "outputs": [
    {
     "name": "stdout",
     "output_type": "stream",
     "text": [
      "2 0 {'weight': 0.02616313793038355}\n"
     ]
    }
   ],
   "source": [
    "for line in bipartite.generate_edgelist(B):\n",
    "    print(line)\n",
    "    break"
   ]
  },
  {
   "cell_type": "code",
   "execution_count": 70,
   "metadata": {},
   "outputs": [
    {
     "data": {
      "text/plain": [
       "590"
      ]
     },
     "execution_count": 70,
     "metadata": {},
     "output_type": "execute_result"
    }
   ],
   "source": [
    "len(prop_20_arxiv)"
   ]
  },
  {
   "cell_type": "code",
   "execution_count": 71,
   "metadata": {},
   "outputs": [],
   "source": [
    "matches = bipartite.minimum_weight_full_matching(B,list(prop_20_arxiv.index))"
   ]
  },
  {
   "cell_type": "code",
   "execution_count": 72,
   "metadata": {},
   "outputs": [],
   "source": [
    "prop_20_matched = prop_20_arxiv.copy()"
   ]
  },
  {
   "cell_type": "code",
   "execution_count": 73,
   "metadata": {},
   "outputs": [],
   "source": [
    "prop_20_matched['match'] = prop_20_arxiv.index.map(matches)"
   ]
  },
  {
   "cell_type": "code",
   "execution_count": 74,
   "metadata": {},
   "outputs": [],
   "source": [
    "prop_20_matched = prop_20_matched.merge(prop_20_not, right_index = True, left_on = 'match', suffixes = ['_treat','_not'])"
   ]
  },
  {
   "cell_type": "markdown",
   "metadata": {
    "pycharm": {
     "name": "#%% md\n"
    }
   },
   "source": [
    "### Task 3.3\n",
    "\n",
    "Let's evaluate your matching! There are more rigorous ways to do it, but we'll go the easy path.\n",
    "\n",
    "\n",
    "1. Using one or several appropriate plot types, visualize the distributions of the variables reputation and ratings, for treated and non-treated subjects that you matched.\n",
    "2. Visualize the distributions of these variables for all papers from 2020 that appeared on arxiv, and all papers that did not (including those you did not manage to match).\n",
    "3. **Discuss:** According to your visual analysis (no statistical tests needed here), did the matching do a good job at balancing covariates?"
   ]
  },
  {
   "cell_type": "code",
   "execution_count": 75,
   "metadata": {},
   "outputs": [
    {
     "data": {
      "image/png": "[encoded data removed]",
      "text/plain": [
       "<Figure size 720x216 with 1 Axes>"
      ]
     },
     "metadata": {
      "needs_background": "light"
     },
     "output_type": "display_data"
    }
   ],
   "source": [
    "fig, axs = plt.subplots(1,figsize=(10, 3), sharex = True, sharey = True)\n",
    "axs.scatter(prop_20_matched['ratings_treat'],prop_20_matched['ratings_not'])\n",
    "plt.show()"
   ]
  },
  {
   "cell_type": "code",
   "execution_count": 76,
   "metadata": {
    "scrolled": true
   },
   "outputs": [
    {
     "data": {
      "image/png": "[encoded data removed]",
      "text/plain": [
       "<Figure size 720x216 with 1 Axes>"
      ]
     },
     "metadata": {
      "needs_background": "light"
     },
     "output_type": "display_data"
    }
   ],
   "source": [
    "fig, axs = plt.subplots(1,figsize=(10, 3), sharex = True, sharey = True)\n",
    "axs.scatter(prop_20_matched['reputation_treat'],prop_20_matched['reputation_not'])\n",
    "plt.show()"
   ]
  },
  {
   "cell_type": "code",
   "execution_count": 77,
   "metadata": {},
   "outputs": [
    {
     "data": {
      "image/png": "[encoded data removed]",
      "text/plain": [
       "<Figure size 720x216 with 3 Axes>"
      ]
     },
     "metadata": {
      "needs_background": "light"
     },
     "output_type": "display_data"
    }
   ],
   "source": [
    "fig, axs = plt.subplots(3,1,figsize=(10, 3), sharex = True, sharey = True)\n",
    "sns.boxplot(x = prop_20_matched['ratings_treat'], ax = axs[0])\n",
    "sns.boxplot(x = prop_20_matched['ratings_not'], ax = axs[1])\n",
    "sns.boxplot(x = prop_20_not['ratings'], ax = axs[2])\n",
    "plt.tight_layout()\n",
    "plt.show()"
   ]
  },
  {
   "cell_type": "code",
   "execution_count": 78,
   "metadata": {},
   "outputs": [
    {
     "data": {
      "image/png": "[encoded data removed]",
      "text/plain": [
       "<Figure size 720x216 with 3 Axes>"
      ]
     },
     "metadata": {
      "needs_background": "light"
     },
     "output_type": "display_data"
    }
   ],
   "source": [
    "fig, axs = plt.subplots(3,1,figsize=(10, 3), sharex = True, sharey = True)\n",
    "sns.boxplot(x = prop_20_matched['reputation_treat'], ax = axs[0])\n",
    "sns.boxplot(x = prop_20_matched['reputation_not'], ax = axs[1])\n",
    "sns.boxplot(x = prop_20_not['reputation'], ax = axs[2])\n",
    "plt.tight_layout()\n",
    "plt.show()"
   ]
  },
  {
   "cell_type": "code",
   "execution_count": 95,
   "metadata": {},
   "outputs": [
    {
     "data": {
      "image/png": "[encoded data removed]",
      "text/plain": [
       "<Figure size 720x216 with 3 Axes>"
      ]
     },
     "metadata": {
      "needs_background": "light"
     },
     "output_type": "display_data"
    }
   ],
   "source": [
    "fig, axs = plt.subplots(1,3,figsize=(10, 3), sharex = True, sharey = True)\n",
    "axs[0].hist(prop_20_matched['ratings_treat'], bins = 10, density = True)\n",
    "axs[1].hist(prop_20_matched['ratings_not'], bins = 10, density = True)\n",
    "axs[2].hist(prop_20_not['ratings'], bins = 10, density = True)\n",
    "plt.show()"
   ]
  },
  {
   "cell_type": "code",
   "execution_count": 80,
   "metadata": {
    "scrolled": true
   },
   "outputs": [
    {
     "data": {
      "image/png": "[encoded data removed]",
      "text/plain": [
       "<Figure size 720x216 with 3 Axes>"
      ]
     },
     "metadata": {
      "needs_background": "light"
     },
     "output_type": "display_data"
    }
   ],
   "source": [
    "fig, axs = plt.subplots(1,3,figsize=(10, 3), sharex = True, sharey = True)\n",
    "axs[0].hist(prop_20_matched['reputation_treat'], bins = 15, density = True)\n",
    "axs[1].hist(prop_20_matched['reputation_not'], bins = 15, density = True)\n",
    "axs[2].hist(prop_20_not['reputation'], bins = 15, density = True)\n",
    "plt.show()"
   ]
  },
  {
   "cell_type": "code",
   "execution_count": 81,
   "metadata": {},
   "outputs": [
    {
     "data": {
      "image/png": "[encoded data removed]",
      "text/plain": [
       "<Figure size 720x216 with 2 Axes>"
      ]
     },
     "metadata": {
      "needs_background": "light"
     },
     "output_type": "display_data"
    }
   ],
   "source": [
    "fig, axs = plt.subplots(1,2,figsize=(10, 3), sharex = True, sharey = True)\n",
    "axs[0].hist(prop_20_matched['ratings_treat'], bins = 15, density = True)\n",
    "axs[1].hist(prop_20_not['ratings'], bins = 15, density = True)\n",
    "plt.show()"
   ]
  },
  {
   "cell_type": "code",
   "execution_count": 82,
   "metadata": {
    "scrolled": true
   },
   "outputs": [
    {
     "data": {
      "image/png": "[encoded data removed]",
      "text/plain": [
       "<Figure size 720x216 with 2 Axes>"
      ]
     },
     "metadata": {
      "needs_background": "light"
     },
     "output_type": "display_data"
    }
   ],
   "source": [
    "fig, axs = plt.subplots(1,2,figsize=(10, 3), sharex = True, sharey = True)\n",
    "axs[0].hist(prop_20_matched['reputation_treat'], bins = 15, density = True)\n",
    "axs[1].hist(prop_20_not['reputation'], bins = 15, density = True)\n",
    "plt.show()"
   ]
  },
  {
   "cell_type": "markdown",
   "metadata": {
    "pycharm": {
     "name": "#%% md\n"
    }
   },
   "source": [
    "### Task 3.4\n",
    "\n",
    "Finally, it's time to estimate the treatment effect. Given that we have pairs of matched samples, one that received treatment and one that did not, and that they have associated outcomes $y_{treat}$ and $y_{\\neg treat}$. We can calculate the average treatment effect as:\n",
    "\n",
    "$$\n",
    "ATE = \\frac{1}{N} \\sum_i^N  y_{treat}^{(i)} - y_{\\neg treat}^{(i)}\n",
    "$$\n",
    "\n",
    "Notice that here the outcome is a simple binary variable which equals 1 if the paper has been accepted and equals 0 if the paper has been rejected, and $N$ is the total number of matched samples in our analysis.\n",
    "\n",
    "According to your matched sample, estimate the treatment effect of publishing a paper on arxiv. Report the 95% CI through bootstrapping.\n"
   ]
  },
  {
   "cell_type": "code",
   "execution_count": 83,
   "metadata": {},
   "outputs": [],
   "source": [
    "import random"
   ]
  },
  {
   "cell_type": "code",
   "execution_count": 113,
   "metadata": {
    "pycharm": {
     "name": "#%%\n"
    }
   },
   "outputs": [],
   "source": [
    "iters = 1\n",
    "ate = []\n",
    "for i in range(iters):\n",
    "    sample = prop_20_matched.sample(frac = 1, replace = False)\n",
    "    ate.append(np.sum(sample['decisions_treat'] - sample['decisions_not'])/sample.shape[0])"
   ]
  },
  {
   "cell_type": "code",
   "execution_count": 114,
   "metadata": {},
   "outputs": [
    {
     "data": {
      "text/plain": [
       "[0.0288135593220339]"
      ]
     },
     "execution_count": 114,
     "metadata": {},
     "output_type": "execute_result"
    }
   ],
   "source": [
    "ate"
   ]
  },
  {
   "cell_type": "code",
   "execution_count": 105,
   "metadata": {},
   "outputs": [
    {
     "data": {
      "text/plain": [
       "17"
      ]
     },
     "execution_count": 105,
     "metadata": {},
     "output_type": "execute_result"
    }
   ],
   "source": [
    "sum(sample['decisions_treat'] - sample['decisions_not'])"
   ]
  },
  {
   "cell_type": "code",
   "execution_count": 116,
   "metadata": {},
   "outputs": [
    {
     "data": {
      "text/plain": [
       "236"
      ]
     },
     "execution_count": 116,
     "metadata": {},
     "output_type": "execute_result"
    }
   ],
   "source": [
    "sum(sample['decisions_treat'])"
   ]
  },
  {
   "cell_type": "code",
   "execution_count": 117,
   "metadata": {},
   "outputs": [
    {
     "data": {
      "text/plain": [
       "219"
      ]
     },
     "execution_count": 117,
     "metadata": {},
     "output_type": "execute_result"
    }
   ],
   "source": [
    "sum(sample['decisions_not'])"
   ]
  },
  {
   "cell_type": "code",
   "execution_count": 98,
   "metadata": {},
   "outputs": [
    {
     "data": {
      "image/png": "[encoded data removed]",
      "text/plain": [
       "<Figure size 432x288 with 1 Axes>"
      ]
     },
     "metadata": {
      "needs_background": "light"
     },
     "output_type": "display_data"
    }
   ],
   "source": [
    "plt.hist(ate)\n",
    "plt.show()"
   ]
  },
  {
   "cell_type": "code",
   "execution_count": 86,
   "metadata": {},
   "outputs": [
    {
     "data": {
      "text/plain": [
       "<AxesSubplot:>"
      ]
     },
     "execution_count": 86,
     "metadata": {},
     "output_type": "execute_result"
    },
    {
     "data": {
      "image/png": "[encoded data removed]",
      "text/plain": [
       "<Figure size 432x288 with 1 Axes>"
      ]
     },
     "metadata": {
      "needs_background": "light"
     },
     "output_type": "display_data"
    }
   ],
   "source": [
    "sns.boxplot(x = ate)"
   ]
  },
  {
   "cell_type": "markdown",
   "metadata": {
    "pycharm": {
     "name": "#%% md\n"
    }
   },
   "source": [
    "### Task 3.5\n",
    "\n",
    "Wait, but what about prestigious institutions? \n",
    "\n",
    "1.  To understand what is going on there, repeat tasks 3.2 to 3.4 considering *only* the top 10 institutions. Notice that you can use the same propensity scores and re-do the steps in a reduced dataframe containing only top-institutions.\n",
    "2. **Discuss:** Is this evidence that arxiv breaks double-blind submissions?"
   ]
  },
  {
   "cell_type": "code",
   "execution_count": 87,
   "metadata": {
    "pycharm": {
     "name": "#%%\n"
    }
   },
   "outputs": [],
   "source": [
    "### Your code here! ###"
   ]
  },
  {
   "cell_type": "code",
   "execution_count": null,
   "metadata": {},
   "outputs": [],
   "source": []
  }
 ],
 "metadata": {
  "kernelspec": {
   "display_name": "Python 3",
   "language": "python",
   "name": "python3"
  },
  "language_info": {
   "codemirror_mode": {
    "name": "ipython",
    "version": 3
   },
   "file_extension": ".py",
   "mimetype": "text/x-python",
   "name": "python",
   "nbconvert_exporter": "python",
   "pygments_lexer": "ipython3",
   "version": "3.8.5"
  },
  "pycharm": {
   "stem_cell": {
    "cell_type": "raw",
    "metadata": {
     "collapsed": false
    },
    "source": []
   }
  }
 },
 "nbformat": 4,
 "nbformat_minor": 4
}
