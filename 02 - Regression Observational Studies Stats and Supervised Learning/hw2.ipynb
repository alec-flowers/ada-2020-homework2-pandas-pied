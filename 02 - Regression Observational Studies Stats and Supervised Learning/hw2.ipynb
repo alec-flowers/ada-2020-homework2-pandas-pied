{
 "cells": [
  {
   "cell_type": "markdown",
   "metadata": {},
   "source": [
    "# Homework 2 (HW2)\n",
    "\n",
    "---\n",
    "By the end of this homework we expect you to be able to:\n",
    "1. Preprocess data and make it amenable to statistical analysis and machine learning models;\n",
    "2. Train and test out-of-the-box machine learning models in Python;\n",
    "3. Carry out statistical hypothesis testing;\n",
    "4. Carry out simple multivariate regression analyses;\n",
    "5. Use techniques to control for covariates;\n",
    "---\n",
    "\n",
    "## Important Dates\n",
    "\n",
    "- Homework release: Fri 6 Nov 2020\n",
    "- **Homework due**: Fri 20 Nov 2020, 23:59\n",
    "- Grade release: Mon 30 Nov 2020\n",
    "\n",
    "---\n",
    "\n",
    "##  Some rules\n",
    "\n",
    "1. You are allowed to use any built-in Python library that comes with Anaconda. If you want to use an external library, you have to justify your choice.\n",
    "2. Make sure you use the data folder provided in the repository in **read-only** mode.\n",
    "3. Be sure to provide a textual description of your thought process, the assumptions you made, the solution you implemented, and explanations for your answers. A notebook that only has code cells will not suffice.\n",
    "4. For questions containing the **/Discuss:/** prefix, answer not with code, but with a textual explanation (in markdown).\n",
    "5. Back up any hypotheses and claims with data, since this is an important aspect of the course.\n",
    "6. Please write all your comments in English, and use meaningful variable names in your code. Your repo should have a single notebook (plus the required data files) in the master branch. If there are multiple notebooks present, we will **strictly** not grade anything.\n",
    "7. Also, be sure to hand in a fully-run and evaluated notebook. We will not run your notebook for you, we will grade it as is, which means that only the results contained in your evaluated code cells will be considered, and we will not see the results in unevaluated code cells. In order to check whether everything looks as intended, you can check the rendered notebook on the GitHub website once you have pushed your solution there.\n",
    "8. Make sure to print results or dataframes that confirm you have properly addressed the task.\n",
    "9. Lastly, the grading is done in the *double blind* mode, i.e., the TAs grades an anonymized version of your notebook, so make sure that your notebook **neither has your team name nor the names of the members**.\n",
    "\n",
    "## Context\n",
    "\n",
    "Publishing papers is a big part of the lives of [Ph.D. students](http://phdcomics.com/comics/archive.php?comicid=154), [post-docs](http://phdcomics.com/comics/archive.php?comicid=1744) and [professors](http://phdcomics.com/comics/archive.php?comicid=1051). \n",
    "In Computer Science, publishing happens mostly in conferences. What follows is a slight simplification of how these conferences decide which papers to accept and which papers to reject.\n",
    " \n",
    "Every year, scholars submit papers to prestigious conferences. The papers are then assigned to reviewers (usually around 3), who are other people from the same research community (respect thy neighbor!). Each reviewer weighs in on whether they believe the papers they were assigned are good or bad, and write a review, often along with a score (e.g. +3 Strong Accept, +2 Accept, +1 Weak Accept, 0 Borderline, …,  -3 Strong Reject). Then, in the end, \"special\" reviewers called, \"Area Chairs\" analyze all the reviews that were written for the same paper and decide what gets accepted and what gets rejected. Importantly, throughout this whole dance, reviewers and authors are anonymous. When you're reviewing a paper, you do not know who wrote it. And when you receive the review, you don't know who reviewed it. Because of that, we call this a double-blind reviewing process.\n",
    "\n",
    "An interesting development that has evolved in recent years is the rise of pre-prints. In previous times, researchers often exposed their research to the world only after it had been peer-reviewed and published in a conference or a journal. But recently researchers are much keener to let their ideas out into the world as soon as possible, and they publish their research before it has been approved to any conference or journal, by posting the research on so-called pre-print servers. The most common pre-print server for Computer Science, Physics, and Maths is called [arXiv](https://arxiv.org/), for Biology, an increasingly popular one is [bioRxiv](https://www.biorxiv.org/), for Psychology [psyArXiv](https://psyarxiv.com/) (they are not very creative with the names). Notice that pre-prints and peer-review are not mutually exclusive, in fact, usually, you publish your pre-print, and then you try to publish your work in a peer-reviewed setting.\n",
    "\n",
    "Overall, publishing pre-prints has many benefits. They make science more accessible and hasten the circulation of important results in the academic community. However, a big issue brought forth with pre-prints is that they often break the anonymity in the double-blind reviewing process. For instance, in machine learning, since most papers are published as pre-prints, it is often easy to figure out if the paper you are reviewing is from a famous researcher or a big company with prominent research scientists. From critics' viewpoint, knowing the authors of the papers you are reviewing can bias your reviews. If you know that a given author is famous, you'd be more inclined to take his or her word for granted. If the author is from an institution you’ve never heard about, you are more likely to doubt his or her findings.\n",
    "\n",
    "In this homework, we will take a data-driven deep dive into the world of academic publishing. Can you use your freshly acquired data-science skills to predict which papers are going to make the cut? Are your data analysis skills sharp enough to figure out whether the aforementioned concerns about pre-print issues are justified?\n",
    "\n",
    "\n",
    "## The data\n",
    "\n",
    "The data, whose source has been *\"double-blinded\"* from you, and which has been simplified a bit for the assignment, contains information about submissions to a prestigious machine learning conference called ICLR (pronounced “I-clear”). You can find the dataframe in the git repo for the homework (`./data/dataset_final.csv`). We provide a brief description of the fields you will encounter.\n",
    "\n",
    "- `year`: year the paper has been submitted to ICLR. Notice that we provide data for three years, 2018, 2019, and 2020.\n",
    "\n",
    "\n",
    "- `paper`: title of the paper.\n",
    "\n",
    "\n",
    "- `authors`: names of the authors separated by ;.\n",
    "\n",
    "\n",
    "- `ratings`: mean rating given to the paper by the reviewers.\n",
    "\n",
    "\n",
    "- `decisions`: either Accept if the paper was accepted, or Reject otherwise.\n",
    "\n",
    "\n",
    "- `institution`: institutions for each of the authors, separated by ;.\n",
    "\n",
    "\n",
    "- `csranking`: ranking of the institutions according to csrankings. The better the institution, the better the rank. Notice that, if a paper has more than 1 author, this field will contain multiple values, separated by ;. For institutions that are not in csrankings, the value will be -1.\n",
    "\n",
    "\n",
    "- `categories`: topical categories of the paper. Each number corresponds to a different category: (1) Theory, (2) Computer Vision, (3) Natural Language Processing, (4) Adversarial ML, (5) Generative Modeling, (7) Fairness, (8) Generalization, (9) Optimization, (10) Graphs, (11) Bayesian Methods, (0) Others. A paper may belong to multiple categories, separated by ;.\n",
    "\n",
    "\n",
    "- `authors_citations`: number of citations of each one of the authors, separated by ;.\n",
    "\n",
    "\n",
    "- `authors_publications`: number of publications by each one of the authors, separated by ;.\n",
    "\n",
    "\n",
    "- `authors_hindex`: h-index of each one of the authors, separated by ;. The h-index is an author-level metric that measures both the productivity and citation impact of the publications of a scientist or scholar. It is the maximum value $h$ such that the given author has published $h$ papers that have each been cited at least $h$ times.\n",
    "\n",
    "\n",
    "- `arxiv`: whether the paper was spotted in a pre-print server around the submission period.\n",
    "\n",
    "Also, notice that in this dataframe, when some piece of data was not available, -1 will be used as the value. For example, companies aren't a part of csrankings, so for people who work in big companies, the values are -1 in the field csranking.\n"
   ]
  },
  {
   "cell_type": "code",
   "execution_count": 477,
   "metadata": {},
   "outputs": [
    {
     "data": {
      "text/html": [
       "<style>.container { width:98% !important; }</style>"
      ],
      "text/plain": [
       "<IPython.core.display.HTML object>"
      ]
     },
     "metadata": {},
     "output_type": "display_data"
    }
   ],
   "source": [
    "import pandas as pd\n",
    "import numpy as np\n",
    "import matplotlib.pyplot as plt\n",
    "from sklearn import model_selection, linear_model, metrics, ensemble\n",
    "import statsmodels.api as sm\n",
    "import networkx as nx\n",
    "from networkx.algorithms import bipartite\n",
    "import seaborn as sns\n",
    "sns.set_theme();\n",
    "import scipy\n",
    "from IPython.core.display import display, HTML\n",
    "display(HTML(\"<style>.container { width:98% !important; }</style>\"))"
   ]
  },
  {
   "cell_type": "markdown",
   "metadata": {},
   "source": [
    "#### Loading the data"
   ]
  },
  {
   "cell_type": "code",
   "execution_count": 478,
   "metadata": {},
   "outputs": [],
   "source": [
    "DATA_PATH = './data/dataset_final.csv'\n",
    "df = pd.read_csv(DATA_PATH)"
   ]
  },
  {
   "cell_type": "code",
   "execution_count": 479,
   "metadata": {},
   "outputs": [
    {
     "data": {
      "text/html": [
       "<div>\n",
       "<style scoped>\n",
       "    .dataframe tbody tr th:only-of-type {\n",
       "        vertical-align: middle;\n",
       "    }\n",
       "\n",
       "    .dataframe tbody tr th {\n",
       "        vertical-align: top;\n",
       "    }\n",
       "\n",
       "    .dataframe thead th {\n",
       "        text-align: right;\n",
       "    }\n",
       "</style>\n",
       "<table border=\"1\" class=\"dataframe\">\n",
       "  <thead>\n",
       "    <tr style=\"text-align: right;\">\n",
       "      <th></th>\n",
       "      <th>year</th>\n",
       "      <th>ratings</th>\n",
       "    </tr>\n",
       "  </thead>\n",
       "  <tbody>\n",
       "    <tr>\n",
       "      <th>count</th>\n",
       "      <td>4256.000000</td>\n",
       "      <td>4256.000000</td>\n",
       "    </tr>\n",
       "    <tr>\n",
       "      <th>mean</th>\n",
       "      <td>2019.291353</td>\n",
       "      <td>4.963381</td>\n",
       "    </tr>\n",
       "    <tr>\n",
       "      <th>std</th>\n",
       "      <td>0.766931</td>\n",
       "      <td>1.492028</td>\n",
       "    </tr>\n",
       "    <tr>\n",
       "      <th>min</th>\n",
       "      <td>2018.000000</td>\n",
       "      <td>1.000000</td>\n",
       "    </tr>\n",
       "    <tr>\n",
       "      <th>25%</th>\n",
       "      <td>2019.000000</td>\n",
       "      <td>4.000000</td>\n",
       "    </tr>\n",
       "    <tr>\n",
       "      <th>50%</th>\n",
       "      <td>2019.000000</td>\n",
       "      <td>5.000000</td>\n",
       "    </tr>\n",
       "    <tr>\n",
       "      <th>75%</th>\n",
       "      <td>2020.000000</td>\n",
       "      <td>6.000000</td>\n",
       "    </tr>\n",
       "    <tr>\n",
       "      <th>max</th>\n",
       "      <td>2020.000000</td>\n",
       "      <td>9.000000</td>\n",
       "    </tr>\n",
       "  </tbody>\n",
       "</table>\n",
       "</div>"
      ],
      "text/plain": [
       "              year      ratings\n",
       "count  4256.000000  4256.000000\n",
       "mean   2019.291353     4.963381\n",
       "std       0.766931     1.492028\n",
       "min    2018.000000     1.000000\n",
       "25%    2019.000000     4.000000\n",
       "50%    2019.000000     5.000000\n",
       "75%    2020.000000     6.000000\n",
       "max    2020.000000     9.000000"
      ]
     },
     "execution_count": 479,
     "metadata": {},
     "output_type": "execute_result"
    }
   ],
   "source": [
    "\n",
    "df.describe()"
   ]
  },
  {
   "cell_type": "markdown",
   "metadata": {},
   "source": [
    "## _Step 1:_ Predicting paper ratings\n",
    "\n",
    "The first part of this homework poses a simple question: Can you predict the ratings the paper will receive given attributes related to its authors? To answer this question, we will build an ML pipeline from scratch, preprocessing the data, training a regression model, and then evaluating it.\n",
    "\n",
    "\n",
    "---\n",
    "\n",
    "### Task 1.1\n",
    "\n",
    "Some of the fields in the data are not very amenable to serve as input to traditional machine learning algorithms. Namely, we have some fields for which there are a varying number of values (e.g. papers with 3 authors will have 3 values in the `author_citations` field, papers with 5 authors will have 5).\n",
    "\n",
    "\n",
    "Your first task is to perform some feature engineering and derive unique values for each paper which you will be able to use in your ML model. \n",
    "More specifically, you must:\n",
    "\n",
    "1. Create 3 new fields in the dataframe corresponding to the median value of the number of citations per author, the number of publications per author, and the h-index per author. So for instance, for the row `authors_publications`, you will create an additional column, e.g. `authors_publications_median`, containing the median number of publications per author in each paper.\n",
    "2. Create another field entitled `reputation` capturing how famous the last author of the paper is. Notice that the last author of the paper is usually the most senior person involved in the project. This field should equal $\\log_{10}\\Big(\\frac{\\#citations}{\\#publications} + 1\\Big)$. Notice that each author in the dataset has at least 1 publication, so you don't risk dividing by 0.\n",
    "3. Create two fields called `has_top_company` and `has_top_institution`. The field `has_top_company` equals 1 if the article contains an author in the following list of companies `[\"Facebook\", \"Google\", \"Microsoft\", \"Deepmind\"]`, and 0 otherwise. The field `has_top_institution` equals 1 if the article contains an author in the top 10 institutions according to CSRankings.\n",
    "4. **Discuss:** How did you handle -1 values in item 1.1.1? Justify your approach.\n",
    "\n",
    "---"
   ]
  },
  {
   "cell_type": "markdown",
   "metadata": {},
   "source": [
    "#### **1.1.1**"
   ]
  },
  {
   "cell_type": "code",
   "execution_count": 481,
   "metadata": {},
   "outputs": [],
   "source": [
    "# string to list of the following columns\n",
    "\n",
    "df['authors_citations'] = df['authors_citations'].str.split(';').apply(lambda x: list(map(int,x)))\n",
    "df['authors_publications'] = df['authors_publications'].str.split(';').apply(lambda x: list(map(int,x)))\n",
    "df['authors_hindex'] = df['authors_hindex'].str.split(';').apply(lambda x: list(map(int,x)))"
   ]
  },
  {
   "cell_type": "code",
   "execution_count": 482,
   "metadata": {},
   "outputs": [
    {
     "name": "stdout",
     "output_type": "stream",
     "text": [
      "Number -1 in authors_citations: 96\n",
      "Number -1 in authors_publications: 96\n",
      "Number -1 in authors_hindex: 96\n"
     ]
    }
   ],
   "source": [
    "# study on -1 values\n",
    "\n",
    "print(f\"Number -1 in authors_citations: {sum(df['authors_citations'].apply(lambda x: -1 in x))}\")\n",
    "print(f\"Number -1 in authors_publications: {sum(df['authors_publications'].apply(lambda x: -1 in x))}\")\n",
    "print(f\"Number -1 in authors_hindex: {sum(df['authors_hindex'].apply(lambda x: -1 in x))}\")"
   ]
  },
  {
   "cell_type": "code",
   "execution_count": 483,
   "metadata": {},
   "outputs": [],
   "source": [
    "# additional column with the median\n",
    "\n",
    "df['authors_citations_median'] = df['authors_citations'].apply(lambda x: np.median(x))\n",
    "df['authors_publications_median'] = df['authors_publications'].apply(lambda x: np.median(x))\n",
    "df['authors_hindex_median'] = df['authors_hindex'].apply(lambda x: np.median(x))"
   ]
  },
  {
   "cell_type": "markdown",
   "metadata": {},
   "source": [
    "#### **1.1.2**"
   ]
  },
  {
   "cell_type": "code",
   "execution_count": 484,
   "metadata": {},
   "outputs": [],
   "source": [
    "# new column reputation capturing how famous the last author of the paper is\n",
    "\n",
    "df['reputation'] = df.apply(lambda x: np.log10(x['authors_citations'][-1] / x['authors_publications'][-1] + 1), axis = 1)"
   ]
  },
  {
   "cell_type": "markdown",
   "metadata": {},
   "source": [
    "#### **1.1.3**"
   ]
  },
  {
   "cell_type": "code",
   "execution_count": 485,
   "metadata": {},
   "outputs": [],
   "source": [
    "# two new column 'has_top_company' if the article contains an author in TOP_COMPAGNY\n",
    "\n",
    "TOP_COMPANY = '|'.join([\"Facebook\", \"Google\", \"Microsoft\", \"Deepmind\"])\n",
    "df['has_top_company'] = df['institution'].str.contains(TOP_COMPANY).astype(int)\n",
    "\n",
    "# 'has_top_institution' if the article contains an author in the top 10 institutions\n",
    "#  according to CSRankings.\n",
    "\n",
    "df['csranking'] = df['csranking'].str.split(';').apply(lambda x: list(map(int,x)))\n",
    "\n",
    "def is_inbetween(x, min_ = 0, max_ = 10):\n",
    "    'Return true if values is inbetween 0 and 10, otherwise false'\n",
    "    \n",
    "    if (x >= min_) & (x <= 10):\n",
    "        return True\n",
    "    else:\n",
    "        return False\n",
    "\n",
    "df['has_top_institution'] = df['csranking'].apply(lambda x: any([is_inbetween(i) for i in x])).astype(int)"
   ]
  },
  {
   "cell_type": "markdown",
   "metadata": {},
   "source": [
    "Note that to have better result we could do a data standardization, where we subtract the mean from the features and divide them by the standard deviation. However, this is not ask in this exercice , so we will use unstandardize feature for the following question."
   ]
  },
  {
   "cell_type": "markdown",
   "metadata": {},
   "source": [
    "#### **1.1.4**\n",
    "#### **Discussion :** \n",
    "**How did you handle -1 values in item 1.1.1? Justify your approach.**\n",
    "\n",
    "The normal options to deal with null values (-1) are to drop these values or to impute something for the value. In 1.1.1 we are creating new features that takes the median of a group of values, with some of these values being null. Having a null value for these scores means that we could not find available data. In this case I think it is ok to leave the -1 as in and to pull the median value of the group down should there be a null value. There is only 1 paper whose medians are actually -1 which means they are the only group with a majority of nulls. We are penalizing papers with null values by leaving them -1."
   ]
  },
  {
   "cell_type": "code",
   "execution_count": 486,
   "metadata": {},
   "outputs": [
    {
     "data": {
      "text/html": [
       "<div>\n",
       "<style scoped>\n",
       "    .dataframe tbody tr th:only-of-type {\n",
       "        vertical-align: middle;\n",
       "    }\n",
       "\n",
       "    .dataframe tbody tr th {\n",
       "        vertical-align: top;\n",
       "    }\n",
       "\n",
       "    .dataframe thead th {\n",
       "        text-align: right;\n",
       "    }\n",
       "</style>\n",
       "<table border=\"1\" class=\"dataframe\">\n",
       "  <thead>\n",
       "    <tr style=\"text-align: right;\">\n",
       "      <th></th>\n",
       "      <th>year</th>\n",
       "      <th>paper</th>\n",
       "      <th>authors</th>\n",
       "      <th>ratings</th>\n",
       "      <th>decisions</th>\n",
       "      <th>institution</th>\n",
       "      <th>csranking</th>\n",
       "      <th>categories</th>\n",
       "      <th>authors_citations</th>\n",
       "      <th>authors_publications</th>\n",
       "      <th>authors_hindex</th>\n",
       "      <th>arxiv</th>\n",
       "      <th>authors_citations_median</th>\n",
       "      <th>authors_publications_median</th>\n",
       "      <th>authors_hindex_median</th>\n",
       "      <th>reputation</th>\n",
       "      <th>has_top_company</th>\n",
       "      <th>has_top_institution</th>\n",
       "    </tr>\n",
       "  </thead>\n",
       "  <tbody>\n",
       "    <tr>\n",
       "      <th>4238</th>\n",
       "      <td>2020</td>\n",
       "      <td>CNAS: Channel-Level Neural Architecture Search</td>\n",
       "      <td>Heechul Lim;Min-Soo Kim;Jinjun Xiong</td>\n",
       "      <td>2.5</td>\n",
       "      <td>Reject</td>\n",
       "      <td>Gwangju Institute of Science and Technology;Gw...</td>\n",
       "      <td>[-1, -1, -1]</td>\n",
       "      <td>0</td>\n",
       "      <td>[-1, -1, 1775]</td>\n",
       "      <td>[-1, -1, 171]</td>\n",
       "      <td>[-1, -1, 23]</td>\n",
       "      <td>False</td>\n",
       "      <td>-1.0</td>\n",
       "      <td>-1.0</td>\n",
       "      <td>-1.0</td>\n",
       "      <td>1.056147</td>\n",
       "      <td>0</td>\n",
       "      <td>0</td>\n",
       "    </tr>\n",
       "  </tbody>\n",
       "</table>\n",
       "</div>"
      ],
      "text/plain": [
       "      year                                           paper  \\\n",
       "4238  2020  CNAS: Channel-Level Neural Architecture Search   \n",
       "\n",
       "                                   authors  ratings decisions  \\\n",
       "4238  Heechul Lim;Min-Soo Kim;Jinjun Xiong      2.5    Reject   \n",
       "\n",
       "                                            institution     csranking  \\\n",
       "4238  Gwangju Institute of Science and Technology;Gw...  [-1, -1, -1]   \n",
       "\n",
       "     categories authors_citations authors_publications authors_hindex  arxiv  \\\n",
       "4238          0    [-1, -1, 1775]        [-1, -1, 171]   [-1, -1, 23]  False   \n",
       "\n",
       "      authors_citations_median  authors_publications_median  \\\n",
       "4238                      -1.0                         -1.0   \n",
       "\n",
       "      authors_hindex_median  reputation  has_top_company  has_top_institution  \n",
       "4238                   -1.0    1.056147                0                    0  "
      ]
     },
     "execution_count": 486,
     "metadata": {},
     "output_type": "execute_result"
    }
   ],
   "source": [
    "# Team with a -1 value\n",
    "\n",
    "df[df['authors_hindex_median'] == -1]"
   ]
  },
  {
   "cell_type": "code",
   "execution_count": 487,
   "metadata": {},
   "outputs": [],
   "source": [
    "# we are dropping this one paper\n",
    "df = df[df['authors_hindex_median'] != -1]"
   ]
  },
  {
   "cell_type": "markdown",
   "metadata": {},
   "source": [
    "### Task 1.2\n",
    "\n",
    "Now that you have cleaned up your data, your next task is to divide your data into a training set and a testing set. You should do this in two ways:\n",
    "\n",
    "1. First, do it randomly. Split the data into a training set (70%) and a testing set (30%). We refer to these as \"random split\" in the subsequent tasks.\n",
    "2. Second, do it longitudinally. Use the data from 2018 and 2019 for the training set, and the data from 2020 as the testing set. We refer to these as \"longitudinal split\" in the subsequent tasks.\n"
   ]
  },
  {
   "cell_type": "markdown",
   "metadata": {},
   "source": [
    "#### **1.2.1**"
   ]
  },
  {
   "cell_type": "code",
   "execution_count": 488,
   "metadata": {},
   "outputs": [],
   "source": [
    "def split_data_randomly(X,y,test_size,random_state = 1):\n",
    "    '''\n",
    "    Input: features dataset X , predict feature y , size of the test df test_size\n",
    "    Output: respectively X and y  are splitting randomly btw train and test dataset\n",
    "    '''\n",
    "    X_train, X_test, y_train, y_test = model_selection.train_test_split(X, y,test_size = test_size, random_state = random_state)\n",
    "    return X_train, X_test, y_train, y_test"
   ]
  },
  {
   "cell_type": "markdown",
   "metadata": {},
   "source": [
    "#### **1.2.2**"
   ]
  },
  {
   "cell_type": "code",
   "execution_count": 489,
   "metadata": {},
   "outputs": [],
   "source": [
    "def split_data_longitudinally(X,y,predict_feature):\n",
    "    '''\n",
    "    Input: features dataset X , predict feature y \n",
    "    Output: X_ltrain,y_ltrain made using 2018,2019 X_ltest,y_ltest made from 2020 dataset\n",
    "    '''\n",
    "    X_ltrain = df[df['year'] <= 2019].drop(predict_feature, axis = 1)\n",
    "    y_ltrain = df[df['year'] <= 2019][predict_feature]\n",
    "    \n",
    "    X_ltest = df[df['year'] == 2020].drop(predict_feature, axis = 1)\n",
    "    y_ltest = df[df['year'] == 2020][predict_feature]\n",
    "\n",
    "\n",
    "    return X_ltrain, X_ltest, y_ltrain, y_ltest"
   ]
  },
  {
   "cell_type": "markdown",
   "metadata": {},
   "source": [
    "### Task 1.3\n",
    "\n",
    "Build a Linear Regression model (use [sklearn](https://scikit-learn.org/stable/)) that predicts the score of a paper (which is in the variable ratings in the dataframe). Train it and test it using the split you previously defined. Your model should use as features:\n",
    "- Median values for the number of author citations, publications and h-indexes, as calculated in Task 1.1.1.\n",
    "\n",
    "- `reputation` of the last author, as calculated in Task 1.1.2.\n",
    "\n",
    "For the two scenarios above (random split and longitudinal split):\n",
    "\n",
    "1. Report the model $R^2$ in each case (for the testing set).\n",
    "2. **Discuss:** Hypothesize a reason why the results are different. Additionally, interpret the $R^2$ value for the longitudinal split. How can it be negative?\n",
    "3. **From now onwards (in this task and the following ones), consider only the random split.** For a given entry $X$ your model outputs a predicted score $Y'$. The difference between the real score $Y$ and the predicted score $Y'$ is called the \"residual\". Plot the distribution of your residuals for the test set. Using this distribution, estimate what is the probability that your prediction is off by more than 2-points? Provide bootstrapped confidence intervals for your answer.\n",
    "4. **Discuss:** Identify three additional features that are already computed in your dataframe and that could boost your model's predictive performance. You are not allowed to use the variable `decisions` as an input here. Before running any experiments, discuss why each of these features might add valuable information to your model.\n",
    "5. Report the $R^2$ (for the test set) for a newly trained model with these additional features. Please note that you do not need to improve the model performance to be successful in this task!\n",
    "\n",
    "**Hint**: [Metrics!](https://scikit-learn.org/stable/modules/classes.html#sklearn-metrics-metrics)"
   ]
  },
  {
   "cell_type": "markdown",
   "metadata": {},
   "source": [
    "#### **1.3.1**"
   ]
  },
  {
   "cell_type": "code",
   "execution_count": 490,
   "metadata": {},
   "outputs": [],
   "source": [
    "# choice of the feature use for predicting\n",
    "FEATURES = ['authors_hindex_median','authors_publications_median','authors_citations_median','reputation']"
   ]
  },
  {
   "cell_type": "markdown",
   "metadata": {},
   "source": [
    "#### **Scenario 1 - Random**"
   ]
  },
  {
   "cell_type": "code",
   "execution_count": 491,
   "metadata": {
    "scrolled": true
   },
   "outputs": [],
   "source": [
    "def linear_regression(df, features):\n",
    "    '''\n",
    "    Input: full dataset df , features used for regression\n",
    "    Output: y_test of our test df, our prediction 'pred' and R2 score\n",
    "    '''\n",
    "    y = df['ratings']\n",
    "    X = df.drop('ratings',axis = 1)\n",
    "    X = df[features]\n",
    "    \n",
    "    # splitting randomly\n",
    "    X_train, X_test, y_train, y_test = split_data_randomly(X,y,test_size = .3)\n",
    "\n",
    "    #linear regression\n",
    "    reg_random = linear_model.LinearRegression().fit(X_train,y_train)\n",
    "    pred = reg_random.predict(X_test)\n",
    "    r2 = metrics.r2_score(y_test,pred)\n",
    "    \n",
    "    return y_test, pred, r2"
   ]
  },
  {
   "cell_type": "code",
   "execution_count": 492,
   "metadata": {},
   "outputs": [
    {
     "name": "stdout",
     "output_type": "stream",
     "text": [
      "R2 =  0.10542714099759531\n"
     ]
    }
   ],
   "source": [
    "#linear regression \n",
    "y_test, pred_random, r2 = linear_regression(df, FEATURES)\n",
    "print('R2 = ',r2)"
   ]
  },
  {
   "cell_type": "markdown",
   "metadata": {},
   "source": [
    "#### **Scenario 2 - Longitudinal**"
   ]
  },
  {
   "cell_type": "code",
   "execution_count": 493,
   "metadata": {},
   "outputs": [
    {
     "name": "stdout",
     "output_type": "stream",
     "text": [
      "R2 =  -0.23862928386655335\n"
     ]
    }
   ],
   "source": [
    "y = df['ratings']\n",
    "X = df.drop('ratings',axis = 1)\n",
    "# splitting longitudinally\n",
    "X_ltrain, X_ltest, y_ltrain, y_ltest = split_data_longitudinally(X,y,predict_feature = 'ratings')\n",
    "\n",
    "# choice of feature for prediction\n",
    "X_ltrain = X_ltrain[FEATURES]\n",
    "X_ltest = X_ltest[FEATURES]\n",
    "\n",
    "#linear regression\n",
    "reg_long = linear_model.LinearRegression().fit(X_ltrain,y_ltrain)\n",
    "pred_long = reg_long.predict(X_ltest)\n",
    "r2= metrics.r2_score(y_ltest,pred_long)\n",
    "print('R2 = ',r2)"
   ]
  },
  {
   "cell_type": "markdown",
   "metadata": {},
   "source": [
    "#### **1.3.2**"
   ]
  },
  {
   "cell_type": "markdown",
   "metadata": {},
   "source": [
    "#### **Discussion:** \n",
    "\n",
    "**Hypothesize a reason why the results are different. Additionally, interpret the $R^2$ value for the longitudinal split. How can it be negative?**\n",
    "\n",
    "The formula for $R^2$ = 1 - $\\big(\\frac{SSR}{TSS}\\big)$ = 1 - $\\big(\\frac{\\sum_{}{}e_i^{2}}{\\sum_{}{}y_i - \\bar{Y}}\\big)$\n",
    "\n",
    "The $R^2$ is the proportion of the variance in the dependent variable that is predictable from the independent variables. We know that a baseline model which always just predicts the mean , $\\bar{Y}$ of the data has an R^2 of 0. A model with a negative prediction score has a negative $R^2$.\n",
    "\n",
    "It already looks like in both cases we have poor 0.087 and terrible -0.239 $R^2$ scores which means that a linear combination of our features does not do a great job of fitting to our data.\n",
    "\n",
    "For 0.087 if we look at our formula this is saying our sum of squared error for the residuals is almost as large as the total sum of squared error. Having large errors for residuals is bad as this means our data is far away from our prediction line. We are only doing slightly better than if we just fit a line representing the mean to the data. \n",
    "\n",
    "A -0.239 means that our residual error is actually larger than the variance. We are actually doing worse than just fitting to the mean of the data. This can happen when our regression line is going opposite of trend in the data and means that our model with these featues and a longitutidinal test set is very poor. \n",
    "\n",
    "Interpreting this, clearly historical data on ratings based on these features actually makes us predict worse.The data from 2019 and 2018 doesn't generalize well to 2020. It will be a good idea to put years as a feature. \n"
   ]
  },
  {
   "cell_type": "markdown",
   "metadata": {},
   "source": [
    "#### **1.3.3** \n",
    "#### Residual plotting\n"
   ]
  },
  {
   "cell_type": "markdown",
   "metadata": {},
   "source": [
    "**From now onwards (in this task and the following ones), consider only the random split.** For a given entry $X$ your model outputs a predicted score $Y'$. The difference between the real score $Y$ and the predicted score $Y'$ is called the \"residual\". Plot the distribution of your residuals for the test set. "
   ]
  },
  {
   "cell_type": "code",
   "execution_count": 494,
   "metadata": {},
   "outputs": [
    {
     "data": {
      "image/png": "[encoded data removed]",
      "text/plain": [
       "<Figure size 600x300 with 1 Axes>"
      ]
     },
     "metadata": {},
     "output_type": "display_data"
    },
    {
     "data": {
      "image/png": "[encoded data removed]",
      "text/plain": [
       "<Figure size 500x500 with 1 Axes>"
      ]
     },
     "metadata": {},
     "output_type": "display_data"
    },
    {
     "data": {
      "image/png": "[encoded data removed]",
      "text/plain": [
       "<Figure size 500x500 with 1 Axes>"
      ]
     },
     "metadata": {},
     "output_type": "display_data"
    }
   ],
   "source": [
    "residual = y_test - pred_random\n",
    "plt.hist(residual, bins = 30, density = True)\n",
    "plt.title('Residual distribution for random split \\n')\n",
    "plt.xlabel('residual')\n",
    "plt.ylabel('Density')\n",
    "sns.displot(residual, kind=\"kde\")\n",
    "plt.xlabel('residual')\n",
    "plt.title('Residual distribution for random split \\n');\n",
    "sns.displot(residual, kind=\"ecdf\")\n",
    "plt.xlabel('residual')\n",
    "plt.title('Empirical cumulative distribution functions of residual for random split \\n');\n",
    "plt.show()"
   ]
  },
  {
   "cell_type": "markdown",
   "metadata": {},
   "source": [
    "Using this distribution, estimate what is the probability that your prediction is off by more than 2-points? Provide bootstrapped confidence intervals for your answer."
   ]
  },
  {
   "cell_type": "code",
   "execution_count": 495,
   "metadata": {},
   "outputs": [
    {
     "name": "stdout",
     "output_type": "stream",
     "text": [
      "The probability that our prediction is off by more than 2 point is about 15.975%.\n"
     ]
    }
   ],
   "source": [
    "prob_off = ((residual > 2).sum() + (residual < -2).sum()) / residual.count()\n",
    "print('The probability that our prediction is off by more than 2 point is about {}%.'.format(round(prob_off * 100,3)))"
   ]
  },
  {
   "cell_type": "code",
   "execution_count": 496,
   "metadata": {},
   "outputs": [],
   "source": [
    "def boostrap_CI(df, features, max_iter, drop_interval_size):\n",
    "    '''\n",
    "    Input : full dataset df , features used for regression , number of iteration max_iter\n",
    "    Output : confidence intervals using the empirical distribution with [2.5%,97.5%] of data.\n",
    "    '''\n",
    "    y = df['ratings']\n",
    "    X = df.drop('ratings',axis=1)\n",
    "    X = X[features]\n",
    "    ci = []\n",
    "    for i in range(max_iter):\n",
    "        X_train, X_test, y_train, y_test = split_data_randomly(X,y,test_size=.5,random_state=None)\n",
    "        reg_random = linear_model.LinearRegression().fit(X_train,y_train)\n",
    "        pred = reg_random.predict(X_test)\n",
    "\n",
    "        residual = y_test - pred\n",
    "        ci.append(((residual > 2).sum() + (residual < -2).sum()) / residual.count())\n",
    "    \n",
    "    confidence_interval = sorted(ci)\n",
    "    \n",
    "    return [confidence_interval[drop_interval_size],confidence_interval[-drop_interval_size]]"
   ]
  },
  {
   "cell_type": "code",
   "execution_count": 497,
   "metadata": {},
   "outputs": [
    {
     "name": "stdout",
     "output_type": "stream",
     "text": [
      "His corresponded bootstrapped confidence intervals is [0.15037593984962405, 0.1724624060150376]. \n"
     ]
    }
   ],
   "source": [
    "# we are using a 95% interval\n",
    "max_iter = 1000\n",
    "drop_interval_size = int(.025*max_iter) # 5%\n",
    "ci = boostrap_CI(df, FEATURES, max_iter,drop_interval_size)\n",
    "print('His corresponded bootstrapped confidence intervals is {}. '.format(ci))"
   ]
  },
  {
   "cell_type": "markdown",
   "metadata": {},
   "source": [
    "#### **1.3.4**\n",
    "**Discuss:** Identify three additional features that are already computed in your dataframe and that could boost your model's predictive performance. You are not allowed to use the variable `decisions` as an input here. Before running any experiments, discuss why each of these features might add valuable information to your model."
   ]
  },
  {
   "cell_type": "markdown",
   "metadata": {},
   "source": [
    "The three features that we decide to use are:\n",
    "1) Arxiv turn into boolean vs not boolean. This feature will be helpful because at the end we want to know if the Arxiv influences the decision. We have an hypothesis that posting to arxiv influences ratings, therefore it makes sense to include this as a predictive features.\n",
    "\n",
    "2) Year as one hot encode. We saw with the longitudinal data it looks like there isn't as much predictivate power from year to year. So it would be a good feature to add robustness to our model. The assumptions relies on the assumption that the ratings of the paper depend on the year.\n",
    "\n",
    "3) Reputation of first author. As the other's author influence the ratings, as well. We add the reputation of the first author in our model. Considering the main part of the research in a paper is carried out by the first author, we believe that his/her reputation has impact on the paper quality and then its rating. "
   ]
  },
  {
   "cell_type": "code",
   "execution_count": 498,
   "metadata": {},
   "outputs": [],
   "source": [
    "# first feature\n",
    "one_hot = pd.get_dummies(df['arxiv'], prefix = 'arxiv')\n",
    "df = df.join(one_hot)"
   ]
  },
  {
   "cell_type": "code",
   "execution_count": 499,
   "metadata": {},
   "outputs": [],
   "source": [
    "# second feature\n",
    "one_hot = pd.get_dummies(df['year'], prefix = 'year')\n",
    "df = df.join(one_hot)"
   ]
  },
  {
   "cell_type": "code",
   "execution_count": 500,
   "metadata": {},
   "outputs": [],
   "source": [
    "# third feature\n",
    "df['reputation_one'] = df.apply(lambda x: np.log10(x['authors_citations'][0]\n",
    "                                                   /x['authors_publications'][0] + 1), axis=1)"
   ]
  },
  {
   "cell_type": "code",
   "execution_count": 501,
   "metadata": {},
   "outputs": [],
   "source": [
    "NEW_FEATURES = ['authors_hindex_median','authors_publications_median',\n",
    "                'authors_citations_median','reputation','arxiv_False','arxiv_True',\n",
    "                'year_2018', 'year_2019', 'year_2020', 'reputation_one']"
   ]
  },
  {
   "cell_type": "code",
   "execution_count": 502,
   "metadata": {},
   "outputs": [
    {
     "name": "stdout",
     "output_type": "stream",
     "text": [
      "With our new set of features, we obtain a R2 equal to 0.249.\n"
     ]
    }
   ],
   "source": [
    "y_test, pred, r2 = linear_regression(df, NEW_FEATURES)\n",
    "print('With our new set of features, we obtain a R2 equal to {}.'.format(round(r2,3)))"
   ]
  },
  {
   "cell_type": "markdown",
   "metadata": {},
   "source": [
    "We can then observe that by adding our new features the R2 found by linear regression grows from 0.087 to 0.217, which shows that our choice of feature helps have a better prediciton of our dataset. We can add that this result doesn't guarantee that all the new features add valuable information to our model. By example, one of this features could be really great and add a lot of information to our model, while the others don't. So without any other experiment we can only conculde that those features as a group add valuable information to our model.\n"
   ]
  },
  {
   "cell_type": "markdown",
   "metadata": {},
   "source": [
    "### Task 1.4\n",
    "\n",
    "Experiment with training a different regressor, a [Gradient Boosting Regressor](https://scikit-learn.org/stable/modules/ensemble.html?highlight=xgboost#gradient-boosting). This regressor is analogous to the Gradient Boosting Classifier that you have seen in class. This model performs extremely well for a variety of tasks and is often used in machine learning competitions for tabular data (e.g., on [Kaggle](www.kaggle.com)). You must:\n",
    "\n",
    "1. Train a Gradient Boosting Regressor without specifying any parameters, e.g. `GradientBoostingRegressor().fit(X, y)`, and report its $R^2$ on the testing set. Your model should again use as features:\n",
    "    - Median values for the number of author citations, publications and h-indexes as calculated in Task 1.1.1.\n",
    "    - `reputation` of the last author, as calculated in Task 1.1.2.\n",
    "2. Create an additional feature called $crazy$, which is derived as follows. If the score  of the paper, $ratings$, is bigger than 4.96, then $crazy = 9 - ratings$, otherwise, $crazy = - ratings$. Train a Gradient Boosting Regressor to predict paper scores using only $crazy$ as a feature. Additionally, train a Linear Regression model to predict paper scores using only $crazy$ as a feature. Report the $R^2$ in the testing set.\n",
    "3. **Discuss:** Why does the Gradient Boosting Regressor perform so much better?"
   ]
  },
  {
   "cell_type": "markdown",
   "metadata": {},
   "source": [
    "#### **1.4.1**"
   ]
  },
  {
   "cell_type": "code",
   "execution_count": 503,
   "metadata": {},
   "outputs": [],
   "source": [
    "def gradient_boost_regression(df, features):\n",
    "    '''\n",
    "    Input: full dataset df , features used for regression\n",
    "    Output: y_test of our test df, our prediction 'pred' and R2 score\n",
    "    '''\n",
    "    \n",
    "    y = df['ratings']\n",
    "    X = df.drop('ratings',axis=1)\n",
    "    X = df[features]\n",
    "    #splitting\n",
    "    X_train, X_test, y_train, y_test = split_data_randomly(X,y,test_size = .3)\n",
    "    \n",
    "    #Gradient Boosting Regression\n",
    "    reg_random = ensemble.GradientBoostingRegressor().fit(X_train,y_train)\n",
    "    pred = reg_random.predict(X_test)\n",
    "    r2 = metrics.r2_score(y_test,pred)\n",
    "    \n",
    "    return y_test, pred, r2"
   ]
  },
  {
   "cell_type": "code",
   "execution_count": 504,
   "metadata": {},
   "outputs": [
    {
     "name": "stdout",
     "output_type": "stream",
     "text": [
      "R2 =  0.09718955931516793\n"
     ]
    }
   ],
   "source": [
    "# Gradient Boosting Regression with FEATURES used in Task 1.3\n",
    "\n",
    "y_test, pred, r2 = gradient_boost_regression(df, FEATURES)\n",
    "print('R2 = ',r2)"
   ]
  },
  {
   "cell_type": "markdown",
   "metadata": {},
   "source": [
    "Note that in Task 1.3 with the same feature we calculate a R2 of 0.087 for the linear regression."
   ]
  },
  {
   "cell_type": "markdown",
   "metadata": {},
   "source": [
    "#### **1.4.2**\n",
    "Create an additional feature called $crazy$, which is derived as follows. If the score  of the paper, $ratings$, is bigger than 4.96, then $crazy = 9 - ratings$, otherwise, $crazy = - ratings$. Train a Gradient Boosting Regressor to predict paper scores using only $crazy$ as a feature. Additionally, train a Linear Regression model to predict paper scores using only $crazy$ as a feature. Report the $R^2$ in the testing set.\n"
   ]
  },
  {
   "cell_type": "code",
   "execution_count": 505,
   "metadata": {},
   "outputs": [],
   "source": [
    "def crazy_feature(x):\n",
    "    '''\n",
    "    Input: a rating of an article \n",
    "    Output: the corresponding crazy score\n",
    "    '''\n",
    "    if x >4.96:\n",
    "        crazy = 9 - x\n",
    "    else:\n",
    "        crazy = -x\n",
    "    return crazy"
   ]
  },
  {
   "cell_type": "code",
   "execution_count": 506,
   "metadata": {},
   "outputs": [],
   "source": [
    "# creation of the feature crazy\n",
    "\n",
    "df['crazy'] = df['ratings'].apply(crazy_feature)"
   ]
  },
  {
   "cell_type": "code",
   "execution_count": 507,
   "metadata": {},
   "outputs": [
    {
     "name": "stdout",
     "output_type": "stream",
     "text": [
      "R2 =  0.9999901793925464\n"
     ]
    }
   ],
   "source": [
    "#Gradient Boosting Regression with only 'crazy' as a feature.\n",
    "\n",
    "y_test, pred, r2 = gradient_boost_regression(df, ['crazy'])\n",
    "print('R2 = ',r2)"
   ]
  },
  {
   "cell_type": "code",
   "execution_count": 508,
   "metadata": {},
   "outputs": [
    {
     "name": "stdout",
     "output_type": "stream",
     "text": [
      "R2 =  0.4074877840519888\n"
     ]
    }
   ],
   "source": [
    "# Linear regression with only 'crazy' as a feature.\n",
    "\n",
    "y_test, pred, r2 = linear_regression(df, ['crazy'])\n",
    "print('R2 = ',r2)"
   ]
  },
  {
   "cell_type": "markdown",
   "metadata": {},
   "source": [
    "#### **1.4.3**\n",
    "#### **Discussion:** \n",
    "**Why does the Gradient Boosting Regressor perform so much better?**"
   ]
  },
  {
   "cell_type": "markdown",
   "metadata": {},
   "source": [
    "In task 1.4.2, we observe a R2 much better when we use the gradient boosting regression (R2=0.999) than the linear regression (R2=0.422). This can be explain because the gradient boosting regression is an boosting ensemble method. The ensemble method represents a ensemble of weak predictive models that we train and then combine their result to make a better learner. The boosting is a type of ensemble methods which trains the model sequentially on a multitude of step. At each step, we train a new learner that puts emphasis on the points that the previous learner got wrong. So it basically corrects the previous learner at every steps, while the linear Regression fits  directly a linear model without boosting it .\n"
   ]
  },
  {
   "cell_type": "markdown",
   "metadata": {},
   "source": [
    "### Task 1.5\n",
    "\n",
    "Complex models often have several hyper-parameters. \n",
    "To obtain the best results, it is common-place to use a cross-validation set-up in your training data to find the best hyper-parameters, and then use it for the test set.\n",
    "\n",
    "\n",
    "1. Write modular code (i.e., a function) to divide your training data into $N$ folds and perform cross-validation.\n",
    "2.  Experiment tuning two hyper-parameters of the Gradient Boosting Regressor: `n_estimators` and `learning_rate`.\n",
    "For each possible combination of the two hyper-parameters (see below for the range of values that you should try for each hyper-parameter), train your model in a cross-validation setup with $N$=20. Report the mean $R^2$ along with the 90% CI for the 18 scenarios. Notice that you can calculate the 90% CI in a bootstrap-like fashion.\n",
    "    - `n_estimators`$ \\in  \\{ 50, 75, 100, 150, 200, 250\\}$\n",
    "    - `learning_rate`$ \\in  \\{ 0.1, 0.05, 0.01\\}$.\n",
    "3. With the best hyper-parameters obtained, train your model with the entire training set and report the $R^2$ on the testing set.\n",
    "4. **Discuss:** Why don't we tune the hyper-parameters in the testing set instead of doing cross-validation in the training set?"
   ]
  },
  {
   "cell_type": "markdown",
   "metadata": {},
   "source": [
    "#### **1.5.1**\n"
   ]
  },
  {
   "cell_type": "code",
   "execution_count": 643,
   "metadata": {},
   "outputs": [],
   "source": [
    "def build_N_fold(X,y, N_fold, seed = 1):\n",
    "    '''\n",
    "    Input: dataset X , prediction feature y , number of folds N_fold\n",
    "    Output: table with all the index representing the N-folds\n",
    "    '''\n",
    "    N_fold_df = pd.DataFrame()\n",
    "    np.random.seed(seed) # Initializing the random \n",
    "    permut = np.random.permutation(X.shape[0]) #  permutation of the indexes of the dataset\n",
    "    # permute the data\n",
    "    X = X.iloc[permut,:]\n",
    "    y = y.iloc[permut]\n",
    "    indices_N = np.split(permut[:N_fold*int(X.shape[0]/N_fold)],N_fold) # Split the dataset maximal part of the data set\n",
    "    # divided by 20 into k mini dataset\n",
    "    return pd.DataFrame(indices_N)"
   ]
  },
  {
   "cell_type": "code",
   "execution_count": 654,
   "metadata": {},
   "outputs": [],
   "source": [
    "y = df['ratings']\n",
    "X = df.drop('ratings',axis=1)\n",
    "X = df[FEATURES]\n",
    "X_train, X_test, y_train, y_test = split_data_randomly(X,y,test_size = .3, random_state = 1 )"
   ]
  },
  {
   "cell_type": "code",
   "execution_count": 657,
   "metadata": {},
   "outputs": [
    {
     "data": {
      "text/plain": [
       "(20, 148)"
      ]
     },
     "execution_count": 657,
     "metadata": {},
     "output_type": "execute_result"
    }
   ],
   "source": [
    "N_fold_index_df = build_N_fold(X_train,y_train, N_fold=20, seed = 1)\n",
    "N_fold_index_df.shape"
   ]
  },
  {
   "cell_type": "code",
   "execution_count": 658,
   "metadata": {},
   "outputs": [
    {
     "data": {
      "text/html": [
       "<div>\n",
       "<style scoped>\n",
       "    .dataframe tbody tr th:only-of-type {\n",
       "        vertical-align: middle;\n",
       "    }\n",
       "\n",
       "    .dataframe tbody tr th {\n",
       "        vertical-align: top;\n",
       "    }\n",
       "\n",
       "    .dataframe thead th {\n",
       "        text-align: right;\n",
       "    }\n",
       "</style>\n",
       "<table border=\"1\" class=\"dataframe\">\n",
       "  <thead>\n",
       "    <tr style=\"text-align: right;\">\n",
       "      <th></th>\n",
       "      <th>0</th>\n",
       "      <th>1</th>\n",
       "      <th>2</th>\n",
       "      <th>3</th>\n",
       "      <th>4</th>\n",
       "      <th>5</th>\n",
       "      <th>6</th>\n",
       "      <th>7</th>\n",
       "      <th>8</th>\n",
       "      <th>9</th>\n",
       "      <th>...</th>\n",
       "      <th>138</th>\n",
       "      <th>139</th>\n",
       "      <th>140</th>\n",
       "      <th>141</th>\n",
       "      <th>142</th>\n",
       "      <th>143</th>\n",
       "      <th>144</th>\n",
       "      <th>145</th>\n",
       "      <th>146</th>\n",
       "      <th>147</th>\n",
       "    </tr>\n",
       "  </thead>\n",
       "  <tbody>\n",
       "    <tr>\n",
       "      <th>0</th>\n",
       "      <td>445</td>\n",
       "      <td>2687</td>\n",
       "      <td>1541</td>\n",
       "      <td>521</td>\n",
       "      <td>367</td>\n",
       "      <td>713</td>\n",
       "      <td>2185</td>\n",
       "      <td>1156</td>\n",
       "      <td>282</td>\n",
       "      <td>558</td>\n",
       "      <td>...</td>\n",
       "      <td>1950</td>\n",
       "      <td>2085</td>\n",
       "      <td>1026</td>\n",
       "      <td>630</td>\n",
       "      <td>1947</td>\n",
       "      <td>2758</td>\n",
       "      <td>2234</td>\n",
       "      <td>1452</td>\n",
       "      <td>2622</td>\n",
       "      <td>1221</td>\n",
       "    </tr>\n",
       "    <tr>\n",
       "      <th>1</th>\n",
       "      <td>899</td>\n",
       "      <td>540</td>\n",
       "      <td>2829</td>\n",
       "      <td>2367</td>\n",
       "      <td>1077</td>\n",
       "      <td>707</td>\n",
       "      <td>1661</td>\n",
       "      <td>1145</td>\n",
       "      <td>2188</td>\n",
       "      <td>812</td>\n",
       "      <td>...</td>\n",
       "      <td>187</td>\n",
       "      <td>2755</td>\n",
       "      <td>2535</td>\n",
       "      <td>854</td>\n",
       "      <td>1892</td>\n",
       "      <td>825</td>\n",
       "      <td>616</td>\n",
       "      <td>1068</td>\n",
       "      <td>2087</td>\n",
       "      <td>2108</td>\n",
       "    </tr>\n",
       "    <tr>\n",
       "      <th>2</th>\n",
       "      <td>1408</td>\n",
       "      <td>2375</td>\n",
       "      <td>1828</td>\n",
       "      <td>2832</td>\n",
       "      <td>1539</td>\n",
       "      <td>260</td>\n",
       "      <td>2744</td>\n",
       "      <td>1551</td>\n",
       "      <td>2045</td>\n",
       "      <td>1861</td>\n",
       "      <td>...</td>\n",
       "      <td>123</td>\n",
       "      <td>2427</td>\n",
       "      <td>1307</td>\n",
       "      <td>1223</td>\n",
       "      <td>335</td>\n",
       "      <td>1534</td>\n",
       "      <td>1468</td>\n",
       "      <td>2286</td>\n",
       "      <td>2431</td>\n",
       "      <td>180</td>\n",
       "    </tr>\n",
       "  </tbody>\n",
       "</table>\n",
       "<p>3 rows × 148 columns</p>\n",
       "</div>"
      ],
      "text/plain": [
       "    0     1     2     3     4    5     6     7     8     9    ...   138   139  \\\n",
       "0   445  2687  1541   521   367  713  2185  1156   282   558  ...  1950  2085   \n",
       "1   899   540  2829  2367  1077  707  1661  1145  2188   812  ...   187  2755   \n",
       "2  1408  2375  1828  2832  1539  260  2744  1551  2045  1861  ...   123  2427   \n",
       "\n",
       "    140   141   142   143   144   145   146   147  \n",
       "0  1026   630  1947  2758  2234  1452  2622  1221  \n",
       "1  2535   854  1892   825   616  1068  2087  2108  \n",
       "2  1307  1223   335  1534  1468  2286  2431   180  \n",
       "\n",
       "[3 rows x 148 columns]"
      ]
     },
     "execution_count": 658,
     "metadata": {},
     "output_type": "execute_result"
    }
   ],
   "source": [
    "# example of three folds\n",
    "\n",
    "N_fold_index_df.head(3)"
   ]
  },
  {
   "cell_type": "markdown",
   "metadata": {},
   "source": [
    "**The crossvalidation as well as the tuning of the two parameters are done in the next part using the sklearn function GridSearchCV. So in this part we just provide a unused example of a function that can be use to split the data set in N-folds as asked in the instructions and we move on the next part where we perform our crossvalidation.**"
   ]
  },
  {
   "cell_type": "markdown",
   "metadata": {},
   "source": [
    "#### **1.5.2**\n",
    "2.  Experiment tuning two hyper-parameters of the Gradient Boosting Regressor: `n_estimators` and `learning_rate`.\n",
    "For each possible combination of the two hyper-parameters (see below for the range of values that you should try for each hyper-parameter), train your model in a cross-validation setup with $N$=20. Report the mean $R^2$ along with the 90% CI for the 18 scenarios. Notice that you can calculate the 90% CI in a bootstrap-like fashion.\n",
    "    - `n_estimators`$ \\in  \\{ 50, 75, 100, 150, 200, 250\\}$\n",
    "    - `learning_rate`$ \\in  \\{ 0.1, 0.05, 0.01\\}$."
   ]
  },
  {
   "cell_type": "code",
   "execution_count": 216,
   "metadata": {},
   "outputs": [],
   "source": [
    "# type of regressor\n",
    "gb = ensemble.GradientBoostingRegressor()\n",
    "\n",
    "# settings\n",
    "parameters = {'n_estimators': [50, 75, 100, 150, 200, 250],\n",
    "              'learning_rate': [.1, .05, .01]}\n",
    "y = df['ratings']\n",
    "X = df.drop('ratings',axis=1)\n",
    "X = df[NEW_FEATURES]\n",
    "\n",
    "# splitting the train and test dataset\n",
    "X_train, X_test, y_train, y_test = split_data_randomly(X,y,test_size = .3, random_state = 1 )\n",
    "\n",
    "# cross k validation using GridsearchCV\n",
    "clf = model_selection.GridSearchCV(gb, parameters, cv = 20, scoring = 'r2')\n",
    "clf.fit(X_train,y_train)\n",
    "best_param = clf.best_params_"
   ]
  },
  {
   "cell_type": "code",
   "execution_count": 357,
   "metadata": {},
   "outputs": [
    {
     "name": "stdout",
     "output_type": "stream",
     "text": [
      "The best hyper parameters found with cross k validation with a k=20 are {'learning_rate': 0.05, 'n_estimators': 75}.\n"
     ]
    }
   ],
   "source": [
    "print('The best hyper parameters found with cross k validation with a k=20 are {}.'.format(best_param ))"
   ]
  },
  {
   "cell_type": "code",
   "execution_count": 296,
   "metadata": {},
   "outputs": [
    {
     "data": {
      "text/html": [
       "<div>\n",
       "<style scoped>\n",
       "    .dataframe tbody tr th:only-of-type {\n",
       "        vertical-align: middle;\n",
       "    }\n",
       "\n",
       "    .dataframe tbody tr th {\n",
       "        vertical-align: top;\n",
       "    }\n",
       "\n",
       "    .dataframe thead th {\n",
       "        text-align: right;\n",
       "    }\n",
       "</style>\n",
       "<table border=\"1\" class=\"dataframe\">\n",
       "  <thead>\n",
       "    <tr style=\"text-align: right;\">\n",
       "      <th></th>\n",
       "      <th>split0_test_score</th>\n",
       "      <th>split1_test_score</th>\n",
       "      <th>split2_test_score</th>\n",
       "      <th>split3_test_score</th>\n",
       "      <th>split4_test_score</th>\n",
       "      <th>split5_test_score</th>\n",
       "      <th>split6_test_score</th>\n",
       "      <th>split7_test_score</th>\n",
       "      <th>split8_test_score</th>\n",
       "      <th>split9_test_score</th>\n",
       "      <th>split10_test_score</th>\n",
       "      <th>split11_test_score</th>\n",
       "      <th>split12_test_score</th>\n",
       "      <th>split13_test_score</th>\n",
       "      <th>split14_test_score</th>\n",
       "      <th>split15_test_score</th>\n",
       "      <th>split16_test_score</th>\n",
       "      <th>split17_test_score</th>\n",
       "      <th>split18_test_score</th>\n",
       "      <th>split19_test_score</th>\n",
       "    </tr>\n",
       "  </thead>\n",
       "  <tbody>\n",
       "    <tr>\n",
       "      <th>0</th>\n",
       "      <td>0.219620</td>\n",
       "      <td>0.166757</td>\n",
       "      <td>0.231053</td>\n",
       "      <td>0.248799</td>\n",
       "      <td>0.149674</td>\n",
       "      <td>0.223973</td>\n",
       "      <td>0.093073</td>\n",
       "      <td>0.184932</td>\n",
       "      <td>0.254711</td>\n",
       "      <td>0.286211</td>\n",
       "      <td>0.238673</td>\n",
       "      <td>0.177482</td>\n",
       "      <td>0.074305</td>\n",
       "      <td>0.248978</td>\n",
       "      <td>0.291298</td>\n",
       "      <td>0.258237</td>\n",
       "      <td>0.235049</td>\n",
       "      <td>0.169351</td>\n",
       "      <td>0.162488</td>\n",
       "      <td>0.132780</td>\n",
       "    </tr>\n",
       "    <tr>\n",
       "      <th>1</th>\n",
       "      <td>0.218892</td>\n",
       "      <td>0.155897</td>\n",
       "      <td>0.218639</td>\n",
       "      <td>0.229594</td>\n",
       "      <td>0.145551</td>\n",
       "      <td>0.225651</td>\n",
       "      <td>0.091252</td>\n",
       "      <td>0.166145</td>\n",
       "      <td>0.249147</td>\n",
       "      <td>0.277019</td>\n",
       "      <td>0.241547</td>\n",
       "      <td>0.176635</td>\n",
       "      <td>0.065291</td>\n",
       "      <td>0.254848</td>\n",
       "      <td>0.296614</td>\n",
       "      <td>0.250831</td>\n",
       "      <td>0.224289</td>\n",
       "      <td>0.174804</td>\n",
       "      <td>0.162162</td>\n",
       "      <td>0.123704</td>\n",
       "    </tr>\n",
       "    <tr>\n",
       "      <th>2</th>\n",
       "      <td>0.216721</td>\n",
       "      <td>0.155043</td>\n",
       "      <td>0.214008</td>\n",
       "      <td>0.211758</td>\n",
       "      <td>0.146979</td>\n",
       "      <td>0.222477</td>\n",
       "      <td>0.093085</td>\n",
       "      <td>0.148650</td>\n",
       "      <td>0.249626</td>\n",
       "      <td>0.271968</td>\n",
       "      <td>0.239734</td>\n",
       "      <td>0.170080</td>\n",
       "      <td>0.054859</td>\n",
       "      <td>0.248724</td>\n",
       "      <td>0.297457</td>\n",
       "      <td>0.243199</td>\n",
       "      <td>0.213202</td>\n",
       "      <td>0.182748</td>\n",
       "      <td>0.162867</td>\n",
       "      <td>0.120160</td>\n",
       "    </tr>\n",
       "  </tbody>\n",
       "</table>\n",
       "</div>"
      ],
      "text/plain": [
       "   split0_test_score  split1_test_score  split2_test_score  split3_test_score  \\\n",
       "0           0.219620           0.166757           0.231053           0.248799   \n",
       "1           0.218892           0.155897           0.218639           0.229594   \n",
       "2           0.216721           0.155043           0.214008           0.211758   \n",
       "\n",
       "   split4_test_score  split5_test_score  split6_test_score  split7_test_score  \\\n",
       "0           0.149674           0.223973           0.093073           0.184932   \n",
       "1           0.145551           0.225651           0.091252           0.166145   \n",
       "2           0.146979           0.222477           0.093085           0.148650   \n",
       "\n",
       "   split8_test_score  split9_test_score  split10_test_score  \\\n",
       "0           0.254711           0.286211            0.238673   \n",
       "1           0.249147           0.277019            0.241547   \n",
       "2           0.249626           0.271968            0.239734   \n",
       "\n",
       "   split11_test_score  split12_test_score  split13_test_score  \\\n",
       "0            0.177482            0.074305            0.248978   \n",
       "1            0.176635            0.065291            0.254848   \n",
       "2            0.170080            0.054859            0.248724   \n",
       "\n",
       "   split14_test_score  split15_test_score  split16_test_score  \\\n",
       "0            0.291298            0.258237            0.235049   \n",
       "1            0.296614            0.250831            0.224289   \n",
       "2            0.297457            0.243199            0.213202   \n",
       "\n",
       "   split17_test_score  split18_test_score  split19_test_score  \n",
       "0            0.169351            0.162488            0.132780  \n",
       "1            0.174804            0.162162            0.123704  \n",
       "2            0.182748            0.162867            0.120160  "
      ]
     },
     "execution_count": 296,
     "metadata": {},
     "output_type": "execute_result"
    }
   ],
   "source": [
    "result = pd.DataFrame(clf.cv_results_)\n",
    "\n",
    "# extract all k=20 step\n",
    "result = result.iloc[:,result.columns.str.contains('split')]\n",
    "result.head(3)"
   ]
  },
  {
   "cell_type": "code",
   "execution_count": 432,
   "metadata": {},
   "outputs": [],
   "source": [
    "# construction of the confidence interval for each split\n",
    "\n",
    "confidence_interval=[]\n",
    "for i in range(result.shape[0]):\n",
    "    ci = sorted(result.loc[i,:])\n",
    "    confidence_interval.append([ci[1],ci[18]])"
   ]
  },
  {
   "cell_type": "markdown",
   "metadata": {},
   "source": [
    "Report the mean  𝑅2  along with the 90% CI for the 18 scenarios. Notice that you can calculate the 90% CI in a bootstrap-like fashion."
   ]
  },
  {
   "cell_type": "code",
   "execution_count": 433,
   "metadata": {},
   "outputs": [
    {
     "name": "stdout",
     "output_type": "stream",
     "text": [
      "Scenario 0 : The mean R2 is equal to 0.20237224797904046 with a 90% CI equal to [0.09307305582617853, 0.2862114689320536]. \n",
      "Scenario 1 : The mean R2 is equal to 0.1974256597292519 with a 90% CI equal to [0.09125241712184895, 0.27701918816167326]. \n",
      "Scenario 2 : The mean R2 is equal to 0.19316718256534904 with a 90% CI equal to [0.0930853873404559, 0.27196817468543455]. \n",
      "Scenario 3 : The mean R2 is equal to 0.1842393235039952 with a 90% CI equal to [0.0727784232351697, 0.2606634427708543]. \n",
      "Scenario 4 : The mean R2 is equal to 0.17669635181548746 with a 90% CI equal to [0.06918090069824467, 0.2766145988969331]. \n",
      "Scenario 5 : The mean R2 is equal to 0.16915985678225698 with a 90% CI equal to [0.05934833560885966, 0.27022819984885227]. \n",
      "Scenario 6 : The mean R2 is equal to 0.20106269914436153 with a 90% CI equal to [0.1022047315691258, 0.27254368982077337]. \n",
      "Scenario 7 : The mean R2 is equal to 0.2055827246480971 with a 90% CI equal to [0.09857211166559698, 0.2841243467943312]. \n",
      "Scenario 8 : The mean R2 is equal to 0.20363513039464154 with a 90% CI equal to [0.09300908432308341, 0.28254457784656883]. \n",
      "Scenario 9 : The mean R2 is equal to 0.20019995807464755 with a 90% CI equal to [0.09101593355208049, 0.2795031178224251]. \n",
      "Scenario 10 : The mean R2 is equal to 0.19471187072880194 with a 90% CI equal to [0.08972469380016879, 0.2670980639748528]. \n",
      "Scenario 11 : The mean R2 is equal to 0.19082712071941735 with a 90% CI equal to [0.08380269236495963, 0.2629693179960717]. \n",
      "Scenario 12 : The mean R2 is equal to 0.11107733397782782 with a 90% CI equal to [0.08094627893163941, 0.14627866411925217]. \n",
      "Scenario 13 : The mean R2 is equal to 0.14036700124745644 with a 90% CI equal to [0.10114253789787109, 0.18483775486847542]. \n",
      "Scenario 14 : The mean R2 is equal to 0.1603554072097629 with a 90% CI equal to [0.1074174369301295, 0.21339323840898317]. \n",
      "Scenario 15 : The mean R2 is equal to 0.18359356308801472 with a 90% CI equal to [0.11272383335274117, 0.246128130170717]. \n",
      "Scenario 16 : The mean R2 is equal to 0.1943520955779066 with a 90% CI equal to [0.10760410213380911, 0.260852887010911]. \n",
      "Scenario 17 : The mean R2 is equal to 0.20025593844009246 with a 90% CI equal to [0.10476411673807973, 0.27301223260640195]. \n"
     ]
    }
   ],
   "source": [
    "R2_mean = result.mean(axis=1)\n",
    "# number of scenario\n",
    "scenarios = np.arange(18)\n",
    "\n",
    "#printing result\n",
    "for scenario in scenarios:\n",
    "    print('Scenario {0} : The mean R2 is equal to {1} with a 90% CI equal to {2}. '.format(\n",
    "        scenario,R2_mean[scenario],confidence_interval[scenario]))"
   ]
  },
  {
   "cell_type": "code",
   "execution_count": 445,
   "metadata": {},
   "outputs": [
    {
     "data": {
      "image/png": "[encoded data removed]",
      "text/plain": [
       "<Figure size 900x600 with 1 Axes>"
      ]
     },
     "metadata": {},
     "output_type": "display_data"
    }
   ],
   "source": [
    "# plotting Warning the line represent the median the circle are the R2 mean of each scenario\n",
    "plt.rcParams['figure.figsize'] = [9, 6]\n",
    "plt.rcParams['figure.dpi'] = 100 # 200 e.g. is really fine, but slower\n",
    "font = {'family' : 'DejaVu Sans',\n",
    "        'weight' : 'normal',\n",
    "        'size'   : 18}\n",
    "\n",
    "plt.rc('font', **font)\n",
    "\n",
    "sns.boxplot(data=result.T,showmeans=True,meanprops={\"marker\":\"o\",\n",
    "                       \"markerfacecolor\":\"white\", \n",
    "                       \"markeredgecolor\":\"black\",\n",
    "                      \"markersize\":\"10\"}, whis =.9)\n",
    "plt.xlabel('Scenarios')\n",
    "plt.ylabel('R2')\n",
    "plt.show()"
   ]
  },
  {
   "cell_type": "markdown",
   "metadata": {},
   "source": [
    "#### **1.5.3**\n",
    "With the best hyper-parameters obtained, train your model with the entire training set and report the $R^2$ on the testing set."
   ]
  },
  {
   "cell_type": "code",
   "execution_count": 223,
   "metadata": {},
   "outputs": [],
   "source": [
    "# training the model for our best parameter\n",
    "\n",
    "optimal_reg = ensemble.GradientBoostingRegressor(**best_param).fit(X_train,y_train)"
   ]
  },
  {
   "cell_type": "code",
   "execution_count": 224,
   "metadata": {},
   "outputs": [
    {
     "name": "stdout",
     "output_type": "stream",
     "text": [
      "R2 on testing set =  0.22111889997778844\n"
     ]
    }
   ],
   "source": [
    "# prediction and R2\n",
    "pred = optimal_reg.predict(X_test)\n",
    "r2 = metrics.r2_score(y_test,pred)\n",
    "print('R2 on testing set = ',r2)"
   ]
  },
  {
   "cell_type": "markdown",
   "metadata": {},
   "source": [
    "#### **1.5.4**\n",
    "#### **Discussion:** \n",
    "**Why don't we tune the hyper-parameters in the testing set instead of doing cross-validation in the training set?**"
   ]
  },
  {
   "cell_type": "markdown",
   "metadata": {},
   "source": [
    "To have a better representation of the reality, the hyper-parameters must be only train on the train set. If we train the hyper-parameters on the test set we can have a model perfectly representative of our test set but that behave poorly with other data. In order to avoid that, we used the cross  k  validation on the train test in order to get a good estimation of the true loss and the true accuracy of our model. The model is also much more robust to other data with same features."
   ]
  },
  {
   "cell_type": "markdown",
   "metadata": {},
   "source": [
    "## _Step 2:_ What influences papers getting accepted?\n",
    "\n",
    "Time to change hats!\n",
    "\n",
    "If before we were interested in creating an accurate regressor, now we are interested in understanding what increases the chance of papers getting accepted. \n",
    "\n",
    "Typically, in that scenario, simpler models with a clear statistical interpretation (e.g. logistic regression) yield more interesting insights.\n",
    "\n",
    "For the analysis in this and the next step, you should use [statsmodels](https://www.statsmodels.org/) (for the regressions) and [scipy](https://www.scipy.org/) (for the statistical hypothesis testing).\n"
   ]
  },
  {
   "cell_type": "markdown",
   "metadata": {},
   "source": [
    "### Task 2.1\n",
    "\n",
    "Let's warm up with some visualizations and some hypothesis testing!\n",
    "\n",
    "1. Plot the distributions of 1) ratings of papers that got accepted in 2020, 2) ratings of papers that got rejected in 2020.\n",
    "2. Select a statistical test to compare whether the mean for ratings of papers that got accepted in 2020 is significantly higher.\n",
    "3. **Discuss:** Justify why the statistical test you selected is appropriate. Interpret the test-related statistic and its p-value: concretely, what do they mean?"
   ]
  },
  {
   "cell_type": "code",
   "execution_count": null,
   "metadata": {
    "scrolled": true
   },
   "outputs": [],
   "source": [
    "accept_2020 = df[(df['year'] == 2020)&(df['decisions'] == 'Accept')]['ratings']\n",
    "reject_2020 = df[(df['year'] == 2020)&(df['decisions'] == 'Reject')]['ratings']"
   ]
  },
  {
   "cell_type": "code",
   "execution_count": null,
   "metadata": {},
   "outputs": [],
   "source": [
    "accept_2020.hist(bins = 30)"
   ]
  },
  {
   "cell_type": "code",
   "execution_count": null,
   "metadata": {
    "scrolled": true
   },
   "outputs": [],
   "source": [
    "reject_2020.hist(bins = 30)"
   ]
  },
  {
   "cell_type": "code",
   "execution_count": null,
   "metadata": {},
   "outputs": [],
   "source": [
    "accept_2020.plot.box()"
   ]
  },
  {
   "cell_type": "code",
   "execution_count": null,
   "metadata": {},
   "outputs": [],
   "source": [
    "reject_2020.plot.box()"
   ]
  },
  {
   "cell_type": "code",
   "execution_count": null,
   "metadata": {},
   "outputs": [],
   "source": [
    "accept_2020.mean()"
   ]
  },
  {
   "cell_type": "code",
   "execution_count": null,
   "metadata": {},
   "outputs": [],
   "source": [
    "reject_2020.mean()"
   ]
  },
  {
   "cell_type": "code",
   "execution_count": null,
   "metadata": {},
   "outputs": [],
   "source": [
    "scipy.stats.ttest_ind(accept_2020, reject_2020)"
   ]
  },
  {
   "cell_type": "code",
   "execution_count": null,
   "metadata": {},
   "outputs": [],
   "source": [
    "df.head()"
   ]
  },
  {
   "cell_type": "markdown",
   "metadata": {},
   "source": [
    "### Task 2.2\n",
    "\n",
    "We will now carry out a logistic regression modeling the binary variable `decisions` as a function of the continuous variable `ratings` and an intercept. \n",
    "\n",
    "Recall that a logistic regression is a model in the form:\n",
    "\n",
    "$$\n",
    "\\log \\Big( \\frac{p}{1-p} \\Big) = b_0 + b_1x_1 + b_2x_2 + \\ldots\n",
    "$$\n",
    "\n",
    "Where $p$ is the probability of the dependent variable (here, `decisions`) being equals to 1. \n",
    "Note that $\\frac{p}{1-p}$ represents the odds of the variable, and thus, on the left-hand side we have the log-odds of the variable.\n",
    "This can be also written as:\n",
    "\n",
    "$$\n",
    "\\Big( \\frac{p}{1-p} \\Big) = e^{b_0 + b_1 x_1 + b_2 x_2 + \\ldots} =  e^{b_0} e^{b_1 x_1} e^{b_2 x_2} \\ldots\n",
    "$$\n",
    "\n",
    "Given a linear variable, say $x_1$, if we increase the value associated with this variable by a single unit, and keep everything constant, we have:\n",
    "\n",
    "$$\n",
    " e^{b_1(x_1+1)} =  e^{b_1 x_1 + b_1} = e^{b_1 x_1}e^{b_1}  \n",
    "$$\n",
    "\n",
    "This means that we multiply the odds of the outcome variable by $e^{b_1}$. Thus, let's say that $x_1$ is the average rating, and $\\beta_1$ is the associated coefficient. Also, let's assume that $\\beta_1$ equals 2. In that case, increasing the score of the paper by 1 unit is equivalent to multiplying both sides of the previous equation by $e^{b_1}$. The original equation for our model becomes:\n",
    "\n",
    "$$\n",
    "\\Big( \\frac{p}{1-p} \\Big) = e^{b_0} e^{b_1 x_1} \n",
    "$$\n",
    "$$\n",
    "\\Big( \\frac{p}{1-p} \\Big) e^{b_1}  = e^{b_0} e^{b_1 x_1} e^{b_1}\n",
    "$$\n",
    "\n",
    "Since $b_1=2$, we have that this is the same as multiplying the odds of the variable by $e^2\\approx7$. \n",
    "So for example, if a paper with a score 5 had $p=0.05$ of being approved, its odds would be $0.05/0.95\\approx0.052$. According to our model, an increase in 1-rating point would mean that the new odds would be $0.052*7\\approx0.36$. Using the odds formula  ($\\frac{p}{1-p}$), this suggests that this paper would have a chance of $0.56$ of being accepted.\n",
    "\n",
    "---\n",
    "\n",
    "This is the theory. Now, let's find out what the real world looks like.\n",
    "\n",
    "\n",
    "1. Fit a logistic regression model to our data considering as the training set all papers submitted in 2020. Your model should predict a binary variable related to decisions (which equals true if the paper was accepted and false otherwise) as a function of the paper ratings and an intercept. In mathematical notation:\n",
    "$$\n",
    "d = b_0 + r b_1\n",
    "$$\n",
    "Where $d$ is the binary variable corresponding to a decision, $r$ is a numeric variable corresponding to the rating a paper has received and $b$ are coefficients.\n",
    "Notice that here we have no testing set!\n",
    "Report the summary of your model. \n",
    "2. **Discuss:** Interpreting the coefficients of your model, calculate the probability that a paper with a score 7 will be accepted.\n"
   ]
  },
  {
   "cell_type": "code",
   "execution_count": null,
   "metadata": {
    "scrolled": true
   },
   "outputs": [],
   "source": [
    "def decisions(x):\n",
    "    if x == 'Accept':\n",
    "        return 1\n",
    "    else:\n",
    "        return 0\n",
    "\n",
    "df['decisions'] = df['decisions'].apply(decisions)"
   ]
  },
  {
   "cell_type": "code",
   "execution_count": null,
   "metadata": {},
   "outputs": [],
   "source": [
    "df_20 = df[df['year'] == 2020]\n",
    "X = df_20['ratings']\n",
    "X = sm.add_constant(X)\n",
    "y = df_20['decisions']"
   ]
  },
  {
   "cell_type": "code",
   "execution_count": null,
   "metadata": {},
   "outputs": [],
   "source": [
    "y"
   ]
  },
  {
   "cell_type": "code",
   "execution_count": null,
   "metadata": {},
   "outputs": [],
   "source": [
    "log = sm.Logit(y, X).fit()"
   ]
  },
  {
   "cell_type": "code",
   "execution_count": null,
   "metadata": {},
   "outputs": [],
   "source": [
    "log.summary()"
   ]
  },
  {
   "cell_type": "code",
   "execution_count": null,
   "metadata": {},
   "outputs": [],
   "source": [
    "log.predict([1,7])"
   ]
  },
  {
   "cell_type": "markdown",
   "metadata": {},
   "source": [
    "### Task 2.3\n",
    "\n",
    "Our model is not so interesting since the only independent variable (that is, our model' feature or predictor) is something blatantly associated with paper acceptance. Let's go further! \n",
    "\n",
    "1. Run a logistic regression with the binary decision as the dependent variable (the outcome) and using as independent variables (the features): ratings, the reputation of the last author, and whether the paper was on arxiv or not. That is, in [patsy-style formula](https://patsy.readthedocs.io/en/latest/formulas.html): `decisions ~ ratings + reputation + arxiv` (variable names do not need to be exactly these). Consider all papers submitted in 2020 as your training data.\n",
    "Notice that reputation was calculated in Task 1.1. \n",
    "2. **Discuss:** Unlike `ratings` and `reputation`, the variable `arxiv` is binary. Following the same logic as we did for continuous variables in the text of Task 2.2, interpret the meaning of this coefficient. What happens to the odds ratio if the paper was seen in arxiv? Is this effect statistically significant?"
   ]
  },
  {
   "cell_type": "code",
   "execution_count": null,
   "metadata": {},
   "outputs": [],
   "source": [
    "df_20['reputation'].describe()"
   ]
  },
  {
   "cell_type": "code",
   "execution_count": null,
   "metadata": {
    "scrolled": true
   },
   "outputs": [],
   "source": [
    "formula = 'decisions ~ ratings + reputation + C(arxiv_True)'\n",
    "log_2 = sm.Logit.from_formula(formula,data = df_20).fit()"
   ]
  },
  {
   "cell_type": "code",
   "execution_count": null,
   "metadata": {
    "scrolled": true
   },
   "outputs": [],
   "source": [
    "log_2.summary()"
   ]
  },
  {
   "cell_type": "code",
   "execution_count": null,
   "metadata": {},
   "outputs": [],
   "source": [
    "log_2.predict([1,7,1.2,1])"
   ]
  },
  {
   "cell_type": "markdown",
   "metadata": {},
   "source": [
    "### Task 2.4\n",
    "\n",
    "Let's finally move on to the question that you have been dying to answer: Do pre-prints favor top institutions? \n",
    "\n",
    "In order to (try to) answer that question, you must fit yet another logistic regression.\n",
    "\n",
    "Your regression should have the paper decision as the dependent variable, and `ratings`, `reputation`, and `arxiv` as independent variables just like in task 2.3. Yet, here, include also as independent variables the binary variable `has_top_institution`, which equals 1 if the paper has an author in a top-10 institution; and the interaction variable `arxiv:has_top_institution`, which equals one only if the paper is from a top-10 institution **and** if it appeared on arxiv before the submission deadline. In patsy-style formula your model should look something like: \n",
    "\n",
    "`decisions_bool ~ ratings + reputation + arxiv + has_top_institution + arxiv:has_top_institution`\n",
    "\n",
    "\n",
    "1. Fit this model and estimate the effect of posting on arxiv for a top institution. Again, consider only papers submitted in the 2020 edition.\n",
    "2. **Discuss:** Interpreting the p-values, discuss: is this evidence that arxiv breaks double-blind submissions?"
   ]
  },
  {
   "cell_type": "code",
   "execution_count": null,
   "metadata": {},
   "outputs": [],
   "source": [
    "df_20.head()"
   ]
  },
  {
   "cell_type": "code",
   "execution_count": null,
   "metadata": {},
   "outputs": [],
   "source": [
    "formula = 'decisions ~ ratings + reputation + C(arxiv_True) + C(has_top_institution) + arxiv_True:has_top_institution'\n",
    "favor = sm.Logit.from_formula(formula,data = df_20).fit()"
   ]
  },
  {
   "cell_type": "code",
   "execution_count": null,
   "metadata": {},
   "outputs": [],
   "source": [
    "favor.summary()"
   ]
  },
  {
   "cell_type": "markdown",
   "metadata": {},
   "source": [
    "## Step 3: Matching\n",
    "\n",
    "Okay, so let's change hats one last time.\n",
    "\n",
    "As you have all seen in class, a particularly powerful way of disentangling causal effects from observational data is through matching: making sure we are not comparing apples to oranges.\n",
    "\n",
    "\n",
    "### Task 3.1\n",
    "\n",
    "One of the ways to do matching is called \"Propensity Score Matching.\" There, we calculate a *propensity score* for each subject which represents the propensity to receive a \"treatment.\" Then, we match subjects who received and did not receive the treatment, but that had similar propensity scores (that is, even though some received the treatment and some did not, they had similar chances to receive it).\n",
    "\n",
    "In our specific case, we can further attempt to study the impact of pre-prints by considering publishing to arxiv as our \"treatment\".\n",
    "\n",
    "In that context, the first step to perform propensity score matching is to create a classifier that predicts whether a paper was published on arxiv or not.\n",
    "\n",
    "1. We have trained this classifier for you (don't get spoiled!). You may load the pandas dataframe entitled `propensity_scores.csv.gz` from the github repo. \n",
    "Notice that we will be using only the articles published in 2020. \n",
    "Create a new dataframe that is a merged version of this new dataframe with the dataframe you have been working on so far. Remember to keep only the papers published in 2020!\n",
    "2. **Discuss:** In which way is this classifier (that is a classifier trained to estimate propensity scores) different from the previous classifier that you trained in Step 1?\n",
    "\n",
    "**Hint:** For a classifier tra we don't need a training set and a test set!\n"
   ]
  },
  {
   "cell_type": "code",
   "execution_count": null,
   "metadata": {},
   "outputs": [],
   "source": [
    "PROP_PATH = './Data/propensity_scores.csv.gz'\n",
    "propensity_df = pd.read_csv(PROP_PATH, compression = 'gzip')"
   ]
  },
  {
   "cell_type": "code",
   "execution_count": null,
   "metadata": {},
   "outputs": [],
   "source": [
    "prop_20 = df_20.merge(propensity_df, on = 'paper')"
   ]
  },
  {
   "cell_type": "markdown",
   "metadata": {},
   "source": [
    "### Task 3.2\n",
    "\n",
    "Now is time to match users! You will be implementing a technique called *caliper matching*. \n",
    "\n",
    "Create pairs of users as follows. For each treated subject (here a paper that was submitted to arxiv), find a non-treated subject (a paper that was not submitted to arxiv) with similar propensity score. Namely, if the propensity score of the treated unit is $p_t$, you must find a non-treated unit $p_c$ with propensity score $|p_{c} - p_t| < \\epsilon$. If there is no such a non-treated unit, you may ignore the treated unit and move forward with the matching. Notice that your output must be a 1-to-1 matching. So each paper can only be matched once.\n",
    "\n",
    "1. Perform this matching procedure using $\\epsilon = 0.05$.\n",
    "2. Report how many pairs did you manage to match? How many didn't you?"
   ]
  },
  {
   "cell_type": "code",
   "execution_count": null,
   "metadata": {},
   "outputs": [],
   "source": [
    "prop_20_not['propensity_score'].describe()"
   ]
  },
  {
   "cell_type": "code",
   "execution_count": null,
   "metadata": {},
   "outputs": [],
   "source": [
    "prop_20_arxiv = prop_20[prop_20['arxiv_True'] == 1] \n",
    "prop_20_not = prop_20[prop_20['arxiv_True'] == 0]"
   ]
  },
  {
   "cell_type": "code",
   "execution_count": null,
   "metadata": {},
   "outputs": [],
   "source": [
    "B = nx.Graph()\n",
    "B.add_nodes_from(list(prop_20_arxiv.index), bipartite = 0)\n",
    "B.add_nodes_from(list(prop_20_not.index), bipartite = 1)"
   ]
  },
  {
   "cell_type": "code",
   "execution_count": null,
   "metadata": {},
   "outputs": [],
   "source": [
    "graph_arxiv = prop_20_arxiv['propensity_score'].to_dict()\n",
    "graph_not = prop_20_not['propensity_score'].to_dict()"
   ]
  },
  {
   "cell_type": "code",
   "execution_count": null,
   "metadata": {},
   "outputs": [],
   "source": [
    "E = .05\n",
    "for key,value in graph_arxiv.items():\n",
    "    for key_2,value_2 in graph_not.items():\n",
    "        if np.abs(value-value_2) <= E:\n",
    "            B.add_edge(key, key_2, weight = np.abs(value-value_2))"
   ]
  },
  {
   "cell_type": "code",
   "execution_count": null,
   "metadata": {},
   "outputs": [],
   "source": [
    "bipartite.is_bipartite(B)"
   ]
  },
  {
   "cell_type": "code",
   "execution_count": null,
   "metadata": {},
   "outputs": [],
   "source": [
    "for line in bipartite.generate_edgelist(B):\n",
    "    print(line)\n",
    "    break"
   ]
  },
  {
   "cell_type": "code",
   "execution_count": null,
   "metadata": {},
   "outputs": [],
   "source": [
    "len(prop_20_arxiv)"
   ]
  },
  {
   "cell_type": "code",
   "execution_count": null,
   "metadata": {},
   "outputs": [],
   "source": [
    "matches = bipartite.minimum_weight_full_matching(B,list(prop_20_arxiv.index))"
   ]
  },
  {
   "cell_type": "code",
   "execution_count": null,
   "metadata": {},
   "outputs": [],
   "source": [
    "prop_20_matched = prop_20_arxiv.copy()"
   ]
  },
  {
   "cell_type": "code",
   "execution_count": null,
   "metadata": {},
   "outputs": [],
   "source": [
    "prop_20_matched['match'] = prop_20_arxiv.index.map(matches)"
   ]
  },
  {
   "cell_type": "code",
   "execution_count": null,
   "metadata": {},
   "outputs": [],
   "source": [
    "prop_20_matched = prop_20_matched.merge(prop_20_not, right_index = True, left_on = 'match', suffixes = ['_treat','_not'])"
   ]
  },
  {
   "cell_type": "markdown",
   "metadata": {
    "pycharm": {
     "name": "#%% md\n"
    }
   },
   "source": [
    "### Task 3.3\n",
    "\n",
    "Let's evaluate your matching! There are more rigorous ways to do it, but we'll go the easy path.\n",
    "\n",
    "\n",
    "1. Using one or several appropriate plot types, visualize the distributions of the variables reputation and ratings, for treated and non-treated subjects that you matched.\n",
    "2. Visualize the distributions of these variables for all papers from 2020 that appeared on arxiv, and all papers that did not (including those you did not manage to match).\n",
    "3. **Discuss:** According to your visual analysis (no statistical tests needed here), did the matching do a good job at balancing covariates?"
   ]
  },
  {
   "cell_type": "code",
   "execution_count": null,
   "metadata": {},
   "outputs": [],
   "source": [
    "fig, axs = plt.subplots(1,figsize=(10, 3), sharex = True, sharey = True)\n",
    "axs.scatter(prop_20_matched['ratings_treat'],prop_20_matched['ratings_not'])\n",
    "plt.show()"
   ]
  },
  {
   "cell_type": "code",
   "execution_count": null,
   "metadata": {
    "scrolled": true
   },
   "outputs": [],
   "source": [
    "fig, axs = plt.subplots(1,figsize=(10, 3), sharex = True, sharey = True)\n",
    "axs.scatter(prop_20_matched['reputation_treat'],prop_20_matched['reputation_not'])\n",
    "plt.show()"
   ]
  },
  {
   "cell_type": "code",
   "execution_count": null,
   "metadata": {},
   "outputs": [],
   "source": [
    "fig, axs = plt.subplots(3,1,figsize=(10, 3), sharex = True, sharey = True)\n",
    "sns.boxplot(x = prop_20_matched['ratings_treat'], ax = axs[0])\n",
    "sns.boxplot(x = prop_20_matched['ratings_not'], ax = axs[1])\n",
    "sns.boxplot(x = prop_20_not['ratings'], ax = axs[2])\n",
    "plt.tight_layout()\n",
    "plt.show()"
   ]
  },
  {
   "cell_type": "code",
   "execution_count": null,
   "metadata": {},
   "outputs": [],
   "source": [
    "fig, axs = plt.subplots(3,1,figsize=(10, 3), sharex = True, sharey = True)\n",
    "sns.boxplot(x = prop_20_matched['reputation_treat'], ax = axs[0])\n",
    "sns.boxplot(x = prop_20_matched['reputation_not'], ax = axs[1])\n",
    "sns.boxplot(x = prop_20_not['reputation'], ax = axs[2])\n",
    "plt.tight_layout()\n",
    "plt.show()"
   ]
  },
  {
   "cell_type": "code",
   "execution_count": null,
   "metadata": {},
   "outputs": [],
   "source": [
    "fig, axs = plt.subplots(1,3,figsize=(10, 3), sharex = True, sharey = True)\n",
    "axs[0].hist(prop_20_matched['ratings_treat'], bins = 10, density = True)\n",
    "axs[1].hist(prop_20_matched['ratings_not'], bins = 10, density = True)\n",
    "axs[2].hist(prop_20_not['ratings'], bins = 10, density = True)\n",
    "plt.show()"
   ]
  },
  {
   "cell_type": "code",
   "execution_count": null,
   "metadata": {
    "scrolled": true
   },
   "outputs": [],
   "source": [
    "fig, axs = plt.subplots(1,3,figsize=(10, 3), sharex = True, sharey = True)\n",
    "axs[0].hist(prop_20_matched['reputation_treat'], bins = 15, density = True)\n",
    "axs[1].hist(prop_20_matched['reputation_not'], bins = 15, density = True)\n",
    "axs[2].hist(prop_20_not['reputation'], bins = 15, density = True)\n",
    "plt.show()"
   ]
  },
  {
   "cell_type": "code",
   "execution_count": null,
   "metadata": {},
   "outputs": [],
   "source": [
    "fig, axs = plt.subplots(1,2,figsize=(10, 3), sharex = True, sharey = True)\n",
    "axs[0].hist(prop_20_matched['ratings_treat'], bins = 15, density = True)\n",
    "axs[1].hist(prop_20_not['ratings'], bins = 15, density = True)\n",
    "plt.show()"
   ]
  },
  {
   "cell_type": "code",
   "execution_count": null,
   "metadata": {
    "scrolled": true
   },
   "outputs": [],
   "source": [
    "fig, axs = plt.subplots(1,2,figsize=(10, 3), sharex = True, sharey = True)\n",
    "axs[0].hist(prop_20_matched['reputation_treat'], bins = 15, density = True)\n",
    "axs[1].hist(prop_20_not['reputation'], bins = 15, density = True)\n",
    "plt.show()"
   ]
  },
  {
   "cell_type": "markdown",
   "metadata": {
    "pycharm": {
     "name": "#%% md\n"
    }
   },
   "source": [
    "### Task 3.4\n",
    "\n",
    "Finally, it's time to estimate the treatment effect. Given that we have pairs of matched samples, one that received treatment and one that did not, and that they have associated outcomes $y_{treat}$ and $y_{\\neg treat}$. We can calculate the average treatment effect as:\n",
    "\n",
    "$$\n",
    "ATE = \\frac{1}{N} \\sum_i^N  y_{treat}^{(i)} - y_{\\neg treat}^{(i)}\n",
    "$$\n",
    "\n",
    "Notice that here the outcome is a simple binary variable which equals 1 if the paper has been accepted and equals 0 if the paper has been rejected, and $N$ is the total number of matched samples in our analysis.\n",
    "\n",
    "According to your matched sample, estimate the treatment effect of publishing a paper on arxiv. Report the 95% CI through bootstrapping.\n"
   ]
  },
  {
   "cell_type": "code",
   "execution_count": null,
   "metadata": {},
   "outputs": [],
   "source": [
    "import random"
   ]
  },
  {
   "cell_type": "code",
   "execution_count": null,
   "metadata": {
    "pycharm": {
     "name": "#%%\n"
    }
   },
   "outputs": [],
   "source": [
    "iters = 1\n",
    "ate = []\n",
    "for i in range(iters):\n",
    "    sample = prop_20_matched.sample(frac = 1, replace = False)\n",
    "    ate.append(np.sum(sample['decisions_treat'] - sample['decisions_not'])/sample.shape[0])"
   ]
  },
  {
   "cell_type": "code",
   "execution_count": null,
   "metadata": {},
   "outputs": [],
   "source": [
    "ate"
   ]
  },
  {
   "cell_type": "code",
   "execution_count": null,
   "metadata": {},
   "outputs": [],
   "source": [
    "sum(sample['decisions_treat'] - sample['decisions_not'])"
   ]
  },
  {
   "cell_type": "code",
   "execution_count": null,
   "metadata": {},
   "outputs": [],
   "source": [
    "sum(sample['decisions_treat'])"
   ]
  },
  {
   "cell_type": "code",
   "execution_count": null,
   "metadata": {},
   "outputs": [],
   "source": [
    "sum(sample['decisions_not'])"
   ]
  },
  {
   "cell_type": "code",
   "execution_count": null,
   "metadata": {},
   "outputs": [],
   "source": [
    "plt.hist(ate)\n",
    "plt.show()"
   ]
  },
  {
   "cell_type": "code",
   "execution_count": null,
   "metadata": {},
   "outputs": [],
   "source": [
    "sns.boxplot(x = ate)"
   ]
  },
  {
   "cell_type": "markdown",
   "metadata": {
    "pycharm": {
     "name": "#%% md\n"
    }
   },
   "source": [
    "### Task 3.5\n",
    "\n",
    "Wait, but what about prestigious institutions? \n",
    "\n",
    "1.  To understand what is going on there, repeat tasks 3.2 to 3.4 considering *only* the top 10 institutions. Notice that you can use the same propensity scores and re-do the steps in a reduced dataframe containing only top-institutions.\n",
    "2. **Discuss:** Is this evidence that arxiv breaks double-blind submissions?"
   ]
  },
  {
   "cell_type": "code",
   "execution_count": null,
   "metadata": {
    "pycharm": {
     "name": "#%%\n"
    }
   },
   "outputs": [],
   "source": [
    "### Your code here! ###"
   ]
  },
  {
   "cell_type": "code",
   "execution_count": null,
   "metadata": {},
   "outputs": [],
   "source": []
  }
 ],
 "metadata": {
  "kernelspec": {
   "display_name": "Python 3",
   "language": "python",
   "name": "python3"
  },
  "language_info": {
   "codemirror_mode": {
    "name": "ipython",
    "version": 3
   },
   "file_extension": ".py",
   "mimetype": "text/x-python",
   "name": "python",
   "nbconvert_exporter": "python",
   "pygments_lexer": "ipython3",
   "version": "3.8.5"
  },
  "pycharm": {
   "stem_cell": {
    "cell_type": "raw",
    "metadata": {
     "collapsed": false
    },
    "source": []
   }
  }
 },
 "nbformat": 4,
 "nbformat_minor": 4
}
