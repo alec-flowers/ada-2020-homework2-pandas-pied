{
 "cells": [
  {
   "cell_type": "markdown",
   "metadata": {},
   "source": [
    "# Homework 2 (HW2)\n",
    "\n",
    "---\n",
    "By the end of this homework we expect you to be able to:\n",
    "1. Preprocess data and make it amenable to statistical analysis and machine learning models;\n",
    "2. Train and test out-of-the-box machine learning models in Python;\n",
    "3. Carry out statistical hypothesis testing;\n",
    "4. Carry out simple multivariate regression analyses;\n",
    "5. Use techniques to control for covariates;\n",
    "---\n",
    "\n",
    "## Important Dates\n",
    "\n",
    "- Homework release: Fri 6 Nov 2020\n",
    "- **Homework due**: Fri 20 Nov 2020, 23:59\n",
    "- Grade release: Mon 30 Nov 2020\n",
    "\n",
    "---\n",
    "\n",
    "##  Some rules\n",
    "\n",
    "1. You are allowed to use any built-in Python library that comes with Anaconda. If you want to use an external library, you have to justify your choice.\n",
    "2. Make sure you use the data folder provided in the repository in **read-only** mode.\n",
    "3. Be sure to provide a textual description of your thought process, the assumptions you made, the solution you implemented, and explanations for your answers. A notebook that only has code cells will not suffice.\n",
    "4. For questions containing the **/Discuss:/** prefix, answer not with code, but with a textual explanation (in markdown).\n",
    "5. Back up any hypotheses and claims with data, since this is an important aspect of the course.\n",
    "6. Please write all your comments in English, and use meaningful variable names in your code. Your repo should have a single notebook (plus the required data files) in the master branch. If there are multiple notebooks present, we will **strictly** not grade anything.\n",
    "7. Also, be sure to hand in a fully-run and evaluated notebook. We will not run your notebook for you, we will grade it as is, which means that only the results contained in your evaluated code cells will be considered, and we will not see the results in unevaluated code cells. In order to check whether everything looks as intended, you can check the rendered notebook on the GitHub website once you have pushed your solution there.\n",
    "8. Make sure to print results or dataframes that confirm you have properly addressed the task.\n",
    "9. Lastly, the grading is done in the *double blind* mode, i.e., the TAs grades an anonymized version of your notebook, so make sure that your notebook **neither has your team name nor the names of the members**.\n",
    "\n",
    "## Context\n",
    "\n",
    "Publishing papers is a big part of the lives of [Ph.D. students](http://phdcomics.com/comics/archive.php?comicid=154), [post-docs](http://phdcomics.com/comics/archive.php?comicid=1744) and [professors](http://phdcomics.com/comics/archive.php?comicid=1051). \n",
    "In Computer Science, publishing happens mostly in conferences. What follows is a slight simplification of how these conferences decide which papers to accept and which papers to reject.\n",
    " \n",
    "Every year, scholars submit papers to prestigious conferences. The papers are then assigned to reviewers (usually around 3), who are other people from the same research community (respect thy neighbor!). Each reviewer weighs in on whether they believe the papers they were assigned are good or bad, and write a review, often along with a score (e.g. +3 Strong Accept, +2 Accept, +1 Weak Accept, 0 Borderline, …,  -3 Strong Reject). Then, in the end, \"special\" reviewers called, \"Area Chairs\" analyze all the reviews that were written for the same paper and decide what gets accepted and what gets rejected. Importantly, throughout this whole dance, reviewers and authors are anonymous. When you're reviewing a paper, you do not know who wrote it. And when you receive the review, you don't know who reviewed it. Because of that, we call this a double-blind reviewing process.\n",
    "\n",
    "An interesting development that has evolved in recent years is the rise of pre-prints. In previous times, researchers often exposed their research to the world only after it had been peer-reviewed and published in a conference or a journal. But recently researchers are much keener to let their ideas out into the world as soon as possible, and they publish their research before it has been approved to any conference or journal, by posting the research on so-called pre-print servers. The most common pre-print server for Computer Science, Physics, and Maths is called [arXiv](https://arxiv.org/), for Biology, an increasingly popular one is [bioRxiv](https://www.biorxiv.org/), for Psychology [psyArXiv](https://psyarxiv.com/) (they are not very creative with the names). Notice that pre-prints and peer-review are not mutually exclusive, in fact, usually, you publish your pre-print, and then you try to publish your work in a peer-reviewed setting.\n",
    "\n",
    "Overall, publishing pre-prints has many benefits. They make science more accessible and hasten the circulation of important results in the academic community. However, a big issue brought forth with pre-prints is that they often break the anonymity in the double-blind reviewing process. For instance, in machine learning, since most papers are published as pre-prints, it is often easy to figure out if the paper you are reviewing is from a famous researcher or a big company with prominent research scientists. From critics' viewpoint, knowing the authors of the papers you are reviewing can bias your reviews. If you know that a given author is famous, you'd be more inclined to take his or her word for granted. If the author is from an institution you’ve never heard about, you are more likely to doubt his or her findings.\n",
    "\n",
    "In this homework, we will take a data-driven deep dive into the world of academic publishing. Can you use your freshly acquired data-science skills to predict which papers are going to make the cut? Are your data analysis skills sharp enough to figure out whether the aforementioned concerns about pre-print issues are justified?\n",
    "\n",
    "\n",
    "## The data\n",
    "\n",
    "The data, whose source has been *\"double-blinded\"* from you, and which has been simplified a bit for the assignment, contains information about submissions to a prestigious machine learning conference called ICLR (pronounced “I-clear”). You can find the dataframe in the git repo for the homework (`./data/dataset_final.csv`). We provide a brief description of the fields you will encounter.\n",
    "\n",
    "- `year`: year the paper has been submitted to ICLR. Notice that we provide data for three years, 2018, 2019, and 2020.\n",
    "\n",
    "\n",
    "- `paper`: title of the paper.\n",
    "\n",
    "\n",
    "- `authors`: names of the authors separated by ;.\n",
    "\n",
    "\n",
    "- `ratings`: mean rating given to the paper by the reviewers.\n",
    "\n",
    "\n",
    "- `decisions`: either Accept if the paper was accepted, or Reject otherwise.\n",
    "\n",
    "\n",
    "- `institution`: institutions for each of the authors, separated by ;.\n",
    "\n",
    "\n",
    "- `csranking`: ranking of the institutions according to csrankings. The better the institution, the better the rank. Notice that, if a paper has more than 1 author, this field will contain multiple values, separated by ;. For institutions that are not in csrankings, the value will be -1.\n",
    "\n",
    "\n",
    "- `categories`: topical categories of the paper. Each number corresponds to a different category: (1) Theory, (2) Computer Vision, (3) Natural Language Processing, (4) Adversarial ML, (5) Generative Modeling, (7) Fairness, (8) Generalization, (9) Optimization, (10) Graphs, (11) Bayesian Methods, (0) Others. A paper may belong to multiple categories, separated by ;.\n",
    "\n",
    "\n",
    "- `authors_citations`: number of citations of each one of the authors, separated by ;.\n",
    "\n",
    "\n",
    "- `authors_publications`: number of publications by each one of the authors, separated by ;.\n",
    "\n",
    "\n",
    "- `authors_hindex`: h-index of each one of the authors, separated by ;. The h-index is an author-level metric that measures both the productivity and citation impact of the publications of a scientist or scholar. It is the maximum value $h$ such that the given author has published $h$ papers that have each been cited at least $h$ times.\n",
    "\n",
    "\n",
    "- `arxiv`: whether the paper was spotted in a pre-print server around the submission period.\n",
    "\n",
    "Also, notice that in this dataframe, when some piece of data was not available, -1 will be used as the value. For example, companies aren't a part of csrankings, so for people who work in big companies, the values are -1 in the field csranking.\n"
   ]
  },
  {
   "cell_type": "markdown",
   "metadata": {},
   "source": [
    "## _Step 1:_ Predicting paper ratings\n",
    "\n",
    "The first part of this homework poses a simple question: Can you predict the ratings the paper will receive given attributes related to its authors? To answer this question, we will build an ML pipeline from scratch, preprocessing the data, training a regression model, and then evaluating it.\n",
    "\n",
    "\n",
    "---\n",
    "\n",
    "### Task 1.1\n",
    "\n",
    "Some of the fields in the data are not very amenable to serve as input to traditional machine learning algorithms. Namely, we have some fields for which there are a varying number of values (e.g. papers with 3 authors will have 3 values in the `author_citations` field, papers with 5 authors will have 5).\n",
    "\n",
    "\n",
    "Your first task is to perform some feature engineering and derive unique values for each paper which you will be able to use in your ML model. \n",
    "More specifically, you must:\n",
    "\n",
    "1. Create 3 new fields in the dataframe corresponding to the median value of the number of citations per author, the number of publications per author, and the h-index per author. So for instance, for the row `authors_publications`, you will create an additional column, e.g. `authors_publications_median`, containing the median number of publications per author in each paper.\n",
    "2. Create another field entitled `reputation` capturing how famous the last author of the paper is. Notice that the last author of the paper is usually the most senior person involved in the project. This field should equal $\\log_{10}\\Big(\\frac{\\#citations}{\\#publications} + 1\\Big)$. Notice that each author in the dataset has at least 1 publication, so you don't risk dividing by 0.\n",
    "3. Create two fields called `has_top_company` and `has_top_institution`. The field `has_top_company` equals 1 if the article contains an author in the following list of companies `[\"Facebook\", \"Google\", \"Microsoft\", \"Deepmind\"]`, and 0 otherwise. The field `has_top_institution` equals 1 if the article contains an author in the top 10 institutions according to CSRankings.\n",
    "4. **Discuss:** How did you handle -1 values in item 1.1.1? Justify your approach.\n",
    "\n",
    "---"
   ]
  },
  {
   "cell_type": "code",
   "execution_count": 1,
   "metadata": {},
   "outputs": [],
   "source": [
    "import pandas as pd\n",
    "import numpy as np \n",
    "import matplotlib.pyplot as plt\n",
    "DATA_FOLDER = 'data/'\n",
    "DF = DATA_FOLDER + \"dataset_final.csv\"\n",
    "PROPRENSITY = DATA_FOLDER + 'propensity_scores.csv.gz'\n",
    "df = pd.read_csv(DF, delimiter = \",\",header = 0)\n",
    "propensity_df=pd.read_csv(PROPRENSITY,compression='gzip',sep=',',error_bad_lines=False)"
   ]
  },
  {
   "cell_type": "code",
   "execution_count": 2,
   "metadata": {},
   "outputs": [
    {
     "data": {
      "text/html": [
       "<div>\n",
       "<style scoped>\n",
       "    .dataframe tbody tr th:only-of-type {\n",
       "        vertical-align: middle;\n",
       "    }\n",
       "\n",
       "    .dataframe tbody tr th {\n",
       "        vertical-align: top;\n",
       "    }\n",
       "\n",
       "    .dataframe thead th {\n",
       "        text-align: right;\n",
       "    }\n",
       "</style>\n",
       "<table border=\"1\" class=\"dataframe\">\n",
       "  <thead>\n",
       "    <tr style=\"text-align: right;\">\n",
       "      <th></th>\n",
       "      <th>year</th>\n",
       "      <th>paper</th>\n",
       "      <th>authors</th>\n",
       "      <th>ratings</th>\n",
       "      <th>decisions</th>\n",
       "      <th>institution</th>\n",
       "      <th>csranking</th>\n",
       "      <th>categories</th>\n",
       "      <th>authors_citations</th>\n",
       "      <th>authors_publications</th>\n",
       "      <th>authors_hindex</th>\n",
       "      <th>arxiv</th>\n",
       "    </tr>\n",
       "  </thead>\n",
       "  <tbody>\n",
       "    <tr>\n",
       "      <th>0</th>\n",
       "      <td>2018</td>\n",
       "      <td>Certifying Some Distributional Robustness with...</td>\n",
       "      <td>Aman Sinha;Hongseok Namkoong;John Duchi</td>\n",
       "      <td>9.000000</td>\n",
       "      <td>Accept</td>\n",
       "      <td>Stanford University;Stanford University;Stanfo...</td>\n",
       "      <td>4;4;4</td>\n",
       "      <td>4</td>\n",
       "      <td>655;904;12908</td>\n",
       "      <td>42;19;162</td>\n",
       "      <td>8;10;42</td>\n",
       "      <td>True</td>\n",
       "    </tr>\n",
       "    <tr>\n",
       "      <th>1</th>\n",
       "      <td>2018</td>\n",
       "      <td>Parametric Information Bottleneck to Optimize ...</td>\n",
       "      <td>Thanh T. Nguyen;Jaesik Choi</td>\n",
       "      <td>4.666667</td>\n",
       "      <td>Reject</td>\n",
       "      <td>Ulsan National Institute of Science and Techno...</td>\n",
       "      <td>468;468</td>\n",
       "      <td>8</td>\n",
       "      <td>1052;727</td>\n",
       "      <td>86;88</td>\n",
       "      <td>16;15</td>\n",
       "      <td>False</td>\n",
       "    </tr>\n",
       "  </tbody>\n",
       "</table>\n",
       "</div>"
      ],
      "text/plain": [
       "   year                                              paper  \\\n",
       "0  2018  Certifying Some Distributional Robustness with...   \n",
       "1  2018  Parametric Information Bottleneck to Optimize ...   \n",
       "\n",
       "                                   authors   ratings decisions  \\\n",
       "0  Aman Sinha;Hongseok Namkoong;John Duchi  9.000000    Accept   \n",
       "1              Thanh T. Nguyen;Jaesik Choi  4.666667    Reject   \n",
       "\n",
       "                                         institution csranking categories  \\\n",
       "0  Stanford University;Stanford University;Stanfo...     4;4;4          4   \n",
       "1  Ulsan National Institute of Science and Techno...   468;468          8   \n",
       "\n",
       "  authors_citations authors_publications authors_hindex  arxiv  \n",
       "0     655;904;12908            42;19;162        8;10;42   True  \n",
       "1          1052;727                86;88          16;15  False  "
      ]
     },
     "execution_count": 2,
     "metadata": {},
     "output_type": "execute_result"
    }
   ],
   "source": [
    "df.head(2)"
   ]
  },
  {
   "cell_type": "code",
   "execution_count": 3,
   "metadata": {},
   "outputs": [],
   "source": [
    "df['authors_citations_median'] = df['authors_citations'].apply(lambda x : np.median(np.fromstring(x,dtype=int, sep=\";\")))\n",
    "df['authors_publications_median'] = df['authors_publications'].apply(lambda x : np.median(np.fromstring(x,dtype=int, sep=\";\")))\n",
    "df['authors_hindex_median'] = df['authors_hindex'].apply(lambda x : np.median(np.fromstring(x,dtype=int, sep=\";\")))"
   ]
  },
  {
   "cell_type": "code",
   "execution_count": 4,
   "metadata": {},
   "outputs": [],
   "source": [
    "df['reputation'] = np.log10(( df['authors_citations'].apply(lambda x : (np.fromstring(x,dtype=int, sep=\";\")).take(-1))\n",
    "                          / df['authors_publications'].apply(lambda x : (np.fromstring(x,dtype=int, sep=\";\")).take(-1))\n",
    "                          )+1)"
   ]
  },
  {
   "cell_type": "code",
   "execution_count": 5,
   "metadata": {},
   "outputs": [],
   "source": [
    "## for task 1.4\n",
    "df['crazy'] = - df['ratings'] \n",
    "df.loc[df['ratings'] < 4.96,'crazy'] = 9 - df['ratings']"
   ]
  },
  {
   "cell_type": "code",
   "execution_count": 6,
   "metadata": {},
   "outputs": [],
   "source": [
    "df['has_top_company'] = df['institution'].apply(lambda x : 1 if (x.__contains__(\"Facebook\")\n",
    "                                                |x.__contains__(\"Google\") \n",
    "                                                |x.__contains__(\"Microsoft\")\n",
    "                                                |x.__contains__(\"Deepmind\"))\n",
    "                                                 else 0)\n",
    "\n",
    "df['has_top_institution'] = df['csranking'].apply(lambda x : 1 if x.__contains__(\"10\")\n",
    "                                                |x.__contains__(\"9\") \n",
    "                                                |x.__contains__(\"8\")\n",
    "                                                |x.__contains__(\"7\")\n",
    "                                                |x.__contains__(\"6\") \n",
    "                                                |x.__contains__(\"5\")\n",
    "                                                |x.__contains__(\"4\")\n",
    "                                                |x.__contains__(\"3\") \n",
    "                                                |x.__contains__(\"2\")\n",
    "                                                |x.__contains__(\";1\")\n",
    "                                                |x.startswith('1;')\n",
    "                                                 else 0)"
   ]
  },
  {
   "cell_type": "code",
   "execution_count": 7,
   "metadata": {},
   "outputs": [
    {
     "data": {
      "text/html": [
       "<div>\n",
       "<style scoped>\n",
       "    .dataframe tbody tr th:only-of-type {\n",
       "        vertical-align: middle;\n",
       "    }\n",
       "\n",
       "    .dataframe tbody tr th {\n",
       "        vertical-align: top;\n",
       "    }\n",
       "\n",
       "    .dataframe thead th {\n",
       "        text-align: right;\n",
       "    }\n",
       "</style>\n",
       "<table border=\"1\" class=\"dataframe\">\n",
       "  <thead>\n",
       "    <tr style=\"text-align: right;\">\n",
       "      <th></th>\n",
       "      <th>year</th>\n",
       "      <th>paper</th>\n",
       "      <th>authors</th>\n",
       "      <th>ratings</th>\n",
       "      <th>decisions</th>\n",
       "      <th>institution</th>\n",
       "      <th>csranking</th>\n",
       "      <th>categories</th>\n",
       "      <th>authors_citations</th>\n",
       "      <th>authors_publications</th>\n",
       "      <th>authors_hindex</th>\n",
       "      <th>arxiv</th>\n",
       "      <th>authors_citations_median</th>\n",
       "      <th>authors_publications_median</th>\n",
       "      <th>authors_hindex_median</th>\n",
       "      <th>reputation</th>\n",
       "      <th>crazy</th>\n",
       "      <th>has_top_company</th>\n",
       "      <th>has_top_institution</th>\n",
       "    </tr>\n",
       "  </thead>\n",
       "  <tbody>\n",
       "    <tr>\n",
       "      <th>0</th>\n",
       "      <td>2018</td>\n",
       "      <td>Certifying Some Distributional Robustness with...</td>\n",
       "      <td>Aman Sinha;Hongseok Namkoong;John Duchi</td>\n",
       "      <td>9.0</td>\n",
       "      <td>Accept</td>\n",
       "      <td>Stanford University;Stanford University;Stanfo...</td>\n",
       "      <td>4;4;4</td>\n",
       "      <td>4</td>\n",
       "      <td>655;904;12908</td>\n",
       "      <td>42;19;162</td>\n",
       "      <td>8;10;42</td>\n",
       "      <td>True</td>\n",
       "      <td>904.0</td>\n",
       "      <td>42.0</td>\n",
       "      <td>10.0</td>\n",
       "      <td>1.906761</td>\n",
       "      <td>-9.0</td>\n",
       "      <td>0</td>\n",
       "      <td>1</td>\n",
       "    </tr>\n",
       "  </tbody>\n",
       "</table>\n",
       "</div>"
      ],
      "text/plain": [
       "   year                                              paper  \\\n",
       "0  2018  Certifying Some Distributional Robustness with...   \n",
       "\n",
       "                                   authors  ratings decisions  \\\n",
       "0  Aman Sinha;Hongseok Namkoong;John Duchi      9.0    Accept   \n",
       "\n",
       "                                         institution csranking categories  \\\n",
       "0  Stanford University;Stanford University;Stanfo...     4;4;4          4   \n",
       "\n",
       "  authors_citations authors_publications authors_hindex  arxiv  \\\n",
       "0     655;904;12908            42;19;162        8;10;42   True   \n",
       "\n",
       "   authors_citations_median  authors_publications_median  \\\n",
       "0                     904.0                         42.0   \n",
       "\n",
       "   authors_hindex_median  reputation  crazy  has_top_company  \\\n",
       "0                   10.0    1.906761   -9.0                0   \n",
       "\n",
       "   has_top_institution  \n",
       "0                    1  "
      ]
     },
     "execution_count": 7,
     "metadata": {},
     "output_type": "execute_result"
    }
   ],
   "source": [
    "df[df['has_top_institution']==1].head(1)"
   ]
  },
  {
   "cell_type": "markdown",
   "metadata": {},
   "source": [
    "### Task 1.2\n",
    "\n",
    "Now that you have cleaned up your data, your next task is to divide your data into a training set and a testing set. You should do this in two ways:\n",
    "\n",
    "1. First, do it randomly. Split the data into a training set (70%) and a testing set (30%). We refer to these as \"random split\" in the subsequent tasks.\n",
    "2. Second, do it longitudinally. Use the data from 2018 and 2019 for the training set, and the data from 2020 as the testing set. We refer to these as \"longitudinal split\" in the subsequent tasks.\n"
   ]
  },
  {
   "cell_type": "code",
   "execution_count": 8,
   "metadata": {},
   "outputs": [],
   "source": [
    "import numpy as np\n",
    "from sklearn.model_selection import train_test_split\n"
   ]
  },
  {
   "cell_type": "code",
   "execution_count": 9,
   "metadata": {},
   "outputs": [
    {
     "data": {
      "text/html": [
       "<div>\n",
       "<style scoped>\n",
       "    .dataframe tbody tr th:only-of-type {\n",
       "        vertical-align: middle;\n",
       "    }\n",
       "\n",
       "    .dataframe tbody tr th {\n",
       "        vertical-align: top;\n",
       "    }\n",
       "\n",
       "    .dataframe thead th {\n",
       "        text-align: right;\n",
       "    }\n",
       "</style>\n",
       "<table border=\"1\" class=\"dataframe\">\n",
       "  <thead>\n",
       "    <tr style=\"text-align: right;\">\n",
       "      <th></th>\n",
       "      <th>year</th>\n",
       "      <th>paper</th>\n",
       "      <th>authors</th>\n",
       "      <th>ratings</th>\n",
       "      <th>decisions</th>\n",
       "      <th>institution</th>\n",
       "      <th>csranking</th>\n",
       "      <th>categories</th>\n",
       "      <th>authors_citations</th>\n",
       "      <th>authors_publications</th>\n",
       "      <th>authors_hindex</th>\n",
       "      <th>arxiv</th>\n",
       "      <th>authors_citations_median</th>\n",
       "      <th>authors_publications_median</th>\n",
       "      <th>authors_hindex_median</th>\n",
       "      <th>reputation</th>\n",
       "      <th>crazy</th>\n",
       "      <th>has_top_company</th>\n",
       "      <th>has_top_institution</th>\n",
       "    </tr>\n",
       "  </thead>\n",
       "  <tbody>\n",
       "    <tr>\n",
       "      <th>1949</th>\n",
       "      <td>2019</td>\n",
       "      <td>Curiosity-Driven Experience Prioritization via...</td>\n",
       "      <td>Rui Zhao;Volker Tresp</td>\n",
       "      <td>5.333333</td>\n",
       "      <td>Reject</td>\n",
       "      <td>Siemens Corporate Research;Siemens Corporate R...</td>\n",
       "      <td>-1;-1</td>\n",
       "      <td>0</td>\n",
       "      <td>8050;8140</td>\n",
       "      <td>608;287</td>\n",
       "      <td>38;44</td>\n",
       "      <td>False</td>\n",
       "      <td>8095.0</td>\n",
       "      <td>447.5</td>\n",
       "      <td>41.0</td>\n",
       "      <td>1.467791</td>\n",
       "      <td>-5.333333</td>\n",
       "      <td>0</td>\n",
       "      <td>0</td>\n",
       "    </tr>\n",
       "    <tr>\n",
       "      <th>417</th>\n",
       "      <td>2018</td>\n",
       "      <td>Exploring the Space of Black-box Attacks on De...</td>\n",
       "      <td>Arjun Nitin Bhagoji;Warren He;Bo Li;Dawn Song</td>\n",
       "      <td>6.000000</td>\n",
       "      <td>Reject</td>\n",
       "      <td>Princeton University;University of California ...</td>\n",
       "      <td>31;5;5;5</td>\n",
       "      <td>4</td>\n",
       "      <td>628;1217;2382;43319</td>\n",
       "      <td>19;22;80;396</td>\n",
       "      <td>11;14;23;100</td>\n",
       "      <td>False</td>\n",
       "      <td>1799.5</td>\n",
       "      <td>51.0</td>\n",
       "      <td>18.5</td>\n",
       "      <td>2.042935</td>\n",
       "      <td>-6.000000</td>\n",
       "      <td>0</td>\n",
       "      <td>1</td>\n",
       "    </tr>\n",
       "    <tr>\n",
       "      <th>375</th>\n",
       "      <td>2018</td>\n",
       "      <td>LatentPoison -- Adversarial Attacks On The Lat...</td>\n",
       "      <td>Antonia Creswell;Biswa Sengupta;Anil A. Bharath</td>\n",
       "      <td>4.000000</td>\n",
       "      <td>Reject</td>\n",
       "      <td>Imperial College London;Imperial College Londo...</td>\n",
       "      <td>74;74;74</td>\n",
       "      <td>5;4</td>\n",
       "      <td>460;717;2780</td>\n",
       "      <td>15;42;128</td>\n",
       "      <td>7;13;20</td>\n",
       "      <td>False</td>\n",
       "      <td>717.0</td>\n",
       "      <td>42.0</td>\n",
       "      <td>13.0</td>\n",
       "      <td>1.356384</td>\n",
       "      <td>5.000000</td>\n",
       "      <td>0</td>\n",
       "      <td>1</td>\n",
       "    </tr>\n",
       "    <tr>\n",
       "      <th>2514</th>\n",
       "      <td>2020</td>\n",
       "      <td>Double Neural Counterfactual Regret Minimization</td>\n",
       "      <td>Hui Li;Kailiang Hu;Shaohua Zhang;Yuan Qi;Le Song</td>\n",
       "      <td>7.000000</td>\n",
       "      <td>Accept</td>\n",
       "      <td>Alibaba Group and Ant Financial Services Group...</td>\n",
       "      <td>-1;-1;-1;-1;13</td>\n",
       "      <td>0</td>\n",
       "      <td>15391;11;-1;6302;9519</td>\n",
       "      <td>1304;4;-1;253;329</td>\n",
       "      <td>55;2;-1;32;54</td>\n",
       "      <td>False</td>\n",
       "      <td>6302.0</td>\n",
       "      <td>253.0</td>\n",
       "      <td>32.0</td>\n",
       "      <td>1.476152</td>\n",
       "      <td>-7.000000</td>\n",
       "      <td>0</td>\n",
       "      <td>1</td>\n",
       "    </tr>\n",
       "    <tr>\n",
       "      <th>1499</th>\n",
       "      <td>2019</td>\n",
       "      <td>Psychophysical vs. learnt texture representati...</td>\n",
       "      <td>Michael Grunwald;Matthias Hermann;Fabian Freib...</td>\n",
       "      <td>2.500000</td>\n",
       "      <td>Reject</td>\n",
       "      <td>University of Tuebingen;;;</td>\n",
       "      <td>153;-1;-1;-1</td>\n",
       "      <td>0</td>\n",
       "      <td>134;252;78;2194</td>\n",
       "      <td>19;21;7;102</td>\n",
       "      <td>5;5;3;22</td>\n",
       "      <td>False</td>\n",
       "      <td>193.0</td>\n",
       "      <td>20.0</td>\n",
       "      <td>5.0</td>\n",
       "      <td>1.352372</td>\n",
       "      <td>6.500000</td>\n",
       "      <td>0</td>\n",
       "      <td>1</td>\n",
       "    </tr>\n",
       "    <tr>\n",
       "      <th>...</th>\n",
       "      <td>...</td>\n",
       "      <td>...</td>\n",
       "      <td>...</td>\n",
       "      <td>...</td>\n",
       "      <td>...</td>\n",
       "      <td>...</td>\n",
       "      <td>...</td>\n",
       "      <td>...</td>\n",
       "      <td>...</td>\n",
       "      <td>...</td>\n",
       "      <td>...</td>\n",
       "      <td>...</td>\n",
       "      <td>...</td>\n",
       "      <td>...</td>\n",
       "      <td>...</td>\n",
       "      <td>...</td>\n",
       "      <td>...</td>\n",
       "      <td>...</td>\n",
       "      <td>...</td>\n",
       "    </tr>\n",
       "    <tr>\n",
       "      <th>3521</th>\n",
       "      <td>2020</td>\n",
       "      <td>Generating valid Euclidean distance matrices</td>\n",
       "      <td>Moritz Hoffmann;Frank Noe</td>\n",
       "      <td>6.333333</td>\n",
       "      <td>Reject</td>\n",
       "      <td>Freie Universität Berlin;Freie Universität Berlin</td>\n",
       "      <td>-1;-1</td>\n",
       "      <td>5</td>\n",
       "      <td>384;6650</td>\n",
       "      <td>25;222</td>\n",
       "      <td>8;43</td>\n",
       "      <td>False</td>\n",
       "      <td>3517.0</td>\n",
       "      <td>123.5</td>\n",
       "      <td>25.5</td>\n",
       "      <td>1.490730</td>\n",
       "      <td>-6.333333</td>\n",
       "      <td>0</td>\n",
       "      <td>0</td>\n",
       "    </tr>\n",
       "    <tr>\n",
       "      <th>2275</th>\n",
       "      <td>2020</td>\n",
       "      <td>Poly-encoders: Architectures and Pre-training ...</td>\n",
       "      <td>Samuel Humeau;Kurt Shuster;Marie-Anne Lachaux;...</td>\n",
       "      <td>7.333333</td>\n",
       "      <td>Accept</td>\n",
       "      <td>Facebook;Facebook;Facebook;</td>\n",
       "      <td>-1;-1;-1;-1</td>\n",
       "      <td>0</td>\n",
       "      <td>339;307;59;45686</td>\n",
       "      <td>15;16;5;242</td>\n",
       "      <td>10;8;4;78</td>\n",
       "      <td>False</td>\n",
       "      <td>323.0</td>\n",
       "      <td>15.5</td>\n",
       "      <td>9.0</td>\n",
       "      <td>2.278262</td>\n",
       "      <td>-7.333333</td>\n",
       "      <td>1</td>\n",
       "      <td>0</td>\n",
       "    </tr>\n",
       "    <tr>\n",
       "      <th>1513</th>\n",
       "      <td>2019</td>\n",
       "      <td>Penetrating the Fog: the Path to Efficient CNN...</td>\n",
       "      <td>Kun Wan;Boyuan Feng;Shu Yang;Yufei Ding</td>\n",
       "      <td>4.666667</td>\n",
       "      <td>Reject</td>\n",
       "      <td>UC Santa Barbara;UC Santa Barbara;UC Santa Bar...</td>\n",
       "      <td>37;37;37;37</td>\n",
       "      <td>0</td>\n",
       "      <td>72;4;431;344</td>\n",
       "      <td>23;8;108;43</td>\n",
       "      <td>3;1;12;9</td>\n",
       "      <td>False</td>\n",
       "      <td>208.0</td>\n",
       "      <td>33.0</td>\n",
       "      <td>6.0</td>\n",
       "      <td>0.954243</td>\n",
       "      <td>4.333333</td>\n",
       "      <td>0</td>\n",
       "      <td>1</td>\n",
       "    </tr>\n",
       "    <tr>\n",
       "      <th>1993</th>\n",
       "      <td>2019</td>\n",
       "      <td>Meta-Learning with Individualized Feature Spac...</td>\n",
       "      <td>Chunrui Han;Shiguang Shan;Meina Kan;Shuzhe Wu;...</td>\n",
       "      <td>4.333333</td>\n",
       "      <td>Reject</td>\n",
       "      <td>Institute of Computing Technology, Chinese Aca...</td>\n",
       "      <td>62;62;62;62;62</td>\n",
       "      <td>6</td>\n",
       "      <td>101;14333;1990;210;14999</td>\n",
       "      <td>11;379;56;12;511</td>\n",
       "      <td>6;58;21;5;57</td>\n",
       "      <td>False</td>\n",
       "      <td>1990.0</td>\n",
       "      <td>56.0</td>\n",
       "      <td>21.0</td>\n",
       "      <td>1.482191</td>\n",
       "      <td>4.666667</td>\n",
       "      <td>0</td>\n",
       "      <td>1</td>\n",
       "    </tr>\n",
       "    <tr>\n",
       "      <th>3509</th>\n",
       "      <td>2020</td>\n",
       "      <td>Axial Attention in Multidimensional Transformers</td>\n",
       "      <td>Jonathan Ho;Nal Kalchbrenner;Dirk Weissenborn;...</td>\n",
       "      <td>2.750000</td>\n",
       "      <td>Reject</td>\n",
       "      <td>Google;Google;Google;Google</td>\n",
       "      <td>-1;-1;-1;-1</td>\n",
       "      <td>8</td>\n",
       "      <td>2743;16442;626;6754</td>\n",
       "      <td>31;27;28;35</td>\n",
       "      <td>12;18;10;14</td>\n",
       "      <td>False</td>\n",
       "      <td>4748.5</td>\n",
       "      <td>29.5</td>\n",
       "      <td>13.0</td>\n",
       "      <td>2.287738</td>\n",
       "      <td>6.250000</td>\n",
       "      <td>1</td>\n",
       "      <td>0</td>\n",
       "    </tr>\n",
       "  </tbody>\n",
       "</table>\n",
       "<p>2979 rows × 19 columns</p>\n",
       "</div>"
      ],
      "text/plain": [
       "      year                                              paper  \\\n",
       "1949  2019  Curiosity-Driven Experience Prioritization via...   \n",
       "417   2018  Exploring the Space of Black-box Attacks on De...   \n",
       "375   2018  LatentPoison -- Adversarial Attacks On The Lat...   \n",
       "2514  2020   Double Neural Counterfactual Regret Minimization   \n",
       "1499  2019  Psychophysical vs. learnt texture representati...   \n",
       "...    ...                                                ...   \n",
       "3521  2020       Generating valid Euclidean distance matrices   \n",
       "2275  2020  Poly-encoders: Architectures and Pre-training ...   \n",
       "1513  2019  Penetrating the Fog: the Path to Efficient CNN...   \n",
       "1993  2019  Meta-Learning with Individualized Feature Spac...   \n",
       "3509  2020   Axial Attention in Multidimensional Transformers   \n",
       "\n",
       "                                                authors   ratings decisions  \\\n",
       "1949                              Rui Zhao;Volker Tresp  5.333333    Reject   \n",
       "417       Arjun Nitin Bhagoji;Warren He;Bo Li;Dawn Song  6.000000    Reject   \n",
       "375     Antonia Creswell;Biswa Sengupta;Anil A. Bharath  4.000000    Reject   \n",
       "2514   Hui Li;Kailiang Hu;Shaohua Zhang;Yuan Qi;Le Song  7.000000    Accept   \n",
       "1499  Michael Grunwald;Matthias Hermann;Fabian Freib...  2.500000    Reject   \n",
       "...                                                 ...       ...       ...   \n",
       "3521                          Moritz Hoffmann;Frank Noe  6.333333    Reject   \n",
       "2275  Samuel Humeau;Kurt Shuster;Marie-Anne Lachaux;...  7.333333    Accept   \n",
       "1513            Kun Wan;Boyuan Feng;Shu Yang;Yufei Ding  4.666667    Reject   \n",
       "1993  Chunrui Han;Shiguang Shan;Meina Kan;Shuzhe Wu;...  4.333333    Reject   \n",
       "3509  Jonathan Ho;Nal Kalchbrenner;Dirk Weissenborn;...  2.750000    Reject   \n",
       "\n",
       "                                            institution       csranking  \\\n",
       "1949  Siemens Corporate Research;Siemens Corporate R...           -1;-1   \n",
       "417   Princeton University;University of California ...        31;5;5;5   \n",
       "375   Imperial College London;Imperial College Londo...        74;74;74   \n",
       "2514  Alibaba Group and Ant Financial Services Group...  -1;-1;-1;-1;13   \n",
       "1499                         University of Tuebingen;;;    153;-1;-1;-1   \n",
       "...                                                 ...             ...   \n",
       "3521  Freie Universität Berlin;Freie Universität Berlin           -1;-1   \n",
       "2275                        Facebook;Facebook;Facebook;     -1;-1;-1;-1   \n",
       "1513  UC Santa Barbara;UC Santa Barbara;UC Santa Bar...     37;37;37;37   \n",
       "1993  Institute of Computing Technology, Chinese Aca...  62;62;62;62;62   \n",
       "3509                        Google;Google;Google;Google     -1;-1;-1;-1   \n",
       "\n",
       "     categories         authors_citations authors_publications authors_hindex  \\\n",
       "1949          0                 8050;8140              608;287          38;44   \n",
       "417           4       628;1217;2382;43319         19;22;80;396   11;14;23;100   \n",
       "375         5;4              460;717;2780            15;42;128        7;13;20   \n",
       "2514          0     15391;11;-1;6302;9519    1304;4;-1;253;329  55;2;-1;32;54   \n",
       "1499          0           134;252;78;2194          19;21;7;102       5;5;3;22   \n",
       "...         ...                       ...                  ...            ...   \n",
       "3521          5                  384;6650               25;222           8;43   \n",
       "2275          0          339;307;59;45686          15;16;5;242      10;8;4;78   \n",
       "1513          0              72;4;431;344          23;8;108;43       3;1;12;9   \n",
       "1993          6  101;14333;1990;210;14999     11;379;56;12;511   6;58;21;5;57   \n",
       "3509          8       2743;16442;626;6754          31;27;28;35    12;18;10;14   \n",
       "\n",
       "      arxiv  authors_citations_median  authors_publications_median  \\\n",
       "1949  False                    8095.0                        447.5   \n",
       "417   False                    1799.5                         51.0   \n",
       "375   False                     717.0                         42.0   \n",
       "2514  False                    6302.0                        253.0   \n",
       "1499  False                     193.0                         20.0   \n",
       "...     ...                       ...                          ...   \n",
       "3521  False                    3517.0                        123.5   \n",
       "2275  False                     323.0                         15.5   \n",
       "1513  False                     208.0                         33.0   \n",
       "1993  False                    1990.0                         56.0   \n",
       "3509  False                    4748.5                         29.5   \n",
       "\n",
       "      authors_hindex_median  reputation     crazy  has_top_company  \\\n",
       "1949                   41.0    1.467791 -5.333333                0   \n",
       "417                    18.5    2.042935 -6.000000                0   \n",
       "375                    13.0    1.356384  5.000000                0   \n",
       "2514                   32.0    1.476152 -7.000000                0   \n",
       "1499                    5.0    1.352372  6.500000                0   \n",
       "...                     ...         ...       ...              ...   \n",
       "3521                   25.5    1.490730 -6.333333                0   \n",
       "2275                    9.0    2.278262 -7.333333                1   \n",
       "1513                    6.0    0.954243  4.333333                0   \n",
       "1993                   21.0    1.482191  4.666667                0   \n",
       "3509                   13.0    2.287738  6.250000                1   \n",
       "\n",
       "      has_top_institution  \n",
       "1949                    0  \n",
       "417                     1  \n",
       "375                     1  \n",
       "2514                    1  \n",
       "1499                    1  \n",
       "...                   ...  \n",
       "3521                    0  \n",
       "2275                    0  \n",
       "1513                    1  \n",
       "1993                    1  \n",
       "3509                    0  \n",
       "\n",
       "[2979 rows x 19 columns]"
      ]
     },
     "execution_count": 9,
     "metadata": {},
     "output_type": "execute_result"
    }
   ],
   "source": [
    "df_train= df.sample(frac=0.7) # aussi possible de split les datas comme ça !\n",
    "df_train"
   ]
  },
  {
   "cell_type": "code",
   "execution_count": 10,
   "metadata": {},
   "outputs": [
    {
     "data": {
      "text/html": [
       "<div>\n",
       "<style scoped>\n",
       "    .dataframe tbody tr th:only-of-type {\n",
       "        vertical-align: middle;\n",
       "    }\n",
       "\n",
       "    .dataframe tbody tr th {\n",
       "        vertical-align: top;\n",
       "    }\n",
       "\n",
       "    .dataframe thead th {\n",
       "        text-align: right;\n",
       "    }\n",
       "</style>\n",
       "<table border=\"1\" class=\"dataframe\">\n",
       "  <thead>\n",
       "    <tr style=\"text-align: right;\">\n",
       "      <th></th>\n",
       "      <th>year</th>\n",
       "      <th>paper</th>\n",
       "      <th>authors</th>\n",
       "      <th>ratings</th>\n",
       "      <th>decisions</th>\n",
       "      <th>institution</th>\n",
       "      <th>csranking</th>\n",
       "      <th>categories</th>\n",
       "      <th>authors_citations</th>\n",
       "      <th>authors_publications</th>\n",
       "      <th>authors_hindex</th>\n",
       "      <th>arxiv</th>\n",
       "      <th>authors_citations_median</th>\n",
       "      <th>authors_publications_median</th>\n",
       "      <th>authors_hindex_median</th>\n",
       "      <th>reputation</th>\n",
       "      <th>crazy</th>\n",
       "      <th>has_top_company</th>\n",
       "      <th>has_top_institution</th>\n",
       "    </tr>\n",
       "  </thead>\n",
       "  <tbody>\n",
       "    <tr>\n",
       "      <th>0</th>\n",
       "      <td>2018</td>\n",
       "      <td>Certifying Some Distributional Robustness with...</td>\n",
       "      <td>Aman Sinha;Hongseok Namkoong;John Duchi</td>\n",
       "      <td>9.000000</td>\n",
       "      <td>Accept</td>\n",
       "      <td>Stanford University;Stanford University;Stanfo...</td>\n",
       "      <td>4;4;4</td>\n",
       "      <td>4</td>\n",
       "      <td>655;904;12908</td>\n",
       "      <td>42;19;162</td>\n",
       "      <td>8;10;42</td>\n",
       "      <td>True</td>\n",
       "      <td>904.0</td>\n",
       "      <td>42.0</td>\n",
       "      <td>10.0</td>\n",
       "      <td>1.906761</td>\n",
       "      <td>-9.000000</td>\n",
       "      <td>0</td>\n",
       "      <td>1</td>\n",
       "    </tr>\n",
       "    <tr>\n",
       "      <th>1</th>\n",
       "      <td>2018</td>\n",
       "      <td>Parametric Information Bottleneck to Optimize ...</td>\n",
       "      <td>Thanh T. Nguyen;Jaesik Choi</td>\n",
       "      <td>4.666667</td>\n",
       "      <td>Reject</td>\n",
       "      <td>Ulsan National Institute of Science and Techno...</td>\n",
       "      <td>468;468</td>\n",
       "      <td>8</td>\n",
       "      <td>1052;727</td>\n",
       "      <td>86;88</td>\n",
       "      <td>16;15</td>\n",
       "      <td>False</td>\n",
       "      <td>889.5</td>\n",
       "      <td>87.0</td>\n",
       "      <td>15.5</td>\n",
       "      <td>0.966675</td>\n",
       "      <td>4.333333</td>\n",
       "      <td>0</td>\n",
       "      <td>1</td>\n",
       "    </tr>\n",
       "    <tr>\n",
       "      <th>2</th>\n",
       "      <td>2018</td>\n",
       "      <td>Towards Neural Phrase-based Machine Translation</td>\n",
       "      <td>Po-Sen Huang;Chong Wang;Sitao Huang;Dengyong Z...</td>\n",
       "      <td>6.666667</td>\n",
       "      <td>Accept</td>\n",
       "      <td>Microsoft;Google;University of Illinois, Urban...</td>\n",
       "      <td>-1;-1;3;-1;-1</td>\n",
       "      <td>3;2</td>\n",
       "      <td>1718;17889;161;8800;20766</td>\n",
       "      <td>59;1045;17;78;409</td>\n",
       "      <td>17;54;7;33;63</td>\n",
       "      <td>True</td>\n",
       "      <td>8800.0</td>\n",
       "      <td>78.0</td>\n",
       "      <td>33.0</td>\n",
       "      <td>1.714100</td>\n",
       "      <td>-6.666667</td>\n",
       "      <td>1</td>\n",
       "      <td>1</td>\n",
       "    </tr>\n",
       "    <tr>\n",
       "      <th>3</th>\n",
       "      <td>2018</td>\n",
       "      <td>Interactive Grounded Language Acquisition and ...</td>\n",
       "      <td>Haonan Yu;Haichao Zhang;Wei Xu</td>\n",
       "      <td>6.333333</td>\n",
       "      <td>Accept</td>\n",
       "      <td>Baidu;Baidu;Baidu</td>\n",
       "      <td>-1;-1;-1</td>\n",
       "      <td>6;8</td>\n",
       "      <td>890;1382;9553</td>\n",
       "      <td>37;63;557</td>\n",
       "      <td>12;20;44</td>\n",
       "      <td>False</td>\n",
       "      <td>1382.0</td>\n",
       "      <td>63.0</td>\n",
       "      <td>20.0</td>\n",
       "      <td>1.258896</td>\n",
       "      <td>-6.333333</td>\n",
       "      <td>0</td>\n",
       "      <td>0</td>\n",
       "    </tr>\n",
       "    <tr>\n",
       "      <th>4</th>\n",
       "      <td>2018</td>\n",
       "      <td>A Boo(n) for Evaluating Architecture Performance</td>\n",
       "      <td>Ondrej Bajgar;Rudolf Kadlec;and Jan Kleindienst</td>\n",
       "      <td>4.666667</td>\n",
       "      <td>Reject</td>\n",
       "      <td>;International Business Machines;International...</td>\n",
       "      <td>-1;-1;-1</td>\n",
       "      <td>0</td>\n",
       "      <td>366;678;658</td>\n",
       "      <td>10;40;76</td>\n",
       "      <td>5;11;9</td>\n",
       "      <td>False</td>\n",
       "      <td>658.0</td>\n",
       "      <td>40.0</td>\n",
       "      <td>9.0</td>\n",
       "      <td>0.984882</td>\n",
       "      <td>4.333333</td>\n",
       "      <td>0</td>\n",
       "      <td>0</td>\n",
       "    </tr>\n",
       "    <tr>\n",
       "      <th>...</th>\n",
       "      <td>...</td>\n",
       "      <td>...</td>\n",
       "      <td>...</td>\n",
       "      <td>...</td>\n",
       "      <td>...</td>\n",
       "      <td>...</td>\n",
       "      <td>...</td>\n",
       "      <td>...</td>\n",
       "      <td>...</td>\n",
       "      <td>...</td>\n",
       "      <td>...</td>\n",
       "      <td>...</td>\n",
       "      <td>...</td>\n",
       "      <td>...</td>\n",
       "      <td>...</td>\n",
       "      <td>...</td>\n",
       "      <td>...</td>\n",
       "      <td>...</td>\n",
       "      <td>...</td>\n",
       "    </tr>\n",
       "    <tr>\n",
       "      <th>4251</th>\n",
       "      <td>2020</td>\n",
       "      <td>A Finite-Time Analysis of  Q-Learning with Neu...</td>\n",
       "      <td>Pan Xu;Quanquan Gu</td>\n",
       "      <td>5.000000</td>\n",
       "      <td>Reject</td>\n",
       "      <td>University of California, Los Angeles;Universi...</td>\n",
       "      <td>20;20</td>\n",
       "      <td>1;9</td>\n",
       "      <td>295;3895</td>\n",
       "      <td>31;174</td>\n",
       "      <td>10;34</td>\n",
       "      <td>False</td>\n",
       "      <td>2095.0</td>\n",
       "      <td>102.5</td>\n",
       "      <td>22.0</td>\n",
       "      <td>1.368938</td>\n",
       "      <td>-5.000000</td>\n",
       "      <td>0</td>\n",
       "      <td>1</td>\n",
       "    </tr>\n",
       "    <tr>\n",
       "      <th>4252</th>\n",
       "      <td>2020</td>\n",
       "      <td>SCELMo: Source Code Embeddings from Language M...</td>\n",
       "      <td>Rafael - Michael Karampatsis;Charles Sutton</td>\n",
       "      <td>4.666667</td>\n",
       "      <td>Reject</td>\n",
       "      <td>University of Edinburgh;Google</td>\n",
       "      <td>33;-1</td>\n",
       "      <td>3</td>\n",
       "      <td>0;50</td>\n",
       "      <td>1;18</td>\n",
       "      <td>0;3</td>\n",
       "      <td>False</td>\n",
       "      <td>25.0</td>\n",
       "      <td>9.5</td>\n",
       "      <td>1.5</td>\n",
       "      <td>0.577236</td>\n",
       "      <td>4.333333</td>\n",
       "      <td>1</td>\n",
       "      <td>1</td>\n",
       "    </tr>\n",
       "    <tr>\n",
       "      <th>4253</th>\n",
       "      <td>2020</td>\n",
       "      <td>GraphMix: Regularized Training of Graph Neural...</td>\n",
       "      <td>Vikas Verma;Meng Qu;Alex Lamb;Yoshua Bengio;Ju...</td>\n",
       "      <td>4.000000</td>\n",
       "      <td>Reject</td>\n",
       "      <td>;University of Montreal;University of Montreal...</td>\n",
       "      <td>-1;128;128;128;143;128</td>\n",
       "      <td>10</td>\n",
       "      <td>202;504;2136;208566;3645;346</td>\n",
       "      <td>25;40;22;807;127;94</td>\n",
       "      <td>4;5;8;147;24;8</td>\n",
       "      <td>True</td>\n",
       "      <td>1320.0</td>\n",
       "      <td>67.0</td>\n",
       "      <td>8.0</td>\n",
       "      <td>0.670325</td>\n",
       "      <td>5.000000</td>\n",
       "      <td>0</td>\n",
       "      <td>1</td>\n",
       "    </tr>\n",
       "    <tr>\n",
       "      <th>4254</th>\n",
       "      <td>2020</td>\n",
       "      <td>Neural networks with motivation</td>\n",
       "      <td>Sergey A. Shuvaev;Ngoc B. Tran;Marcus Stephens...</td>\n",
       "      <td>2.333333</td>\n",
       "      <td>Reject</td>\n",
       "      <td>Cold Spring Harbor Laboratory;Cold Spring Harb...</td>\n",
       "      <td>-1;-1;-1;-1;-1</td>\n",
       "      <td>5</td>\n",
       "      <td>16;94;563;997;1816</td>\n",
       "      <td>8;12;14;67;83</td>\n",
       "      <td>3;3;9;9;16</td>\n",
       "      <td>True</td>\n",
       "      <td>563.0</td>\n",
       "      <td>14.0</td>\n",
       "      <td>9.0</td>\n",
       "      <td>1.359447</td>\n",
       "      <td>6.666667</td>\n",
       "      <td>0</td>\n",
       "      <td>0</td>\n",
       "    </tr>\n",
       "    <tr>\n",
       "      <th>4255</th>\n",
       "      <td>2020</td>\n",
       "      <td>Measuring causal influence with back-to-back r...</td>\n",
       "      <td>Jean-Remi King;Francois Charton;Maxime Oquab;D...</td>\n",
       "      <td>4.000000</td>\n",
       "      <td>Reject</td>\n",
       "      <td>Facebook;Facebook;Facebook;Facebook</td>\n",
       "      <td>-1;-1;-1;-1</td>\n",
       "      <td>0</td>\n",
       "      <td>1273;1;2971;2483</td>\n",
       "      <td>45;14;20;46</td>\n",
       "      <td>16;1;7;19</td>\n",
       "      <td>False</td>\n",
       "      <td>1878.0</td>\n",
       "      <td>32.5</td>\n",
       "      <td>11.5</td>\n",
       "      <td>1.740191</td>\n",
       "      <td>5.000000</td>\n",
       "      <td>1</td>\n",
       "      <td>0</td>\n",
       "    </tr>\n",
       "  </tbody>\n",
       "</table>\n",
       "<p>4256 rows × 19 columns</p>\n",
       "</div>"
      ],
      "text/plain": [
       "      year                                              paper  \\\n",
       "0     2018  Certifying Some Distributional Robustness with...   \n",
       "1     2018  Parametric Information Bottleneck to Optimize ...   \n",
       "2     2018    Towards Neural Phrase-based Machine Translation   \n",
       "3     2018  Interactive Grounded Language Acquisition and ...   \n",
       "4     2018   A Boo(n) for Evaluating Architecture Performance   \n",
       "...    ...                                                ...   \n",
       "4251  2020  A Finite-Time Analysis of  Q-Learning with Neu...   \n",
       "4252  2020  SCELMo: Source Code Embeddings from Language M...   \n",
       "4253  2020  GraphMix: Regularized Training of Graph Neural...   \n",
       "4254  2020                    Neural networks with motivation   \n",
       "4255  2020  Measuring causal influence with back-to-back r...   \n",
       "\n",
       "                                                authors   ratings decisions  \\\n",
       "0               Aman Sinha;Hongseok Namkoong;John Duchi  9.000000    Accept   \n",
       "1                           Thanh T. Nguyen;Jaesik Choi  4.666667    Reject   \n",
       "2     Po-Sen Huang;Chong Wang;Sitao Huang;Dengyong Z...  6.666667    Accept   \n",
       "3                        Haonan Yu;Haichao Zhang;Wei Xu  6.333333    Accept   \n",
       "4       Ondrej Bajgar;Rudolf Kadlec;and Jan Kleindienst  4.666667    Reject   \n",
       "...                                                 ...       ...       ...   \n",
       "4251                                 Pan Xu;Quanquan Gu  5.000000    Reject   \n",
       "4252        Rafael - Michael Karampatsis;Charles Sutton  4.666667    Reject   \n",
       "4253  Vikas Verma;Meng Qu;Alex Lamb;Yoshua Bengio;Ju...  4.000000    Reject   \n",
       "4254  Sergey A. Shuvaev;Ngoc B. Tran;Marcus Stephens...  2.333333    Reject   \n",
       "4255  Jean-Remi King;Francois Charton;Maxime Oquab;D...  4.000000    Reject   \n",
       "\n",
       "                                            institution  \\\n",
       "0     Stanford University;Stanford University;Stanfo...   \n",
       "1     Ulsan National Institute of Science and Techno...   \n",
       "2     Microsoft;Google;University of Illinois, Urban...   \n",
       "3                                     Baidu;Baidu;Baidu   \n",
       "4     ;International Business Machines;International...   \n",
       "...                                                 ...   \n",
       "4251  University of California, Los Angeles;Universi...   \n",
       "4252                     University of Edinburgh;Google   \n",
       "4253  ;University of Montreal;University of Montreal...   \n",
       "4254  Cold Spring Harbor Laboratory;Cold Spring Harb...   \n",
       "4255                Facebook;Facebook;Facebook;Facebook   \n",
       "\n",
       "                   csranking categories             authors_citations  \\\n",
       "0                      4;4;4          4                 655;904;12908   \n",
       "1                    468;468          8                      1052;727   \n",
       "2              -1;-1;3;-1;-1        3;2     1718;17889;161;8800;20766   \n",
       "3                   -1;-1;-1        6;8                 890;1382;9553   \n",
       "4                   -1;-1;-1          0                   366;678;658   \n",
       "...                      ...        ...                           ...   \n",
       "4251                   20;20        1;9                      295;3895   \n",
       "4252                   33;-1          3                          0;50   \n",
       "4253  -1;128;128;128;143;128         10  202;504;2136;208566;3645;346   \n",
       "4254          -1;-1;-1;-1;-1          5            16;94;563;997;1816   \n",
       "4255             -1;-1;-1;-1          0              1273;1;2971;2483   \n",
       "\n",
       "     authors_publications  authors_hindex  arxiv  authors_citations_median  \\\n",
       "0               42;19;162         8;10;42   True                     904.0   \n",
       "1                   86;88           16;15  False                     889.5   \n",
       "2       59;1045;17;78;409   17;54;7;33;63   True                    8800.0   \n",
       "3               37;63;557        12;20;44  False                    1382.0   \n",
       "4                10;40;76          5;11;9  False                     658.0   \n",
       "...                   ...             ...    ...                       ...   \n",
       "4251               31;174           10;34  False                    2095.0   \n",
       "4252                 1;18             0;3  False                      25.0   \n",
       "4253  25;40;22;807;127;94  4;5;8;147;24;8   True                    1320.0   \n",
       "4254        8;12;14;67;83      3;3;9;9;16   True                     563.0   \n",
       "4255          45;14;20;46       16;1;7;19  False                    1878.0   \n",
       "\n",
       "      authors_publications_median  authors_hindex_median  reputation  \\\n",
       "0                            42.0                   10.0    1.906761   \n",
       "1                            87.0                   15.5    0.966675   \n",
       "2                            78.0                   33.0    1.714100   \n",
       "3                            63.0                   20.0    1.258896   \n",
       "4                            40.0                    9.0    0.984882   \n",
       "...                           ...                    ...         ...   \n",
       "4251                        102.5                   22.0    1.368938   \n",
       "4252                          9.5                    1.5    0.577236   \n",
       "4253                         67.0                    8.0    0.670325   \n",
       "4254                         14.0                    9.0    1.359447   \n",
       "4255                         32.5                   11.5    1.740191   \n",
       "\n",
       "         crazy  has_top_company  has_top_institution  \n",
       "0    -9.000000                0                    1  \n",
       "1     4.333333                0                    1  \n",
       "2    -6.666667                1                    1  \n",
       "3    -6.333333                0                    0  \n",
       "4     4.333333                0                    0  \n",
       "...        ...              ...                  ...  \n",
       "4251 -5.000000                0                    1  \n",
       "4252  4.333333                1                    1  \n",
       "4253  5.000000                0                    1  \n",
       "4254  6.666667                0                    0  \n",
       "4255  5.000000                1                    0  \n",
       "\n",
       "[4256 rows x 19 columns]"
      ]
     },
     "execution_count": 10,
     "metadata": {},
     "output_type": "execute_result"
    }
   ],
   "source": [
    "df"
   ]
  },
  {
   "cell_type": "code",
   "execution_count": 11,
   "metadata": {},
   "outputs": [],
   "source": [
    "def split_data(X,y,test_size):\n",
    "    X_train, X_test, y_train, y_test = train_test_split(X, y,test_size = test_size, random_state=42)\n",
    "    return X_train, X_test, y_train, y_test"
   ]
  },
  {
   "cell_type": "markdown",
   "metadata": {},
   "source": [
    "### Task 1.3\n",
    "\n",
    "Build a Linear Regression model (use [sklearn](https://scikit-learn.org/stable/)) that predicts the score of a paper (which is in the variable ratings in the dataframe). Train it and test it using the split you previously defined. Your model should use as features:\n",
    "- Median values for the number of author citations, publications and h-indexes, as calculated in Task 1.1.1.\n",
    "\n",
    "- `reputation` of the last author, as calculated in Task 1.1.2.\n",
    "\n",
    "For the two scenarios above (random split and longitudinal split):\n",
    "\n",
    "1. Report the model $R^2$ in each case (for the testing set).\n",
    "2. **Discuss:** Hypothesize a reason why the results are different. Additionally, interpret the $R^2$ value for the longitudinal split. How can it be negative?\n",
    "3. **From now onwards (in this task and the following ones), consider only the random split.** For a given entry $X$ your model outputs a predicted score $Y'$. The difference between the real score $Y$ and the predicted score $Y'$ is called the \"residual\". Plot the distribution of your residuals for the test set. Using this distribution, estimate what is the probability that your prediction is off by more than 2-points? Provide bootstrapped confidence intervals for your answer.\n",
    "4. **Discuss:** Identify three additional features that are already computed in your dataframe and that could boost your model's predictive performance. You are not allowed to use the variable `decisions` as an input here. Before running any experiments, discuss why each of these features might add valuable information to your model.\n",
    "5. Report the $R^2$ (for the test set) for a newly trained model with these additional features. Please note that you do not need to improve the model performance to be successful in this task!\n",
    "\n",
    "**Hint**: [Metrics!](https://scikit-learn.org/stable/modules/classes.html#sklearn-metrics-metrics)"
   ]
  },
  {
   "cell_type": "code",
   "execution_count": 12,
   "metadata": {},
   "outputs": [
    {
     "data": {
      "text/html": [
       "<div>\n",
       "<style scoped>\n",
       "    .dataframe tbody tr th:only-of-type {\n",
       "        vertical-align: middle;\n",
       "    }\n",
       "\n",
       "    .dataframe tbody tr th {\n",
       "        vertical-align: top;\n",
       "    }\n",
       "\n",
       "    .dataframe thead th {\n",
       "        text-align: right;\n",
       "    }\n",
       "</style>\n",
       "<table border=\"1\" class=\"dataframe\">\n",
       "  <thead>\n",
       "    <tr style=\"text-align: right;\">\n",
       "      <th></th>\n",
       "      <th>authors_citations_median</th>\n",
       "      <th>authors_publications_median</th>\n",
       "      <th>authors_hindex_median</th>\n",
       "      <th>reputation</th>\n",
       "    </tr>\n",
       "  </thead>\n",
       "  <tbody>\n",
       "    <tr>\n",
       "      <th>0</th>\n",
       "      <td>904.0</td>\n",
       "      <td>42.0</td>\n",
       "      <td>10.0</td>\n",
       "      <td>1.906761</td>\n",
       "    </tr>\n",
       "    <tr>\n",
       "      <th>1</th>\n",
       "      <td>889.5</td>\n",
       "      <td>87.0</td>\n",
       "      <td>15.5</td>\n",
       "      <td>0.966675</td>\n",
       "    </tr>\n",
       "    <tr>\n",
       "      <th>2</th>\n",
       "      <td>8800.0</td>\n",
       "      <td>78.0</td>\n",
       "      <td>33.0</td>\n",
       "      <td>1.714100</td>\n",
       "    </tr>\n",
       "    <tr>\n",
       "      <th>3</th>\n",
       "      <td>1382.0</td>\n",
       "      <td>63.0</td>\n",
       "      <td>20.0</td>\n",
       "      <td>1.258896</td>\n",
       "    </tr>\n",
       "    <tr>\n",
       "      <th>4</th>\n",
       "      <td>658.0</td>\n",
       "      <td>40.0</td>\n",
       "      <td>9.0</td>\n",
       "      <td>0.984882</td>\n",
       "    </tr>\n",
       "    <tr>\n",
       "      <th>...</th>\n",
       "      <td>...</td>\n",
       "      <td>...</td>\n",
       "      <td>...</td>\n",
       "      <td>...</td>\n",
       "    </tr>\n",
       "    <tr>\n",
       "      <th>4251</th>\n",
       "      <td>2095.0</td>\n",
       "      <td>102.5</td>\n",
       "      <td>22.0</td>\n",
       "      <td>1.368938</td>\n",
       "    </tr>\n",
       "    <tr>\n",
       "      <th>4252</th>\n",
       "      <td>25.0</td>\n",
       "      <td>9.5</td>\n",
       "      <td>1.5</td>\n",
       "      <td>0.577236</td>\n",
       "    </tr>\n",
       "    <tr>\n",
       "      <th>4253</th>\n",
       "      <td>1320.0</td>\n",
       "      <td>67.0</td>\n",
       "      <td>8.0</td>\n",
       "      <td>0.670325</td>\n",
       "    </tr>\n",
       "    <tr>\n",
       "      <th>4254</th>\n",
       "      <td>563.0</td>\n",
       "      <td>14.0</td>\n",
       "      <td>9.0</td>\n",
       "      <td>1.359447</td>\n",
       "    </tr>\n",
       "    <tr>\n",
       "      <th>4255</th>\n",
       "      <td>1878.0</td>\n",
       "      <td>32.5</td>\n",
       "      <td>11.5</td>\n",
       "      <td>1.740191</td>\n",
       "    </tr>\n",
       "  </tbody>\n",
       "</table>\n",
       "<p>4256 rows × 4 columns</p>\n",
       "</div>"
      ],
      "text/plain": [
       "      authors_citations_median  authors_publications_median  \\\n",
       "0                        904.0                         42.0   \n",
       "1                        889.5                         87.0   \n",
       "2                       8800.0                         78.0   \n",
       "3                       1382.0                         63.0   \n",
       "4                        658.0                         40.0   \n",
       "...                        ...                          ...   \n",
       "4251                    2095.0                        102.5   \n",
       "4252                      25.0                          9.5   \n",
       "4253                    1320.0                         67.0   \n",
       "4254                     563.0                         14.0   \n",
       "4255                    1878.0                         32.5   \n",
       "\n",
       "      authors_hindex_median  reputation  \n",
       "0                      10.0    1.906761  \n",
       "1                      15.5    0.966675  \n",
       "2                      33.0    1.714100  \n",
       "3                      20.0    1.258896  \n",
       "4                       9.0    0.984882  \n",
       "...                     ...         ...  \n",
       "4251                   22.0    1.368938  \n",
       "4252                    1.5    0.577236  \n",
       "4253                    8.0    0.670325  \n",
       "4254                    9.0    1.359447  \n",
       "4255                   11.5    1.740191  \n",
       "\n",
       "[4256 rows x 4 columns]"
      ]
     },
     "execution_count": 12,
     "metadata": {},
     "output_type": "execute_result"
    }
   ],
   "source": [
    "df[df.columns[12:16]]"
   ]
  },
  {
   "cell_type": "code",
   "execution_count": 13,
   "metadata": {},
   "outputs": [
    {
     "data": {
      "text/html": [
       "<div>\n",
       "<style scoped>\n",
       "    .dataframe tbody tr th:only-of-type {\n",
       "        vertical-align: middle;\n",
       "    }\n",
       "\n",
       "    .dataframe tbody tr th {\n",
       "        vertical-align: top;\n",
       "    }\n",
       "\n",
       "    .dataframe thead th {\n",
       "        text-align: right;\n",
       "    }\n",
       "</style>\n",
       "<table border=\"1\" class=\"dataframe\">\n",
       "  <thead>\n",
       "    <tr style=\"text-align: right;\">\n",
       "      <th></th>\n",
       "      <th>authors_citations_median</th>\n",
       "      <th>authors_publications_median</th>\n",
       "      <th>authors_hindex_median</th>\n",
       "      <th>reputation</th>\n",
       "    </tr>\n",
       "  </thead>\n",
       "  <tbody>\n",
       "    <tr>\n",
       "      <th>1091</th>\n",
       "      <td>277.0</td>\n",
       "      <td>29.0</td>\n",
       "      <td>7.0</td>\n",
       "      <td>1.052388</td>\n",
       "    </tr>\n",
       "    <tr>\n",
       "      <th>382</th>\n",
       "      <td>328.5</td>\n",
       "      <td>23.5</td>\n",
       "      <td>6.5</td>\n",
       "      <td>1.584183</td>\n",
       "    </tr>\n",
       "    <tr>\n",
       "      <th>2743</th>\n",
       "      <td>56.0</td>\n",
       "      <td>14.0</td>\n",
       "      <td>4.0</td>\n",
       "      <td>1.388913</td>\n",
       "    </tr>\n",
       "    <tr>\n",
       "      <th>3150</th>\n",
       "      <td>1224.0</td>\n",
       "      <td>27.0</td>\n",
       "      <td>13.0</td>\n",
       "      <td>2.124628</td>\n",
       "    </tr>\n",
       "    <tr>\n",
       "      <th>2230</th>\n",
       "      <td>103.5</td>\n",
       "      <td>12.5</td>\n",
       "      <td>3.0</td>\n",
       "      <td>1.014478</td>\n",
       "    </tr>\n",
       "    <tr>\n",
       "      <th>...</th>\n",
       "      <td>...</td>\n",
       "      <td>...</td>\n",
       "      <td>...</td>\n",
       "      <td>...</td>\n",
       "    </tr>\n",
       "    <tr>\n",
       "      <th>3444</th>\n",
       "      <td>613.5</td>\n",
       "      <td>59.5</td>\n",
       "      <td>11.0</td>\n",
       "      <td>1.176986</td>\n",
       "    </tr>\n",
       "    <tr>\n",
       "      <th>466</th>\n",
       "      <td>64.0</td>\n",
       "      <td>19.0</td>\n",
       "      <td>4.0</td>\n",
       "      <td>0.640324</td>\n",
       "    </tr>\n",
       "    <tr>\n",
       "      <th>3092</th>\n",
       "      <td>1510.5</td>\n",
       "      <td>100.5</td>\n",
       "      <td>19.0</td>\n",
       "      <td>1.376997</td>\n",
       "    </tr>\n",
       "    <tr>\n",
       "      <th>3772</th>\n",
       "      <td>1173.5</td>\n",
       "      <td>60.5</td>\n",
       "      <td>18.0</td>\n",
       "      <td>1.151484</td>\n",
       "    </tr>\n",
       "    <tr>\n",
       "      <th>860</th>\n",
       "      <td>651.5</td>\n",
       "      <td>24.5</td>\n",
       "      <td>10.0</td>\n",
       "      <td>1.487004</td>\n",
       "    </tr>\n",
       "  </tbody>\n",
       "</table>\n",
       "<p>2979 rows × 4 columns</p>\n",
       "</div>"
      ],
      "text/plain": [
       "      authors_citations_median  authors_publications_median  \\\n",
       "1091                     277.0                         29.0   \n",
       "382                      328.5                         23.5   \n",
       "2743                      56.0                         14.0   \n",
       "3150                    1224.0                         27.0   \n",
       "2230                     103.5                         12.5   \n",
       "...                        ...                          ...   \n",
       "3444                     613.5                         59.5   \n",
       "466                       64.0                         19.0   \n",
       "3092                    1510.5                        100.5   \n",
       "3772                    1173.5                         60.5   \n",
       "860                      651.5                         24.5   \n",
       "\n",
       "      authors_hindex_median  reputation  \n",
       "1091                    7.0    1.052388  \n",
       "382                     6.5    1.584183  \n",
       "2743                    4.0    1.388913  \n",
       "3150                   13.0    2.124628  \n",
       "2230                    3.0    1.014478  \n",
       "...                     ...         ...  \n",
       "3444                   11.0    1.176986  \n",
       "466                     4.0    0.640324  \n",
       "3092                   19.0    1.376997  \n",
       "3772                   18.0    1.151484  \n",
       "860                    10.0    1.487004  \n",
       "\n",
       "[2979 rows x 4 columns]"
      ]
     },
     "execution_count": 13,
     "metadata": {},
     "output_type": "execute_result"
    }
   ],
   "source": [
    "\n",
    "X = df[df.columns[12:16]]\n",
    "y = df['ratings']\n",
    "X_train, X_test, y_train, y_test = split_data(X,y,0.3)\n",
    "X_train"
   ]
  },
  {
   "cell_type": "markdown",
   "metadata": {},
   "source": [
    "### Task 1.4\n",
    "\n",
    "Experiment with training a different regressor, a [Gradient Boosting Regressor](https://scikit-learn.org/stable/modules/ensemble.html?highlight=xgboost#gradient-boosting). This regressor is analogous to the Gradient Boosting Classifier that you have seen in class. This model performs extremely well for a variety of tasks and is often used in machine learning competitions for tabular data (e.g., on [Kaggle](www.kaggle.com)). You must:\n",
    "\n",
    "1. Train a Gradient Boosting Regressor without specifying any parameters, e.g. `GradientBoostingRegressor().fit(X, y)`, and report its $R^2$ on the testing set. Your model should again use as features:\n",
    "    - Median values for the number of author citations, publications and h-indexes as calculated in Task 1.1.1.\n",
    "    - `reputation` of the last author, as calculated in Task 1.1.2.\n",
    "2. Create an additional feature called $crazy$, which is derived as follows. If the score  of the paper, $ratings$, is bigger than 4.96, then $crazy = 9 - ratings$, otherwise, $crazy = - ratings$. Train a Gradient Boosting Regressor to predict paper scores using only $crazy$ as a feature. Additionally, train a Linear Regression model to predict paper scores using only $crazy$ as a feature. Report the $R^2$ in the testing set.\n",
    "3. **Discuss:** Why does the Gradient Boosting Regressor perform so much better?"
   ]
  },
  {
   "cell_type": "code",
   "execution_count": 14,
   "metadata": {},
   "outputs": [
    {
     "data": {
      "text/plain": [
       "0.11744531531822211"
      ]
     },
     "execution_count": 14,
     "metadata": {},
     "output_type": "execute_result"
    }
   ],
   "source": [
    "from sklearn.ensemble import GradientBoostingRegressor\n",
    "import sklearn.metrics as metrics\n",
    "\n",
    "est = GradientBoostingRegressor().fit(X_train, y_train)\n",
    "pred = est.predict(X_test)\n",
    "R2 = metrics.r2_score(y_test,pred) #get the r2 score can be other score like F1 or accurancy\n",
    "R2\n"
   ]
  },
  {
   "cell_type": "code",
   "execution_count": 15,
   "metadata": {},
   "outputs": [
    {
     "ename": "NameError",
     "evalue": "name 'X_train_' is not defined",
     "output_type": "error",
     "traceback": [
      "\u001b[1;31m---------------------------------------------------------------------------\u001b[0m",
      "\u001b[1;31mNameError\u001b[0m                                 Traceback (most recent call last)",
      "\u001b[1;32m<ipython-input-15-1e70dc07549f>\u001b[0m in \u001b[0;36m<module>\u001b[1;34m\u001b[0m\n\u001b[0;32m      4\u001b[0m \u001b[0mX_train_crazy\u001b[0m \u001b[1;33m=\u001b[0m \u001b[0mnp\u001b[0m\u001b[1;33m.\u001b[0m\u001b[0marray\u001b[0m\u001b[1;33m(\u001b[0m\u001b[0mX_train_crazy\u001b[0m\u001b[1;33m)\u001b[0m\u001b[1;33m.\u001b[0m\u001b[0mreshape\u001b[0m\u001b[1;33m(\u001b[0m\u001b[1;33m-\u001b[0m\u001b[1;36m1\u001b[0m\u001b[1;33m,\u001b[0m\u001b[1;36m1\u001b[0m\u001b[1;33m)\u001b[0m\u001b[1;33m\u001b[0m\u001b[1;33m\u001b[0m\u001b[0m\n\u001b[0;32m      5\u001b[0m \u001b[0mX_test_crazy\u001b[0m \u001b[1;33m=\u001b[0m \u001b[0mnp\u001b[0m\u001b[1;33m.\u001b[0m\u001b[0marray\u001b[0m\u001b[1;33m(\u001b[0m\u001b[0mX_test_crazy\u001b[0m\u001b[1;33m)\u001b[0m\u001b[1;33m.\u001b[0m\u001b[0mreshape\u001b[0m\u001b[1;33m(\u001b[0m\u001b[1;33m-\u001b[0m\u001b[1;36m1\u001b[0m\u001b[1;33m,\u001b[0m\u001b[1;36m1\u001b[0m\u001b[1;33m)\u001b[0m\u001b[1;33m\u001b[0m\u001b[1;33m\u001b[0m\u001b[0m\n\u001b[1;32m----> 6\u001b[1;33m \u001b[0mest\u001b[0m \u001b[1;33m=\u001b[0m \u001b[0mGradientBoostingRegressor\u001b[0m\u001b[1;33m(\u001b[0m\u001b[1;33m)\u001b[0m\u001b[1;33m.\u001b[0m\u001b[0mfit\u001b[0m\u001b[1;33m(\u001b[0m\u001b[0mX_train_\u001b[0m\u001b[1;33m,\u001b[0m \u001b[0my_train_\u001b[0m\u001b[1;33m)\u001b[0m\u001b[1;33m\u001b[0m\u001b[1;33m\u001b[0m\u001b[0m\n\u001b[0m\u001b[0;32m      7\u001b[0m \u001b[0mpred\u001b[0m \u001b[1;33m=\u001b[0m \u001b[0mest\u001b[0m\u001b[1;33m.\u001b[0m\u001b[0mpredict\u001b[0m\u001b[1;33m(\u001b[0m\u001b[0mX_test_\u001b[0m\u001b[1;33m)\u001b[0m\u001b[1;33m\u001b[0m\u001b[1;33m\u001b[0m\u001b[0m\n\u001b[0;32m      8\u001b[0m \u001b[0mR2\u001b[0m \u001b[1;33m=\u001b[0m \u001b[0mmetrics\u001b[0m\u001b[1;33m.\u001b[0m\u001b[0mr2_score\u001b[0m\u001b[1;33m(\u001b[0m\u001b[0my_test_\u001b[0m\u001b[1;33m,\u001b[0m\u001b[0mpred\u001b[0m\u001b[1;33m)\u001b[0m \u001b[1;31m#get the r2 score can be other score like F1 or accurancy\u001b[0m\u001b[1;33m\u001b[0m\u001b[1;33m\u001b[0m\u001b[0m\n",
      "\u001b[1;31mNameError\u001b[0m: name 'X_train_' is not defined"
     ]
    }
   ],
   "source": [
    "\n",
    "X = df['crazy']\n",
    "y = df['ratings']\n",
    "X_train_crazy, X_test_crazy, y_train, y_test_crazy = split_data(X,y,0.3)\n",
    "X_train_crazy = np.array(X_train_crazy).reshape(-1,1)\n",
    "X_test_crazy = np.array(X_test_crazy).reshape(-1,1)\n",
    "est = GradientBoostingRegressor().fit(X_train_, y_train_)\n",
    "pred = est.predict(X_test_)\n",
    "R2 = metrics.r2_score(y_test_,pred) #get the r2 score can be other score like F1 or accurancy\n",
    "R2"
   ]
  },
  {
   "cell_type": "markdown",
   "metadata": {},
   "source": [
    "### Task 1.5\n",
    "\n",
    "Complex models often have several hyper-parameters. \n",
    "To obtain the best results, it is common-place to use a cross-validation set-up in your training data to find the best hyper-parameters, and then use it for the test set.\n",
    "\n",
    "\n",
    "1. Write modular code (i.e., a function) to divide your training data into $N$ folds and perform cross-validation.\n",
    "2.  Experiment tuning two hyper-parameters of the Gradient Boosting Regressor: `n_estimators` and `learning_rate`.\n",
    "For each possible combination of the two hyper-parameters (see below for the range of values that you should try for each hyper-parameter), train your model in a cross-validation setup with $N$=20. Report the mean $R^2$ along with the 90% CI for the 18 scenarios. Notice that you can calculate the 90% CI in a bootstrap-like fashion.\n",
    "    - `n_estimators`$ \\in  \\{ 50, 75, 100, 150, 200, 250\\}$\n",
    "    - `learning_rate`$ \\in  \\{ 0.1, 0.05, 0.01\\}$.\n",
    "3. With the best hyper-parameters obtained, train your model with the entire training set and report the $R^2$ on the testing set.\n",
    "4. **Discuss:** Why don't we tune the hyper-parameters in the testing set instead of doing cross-validation in the training set?"
   ]
  },
  {
   "cell_type": "code",
   "execution_count": 33,
   "metadata": {},
   "outputs": [
    {
     "data": {
      "text/plain": [
       "GridSearchCV(cv=5, estimator=GradientBoostingRegressor(),\n",
       "             param_grid={'learning_rate': [0.1, 0.05, 0.01],\n",
       "                         'n_estimators': [50, 75, 100, 150, 200, 250]},\n",
       "             scoring='r2')"
      ]
     },
     "execution_count": 33,
     "metadata": {},
     "output_type": "execute_result"
    }
   ],
   "source": [
    "from sklearn.model_selection import train_test_split\n",
    "from sklearn.model_selection import GridSearchCV\n",
    "from sklearn.model_selection import cross_validate\n",
    "est = GradientBoostingRegressor()\n",
    "parameters = {'n_estimators' : [50,75,100,150,200,250] ,\n",
    "              'learning_rate' : [0.1,0.05,0.01]}\n",
    "y = df['ratings']\n",
    "X = df[df.columns[12:16]]\n",
    "X_train, X_test, y_train, y_test = train_test_split(X, y,test_size = .3)\n",
    "cross_vl = GridSearchCV(est , parameters , irscv = 5 , scoring='r2')\n",
    "cross_vl.fit(X_train,y_train)"
   ]
  },
  {
   "cell_type": "code",
   "execution_count": 24,
   "metadata": {},
   "outputs": [
    {
     "data": {
      "text/plain": [
       "{'learning_rate': 0.05, 'n_estimators': 50}"
      ]
     },
     "execution_count": 24,
     "metadata": {},
     "output_type": "execute_result"
    }
   ],
   "source": [
    "cross_vl.best_params_"
   ]
  },
  {
   "cell_type": "code",
   "execution_count": 76,
   "metadata": {},
   "outputs": [
    {
     "data": {
      "text/plain": [
       "6"
      ]
     },
     "execution_count": 76,
     "metadata": {},
     "output_type": "execute_result"
    }
   ],
   "source": [
    "cross_vl.best_index_"
   ]
  },
  {
   "cell_type": "code",
   "execution_count": 29,
   "metadata": {},
   "outputs": [
    {
     "data": {
      "text/plain": [
       "{'mean_fit_time': array([0.23028111, 0.33249903, 0.46174951, 0.69238634, 0.92144256,\n",
       "        1.15501657, 0.23322706, 0.34902649, 0.45847821, 0.69498582,\n",
       "        0.88556762, 1.14610724, 0.23306727, 0.35317907, 0.46650887,\n",
       "        0.69646177, 0.94315224, 1.13460031]),\n",
       " 'std_fit_time': array([0.0077674 , 0.01481655, 0.00439227, 0.00209961, 0.0031157 ,\n",
       "        0.01180835, 0.00086802, 0.00627474, 0.01059824, 0.01339873,\n",
       "        0.03793171, 0.0150519 , 0.00516899, 0.00469202, 0.00238835,\n",
       "        0.00752183, 0.10449983, 0.03844128]),\n",
       " 'mean_score_time': array([0.00485139, 0.00546746, 0.0059237 , 0.00430551, 0.00664153,\n",
       "        0.00733962, 0.00538449, 0.00602255, 0.00492711, 0.005443  ,\n",
       "        0.0061233 , 0.00669432, 0.0045671 , 0.00429964, 0.00714459,\n",
       "        0.00687957, 0.00880566, 0.00874786]),\n",
       " 'std_score_time': array([0.0007579 , 0.00185967, 0.00152809, 0.00127874, 0.00214834,\n",
       "        0.00166254, 0.00237603, 0.00107214, 0.00113325, 0.00149946,\n",
       "        0.00155798, 0.00125106, 0.00152956, 0.00108836, 0.00142055,\n",
       "        0.00155292, 0.00149825, 0.00117488]),\n",
       " 'param_learning_rate': masked_array(data=[0.1, 0.1, 0.1, 0.1, 0.1, 0.1, 0.05, 0.05, 0.05, 0.05,\n",
       "                    0.05, 0.05, 0.01, 0.01, 0.01, 0.01, 0.01, 0.01],\n",
       "              mask=[False, False, False, False, False, False, False, False,\n",
       "                    False, False, False, False, False, False, False, False,\n",
       "                    False, False],\n",
       "        fill_value='?',\n",
       "             dtype=object),\n",
       " 'param_n_estimators': masked_array(data=[50, 75, 100, 150, 200, 250, 50, 75, 100, 150, 200, 250,\n",
       "                    50, 75, 100, 150, 200, 250],\n",
       "              mask=[False, False, False, False, False, False, False, False,\n",
       "                    False, False, False, False, False, False, False, False,\n",
       "                    False, False],\n",
       "        fill_value='?',\n",
       "             dtype=object),\n",
       " 'params': [{'learning_rate': 0.1, 'n_estimators': 50},\n",
       "  {'learning_rate': 0.1, 'n_estimators': 75},\n",
       "  {'learning_rate': 0.1, 'n_estimators': 100},\n",
       "  {'learning_rate': 0.1, 'n_estimators': 150},\n",
       "  {'learning_rate': 0.1, 'n_estimators': 200},\n",
       "  {'learning_rate': 0.1, 'n_estimators': 250},\n",
       "  {'learning_rate': 0.05, 'n_estimators': 50},\n",
       "  {'learning_rate': 0.05, 'n_estimators': 75},\n",
       "  {'learning_rate': 0.05, 'n_estimators': 100},\n",
       "  {'learning_rate': 0.05, 'n_estimators': 150},\n",
       "  {'learning_rate': 0.05, 'n_estimators': 200},\n",
       "  {'learning_rate': 0.05, 'n_estimators': 250},\n",
       "  {'learning_rate': 0.01, 'n_estimators': 50},\n",
       "  {'learning_rate': 0.01, 'n_estimators': 75},\n",
       "  {'learning_rate': 0.01, 'n_estimators': 100},\n",
       "  {'learning_rate': 0.01, 'n_estimators': 150},\n",
       "  {'learning_rate': 0.01, 'n_estimators': 200},\n",
       "  {'learning_rate': 0.01, 'n_estimators': 250}],\n",
       " 'split0_test_score': array([0.08818576, 0.08430976, 0.08552356, 0.08540712, 0.07698132,\n",
       "        0.07442745, 0.08693385, 0.08802515, 0.08654689, 0.08449481,\n",
       "        0.08251557, 0.08403925, 0.04796009, 0.06199662, 0.07181546,\n",
       "        0.08182139, 0.08665807, 0.08761579]),\n",
       " 'split1_test_score': array([0.09599513, 0.08868282, 0.08537912, 0.07528394, 0.06087973,\n",
       "        0.048557  , 0.09021423, 0.09182316, 0.09520031, 0.09241468,\n",
       "        0.09434598, 0.08551454, 0.05613035, 0.07101474, 0.07694909,\n",
       "        0.08078026, 0.0862849 , 0.08854231]),\n",
       " 'split2_test_score': array([ 5.78966542e-02,  4.57248990e-02,  3.70380780e-02,  2.31438140e-02,\n",
       "         1.48663616e-02, -9.28246344e-05,  6.65435095e-02,  6.01270795e-02,\n",
       "         5.86565611e-02,  5.06368143e-02,  4.11958858e-02,  3.89132727e-02,\n",
       "         4.87208428e-02,  5.73294318e-02,  6.37018809e-02,  6.95537109e-02,\n",
       "         6.91361854e-02,  6.59421008e-02]),\n",
       " 'split3_test_score': array([0.06266339, 0.05315786, 0.04046957, 0.03251951, 0.01837745,\n",
       "        0.01312939, 0.06798939, 0.06561337, 0.06242516, 0.05009318,\n",
       "        0.04083917, 0.03685352, 0.0418395 , 0.05177434, 0.05726156,\n",
       "        0.06278137, 0.06692729, 0.06644876]),\n",
       " 'split4_test_score': array([0.10320744, 0.09706468, 0.08949979, 0.07982301, 0.06955164,\n",
       "        0.0617833 , 0.1075253 , 0.10710907, 0.10641501, 0.09793772,\n",
       "        0.09423926, 0.09018076, 0.06012299, 0.07724417, 0.08829363,\n",
       "        0.10208082, 0.10593637, 0.10895351]),\n",
       " 'mean_test_score': array([0.08158967, 0.073788  , 0.06758203, 0.05923548, 0.0481313 ,\n",
       "        0.03956086, 0.08384126, 0.08253957, 0.08184878, 0.07511544,\n",
       "        0.07062717, 0.06710027, 0.05095475, 0.06387186, 0.07160432,\n",
       "        0.07940351, 0.08298856, 0.0835005 ]),\n",
       " 'std_test_score': array([0.01809926, 0.02043285, 0.0236095 , 0.0260104 , 0.02625081,\n",
       "        0.02850082, 0.01524209, 0.01737097, 0.0185418 , 0.02065628,\n",
       "        0.02455595, 0.02395035, 0.00644809, 0.00919249, 0.01072667,\n",
       "        0.01338145, 0.01414769, 0.01605784]),\n",
       " 'rank_test_score': array([ 6,  9, 12, 15, 17, 18,  1,  4,  5,  8, 11, 13, 16, 14, 10,  7,  3,\n",
       "         2])}"
      ]
     },
     "execution_count": 29,
     "metadata": {},
     "output_type": "execute_result"
    }
   ],
   "source": [
    "cross_vl.cv_results_"
   ]
  },
  {
   "cell_type": "code",
   "execution_count": 77,
   "metadata": {},
   "outputs": [
    {
     "data": {
      "text/plain": [
       "1"
      ]
     },
     "execution_count": 77,
     "metadata": {},
     "output_type": "execute_result"
    }
   ],
   "source": [
    "cross_vl.cv_results_['rank_test_score'][cross_vl.best_index_]"
   ]
  },
  {
   "cell_type": "code",
   "execution_count": 78,
   "metadata": {},
   "outputs": [
    {
     "data": {
      "text/plain": [
       "{'learning_rate': 0.05, 'n_estimators': 50}"
      ]
     },
     "execution_count": 78,
     "metadata": {},
     "output_type": "execute_result"
    }
   ],
   "source": [
    "cross_vl.cv_results_['params'][cross_vl.best_index_]"
   ]
  },
  {
   "cell_type": "code",
   "execution_count": 79,
   "metadata": {},
   "outputs": [
    {
     "data": {
      "text/plain": [
       "0.09753827147942182"
      ]
     },
     "execution_count": 79,
     "metadata": {},
     "output_type": "execute_result"
    }
   ],
   "source": [
    "cross_vl.cv_results_['mean_test_score'][cross_vl.best_index_]"
   ]
  },
  {
   "cell_type": "code",
   "execution_count": 80,
   "metadata": {},
   "outputs": [
    {
     "name": "stdout",
     "output_type": "stream",
     "text": [
      "Our best R2 is equal to :  9.75 % with the parameter {'learning_rate': 0.05, 'n_estimators': 50}\n"
     ]
    }
   ],
   "source": [
    "print('Our best R2 is equal to : ',round(cross_vl.cv_results_['mean_test_score'][cross_vl.best_index_]*100,2),'% with the parameter',cross_vl.cv_results_['params'][cross_vl.best_index_])"
   ]
  },
  {
   "cell_type": "markdown",
   "metadata": {},
   "source": [
    "## _Step 2:_ What influences papers getting accepted?\n",
    "\n",
    "Time to change hats!\n",
    "\n",
    "If before we were interested in creating an accurate regressor, now we are interested in understanding what increases the chance of papers getting accepted. \n",
    "\n",
    "Typically, in that scenario, simpler models with a clear statistical interpretation (e.g. logistic regression) yield more interesting insights.\n",
    "\n",
    "For the analysis in this and the next step, you should use [statsmodels](https://www.statsmodels.org/) (for the regressions) and [scipy](https://www.scipy.org/) (for the statistical hypothesis testing).\n"
   ]
  },
  {
   "cell_type": "markdown",
   "metadata": {},
   "source": [
    "### Task 2.1\n",
    "\n",
    "Let's warm up with some visualizations and some hypothesis testing!\n",
    "\n",
    "1. Plot the distributions of 1) ratings of papers that got accepted in 2020, 2) ratings of papers that got rejected in 2020.\n",
    "2. Select a statistical test to compare whether the mean for ratings of papers that got accepted in 2020 is significantly higher.\n",
    "3. **Discuss:** Justify why the statistical test you selected is appropriate. Interpret the test-related statistic and its p-value: concretely, what do they mean?"
   ]
  },
  {
   "cell_type": "code",
   "execution_count": 84,
   "metadata": {},
   "outputs": [],
   "source": [
    "import seaborn as sns\n",
    "from scipy import stats"
   ]
  },
  {
   "cell_type": "code",
   "execution_count": 187,
   "metadata": {},
   "outputs": [
    {
     "data": {
      "image/png": "[encoded data removed]",
      "text/plain": [
       "<Figure size 720x360 with 2 Axes>"
      ]
     },
     "metadata": {
      "needs_background": "light"
     },
     "output_type": "display_data"
    }
   ],
   "source": [
    "paper2020 = df.loc[df['year']==2020]\n",
    "g = sns.FacetGrid(paper2020, col='decisions',margin_titles=True, height=5)\n",
    "g.map(plt.hist, 'ratings')\n",
    "plt.suptitle('Paper 2020')\n",
    "plt.show()"
   ]
  },
  {
   "cell_type": "code",
   "execution_count": 86,
   "metadata": {},
   "outputs": [],
   "source": [
    "accept2020 = df.loc[(df['decisions']=='Accept')&(df['year']==2020)]\n",
    "reject2020 = df.loc[(df['decisions']=='Reject')&(df['year']==2020)]  "
   ]
  },
  {
   "cell_type": "code",
   "execution_count": 87,
   "metadata": {},
   "outputs": [],
   "source": [
    "set1 = paper2020['ratings']"
   ]
  },
  {
   "cell_type": "code",
   "execution_count": 88,
   "metadata": {},
   "outputs": [
    {
     "data": {
      "text/plain": [
       "4.435916179337229"
      ]
     },
     "execution_count": 88,
     "metadata": {},
     "output_type": "execute_result"
    }
   ],
   "source": [
    "set1.mean()"
   ]
  },
  {
   "cell_type": "code",
   "execution_count": 89,
   "metadata": {},
   "outputs": [
    {
     "data": {
      "text/plain": [
       "6.138632750397448"
      ]
     },
     "execution_count": 89,
     "metadata": {},
     "output_type": "execute_result"
    }
   ],
   "source": [
    "set2 = accept2020['ratings']\n",
    "set2.mean()"
   ]
  },
  {
   "cell_type": "code",
   "execution_count": 90,
   "metadata": {},
   "outputs": [
    {
     "name": "stdout",
     "output_type": "stream",
     "text": [
      "sample:        mean = 4.4359, variance = 2.5353, skew = -0.0816, kurtosis = -0.7679\n"
     ]
    }
   ],
   "source": [
    "n1, (smin1, smax1), sm1, sv1, ss1, sk1 = stats.describe(set1)\n",
    "n2, (smin2, smax2), sm2, sv2, ss2, sk2 = stats.describe(set2)\n",
    "sstr = '%-14s mean = %6.4f, variance = %6.4f, skew = %6.4f, kurtosis = %6.4f'\n",
    "print(sstr % ('sample:', sm1, sv1, ss1, sk1))"
   ]
  },
  {
   "cell_type": "code",
   "execution_count": 91,
   "metadata": {},
   "outputs": [
    {
     "name": "stdout",
     "output_type": "stream",
     "text": [
      "sample:        mean = 6.1386, variance = 0.6497, skew = -0.3754, kurtosis = 0.6991\n"
     ]
    }
   ],
   "source": [
    "print(sstr % ('sample:', sm2, sv2, ss2, sk2))"
   ]
  },
  {
   "cell_type": "code",
   "execution_count": 92,
   "metadata": {},
   "outputs": [
    {
     "data": {
      "text/plain": [
       "0.25624762302058307"
      ]
     },
     "execution_count": 92,
     "metadata": {},
     "output_type": "execute_result"
    }
   ],
   "source": [
    "sv2/sv1 #<4 ----> donc variance are equal"
   ]
  },
  {
   "cell_type": "code",
   "execution_count": 93,
   "metadata": {},
   "outputs": [
    {
     "name": "stdout",
     "output_type": "stream",
     "text": [
      "t-statistic = -25.822 pvalue = 0.0000\n"
     ]
    }
   ],
   "source": [
    "print('t-statistic = %6.3f pvalue = %6.4f' %  stats.ttest_ind(set1,set2, equal_var=True))"
   ]
  },
  {
   "cell_type": "markdown",
   "metadata": {},
   "source": [
    "The two hypotheses for this particular two sample t-test are as follows:\n",
    "\n",
    "H0: µ1 = µ2 (the two population means are equal)\n",
    "\n",
    "HA: µ1 ≠µ2 (the two population means are not equal)\n",
    "\n",
    "So as we have pvalue < 0.05 we acce H0"
   ]
  },
  {
   "cell_type": "markdown",
   "metadata": {},
   "source": [
    "### Task 2.2\n",
    "\n",
    "We will now carry out a logistic regression modeling the binary variable `decisions` as a function of the continuous variable `ratings` and an intercept. \n",
    "\n",
    "Recall that a logistic regression is a model in the form:\n",
    "\n",
    "$$\n",
    "\\log \\Big( \\frac{p}{1-p} \\Big) = b_0 + b_1x_1 + b_2x_2 + \\ldots\n",
    "$$\n",
    "\n",
    "Where $p$ is the probability of the dependent variable (here, `decisions`) being equals to 1. \n",
    "Note that $\\frac{p}{1-p}$ represents the odds of the variable, and thus, on the left-hand side we have the log-odds of the variable.\n",
    "This can be also written as:\n",
    "\n",
    "$$\n",
    "\\Big( \\frac{p}{1-p} \\Big) = e^{b_0 + b_1 x_1 + b_2 x_2 + \\ldots} =  e^{b_0} e^{b_1 x_1} e^{b_2 x_2} \\ldots\n",
    "$$\n",
    "\n",
    "Given a linear variable, say $x_1$, if we increase the value associated with this variable by a single unit, and keep everything constant, we have:\n",
    "\n",
    "$$\n",
    " e^{b_1(x_1+1)} =  e^{b_1 x_1 + b_1} = e^{b_1 x_1}e^{b_1}  \n",
    "$$\n",
    "\n",
    "This means that we multiply the odds of the outcome variable by $e^{b_1}$. Thus, let's say that $x_1$ is the average rating, and $\\beta_1$ is the associated coefficient. Also, let's assume that $\\beta_1$ equals 2. In that case, increasing the score of the paper by 1 unit is equivalent to multiplying both sides of the previous equation by $e^{b_1}$. The original equation for our model becomes:\n",
    "\n",
    "$$\n",
    "\\Big( \\frac{p}{1-p} \\Big) = e^{b_0} e^{b_1 x_1} \n",
    "$$\n",
    "$$\n",
    "\\Big( \\frac{p}{1-p} \\Big) e^{b_1}  = e^{b_0} e^{b_1 x_1} e^{b_1}\n",
    "$$\n",
    "\n",
    "Since $b_1=2$, we have that this is the same as multiplying the odds of the variable by $e^2\\approx7$. \n",
    "So for example, if a paper with a score 5 had $p=0.05$ of being approved, its odds would be $0.05/0.95\\approx0.052$. According to our model, an increase in 1-rating point would mean that the new odds would be $0.052*7\\approx0.36$. Using the odds formula  ($\\frac{p}{1-p}$), this suggests that this paper would have a chance of $0.56$ of being accepted.\n",
    "\n",
    "---\n",
    "\n",
    "This is the theory. Now, let's find out what the real world looks like.\n",
    "\n",
    "\n",
    "1. Fit a logistic regression model to our data considering as the training set all papers submitted in 2020. Your model should predict a binary variable related to decisions (which equals true if the paper was accepted and false otherwise) as a function of the paper ratings and an intercept. In mathematical notation:\n",
    "$$\n",
    "d = b_0 + r b_1\n",
    "$$\n",
    "Where $d$ is the binary variable corresponding to a decision, $r$ is a numeric variable corresponding to the rating a paper has received and $b$ are coefficients.\n",
    "Notice that here we have no testing set!\n",
    "Report the summary of your model. \n",
    "2. **Discuss:** Interpreting the coefficients of your model, calculate the probability that a paper with a score 7 will be accepted.\n"
   ]
  },
  {
   "cell_type": "code",
   "execution_count": 235,
   "metadata": {},
   "outputs": [
    {
     "data": {
      "text/html": [
       "<div>\n",
       "<style scoped>\n",
       "    .dataframe tbody tr th:only-of-type {\n",
       "        vertical-align: middle;\n",
       "    }\n",
       "\n",
       "    .dataframe tbody tr th {\n",
       "        vertical-align: top;\n",
       "    }\n",
       "\n",
       "    .dataframe thead th {\n",
       "        text-align: right;\n",
       "    }\n",
       "</style>\n",
       "<table border=\"1\" class=\"dataframe\">\n",
       "  <thead>\n",
       "    <tr style=\"text-align: right;\">\n",
       "      <th></th>\n",
       "      <th>year</th>\n",
       "      <th>paper</th>\n",
       "      <th>authors</th>\n",
       "      <th>ratings</th>\n",
       "      <th>decisions</th>\n",
       "      <th>institution</th>\n",
       "      <th>csranking</th>\n",
       "      <th>categories</th>\n",
       "      <th>authors_citations</th>\n",
       "      <th>authors_publications</th>\n",
       "      <th>authors_hindex</th>\n",
       "      <th>arxiv</th>\n",
       "      <th>authors_citations_median</th>\n",
       "      <th>authors_publications_median</th>\n",
       "      <th>authors_hindex_median</th>\n",
       "      <th>reputation</th>\n",
       "      <th>crazy</th>\n",
       "      <th>has_top_company</th>\n",
       "      <th>has_top_institution</th>\n",
       "    </tr>\n",
       "  </thead>\n",
       "  <tbody>\n",
       "    <tr>\n",
       "      <th>3401</th>\n",
       "      <td>2020</td>\n",
       "      <td>On the Dynamics and Convergence of Weight Norm...</td>\n",
       "      <td>Yonatan Dukler;Quanquan Gu;Guido Montufar</td>\n",
       "      <td>-0.27377</td>\n",
       "      <td>0</td>\n",
       "      <td>University of California, Los Angeles;Universi...</td>\n",
       "      <td>20;20;20</td>\n",
       "      <td>1</td>\n",
       "      <td>9;3895;1193</td>\n",
       "      <td>6;174;60</td>\n",
       "      <td>1;34;14</td>\n",
       "      <td>False</td>\n",
       "      <td>1193.0</td>\n",
       "      <td>60.0</td>\n",
       "      <td>14.0</td>\n",
       "      <td>1.3198</td>\n",
       "      <td>5.0</td>\n",
       "      <td>0</td>\n",
       "      <td>1</td>\n",
       "    </tr>\n",
       "  </tbody>\n",
       "</table>\n",
       "</div>"
      ],
      "text/plain": [
       "      year                                              paper  \\\n",
       "3401  2020  On the Dynamics and Convergence of Weight Norm...   \n",
       "\n",
       "                                        authors  ratings  decisions  \\\n",
       "3401  Yonatan Dukler;Quanquan Gu;Guido Montufar -0.27377          0   \n",
       "\n",
       "                                            institution csranking categories  \\\n",
       "3401  University of California, Los Angeles;Universi...  20;20;20          1   \n",
       "\n",
       "     authors_citations authors_publications authors_hindex  arxiv  \\\n",
       "3401       9;3895;1193             6;174;60        1;34;14  False   \n",
       "\n",
       "      authors_citations_median  authors_publications_median  \\\n",
       "3401                    1193.0                         60.0   \n",
       "\n",
       "      authors_hindex_median  reputation  crazy  has_top_company  \\\n",
       "3401                   14.0      1.3198    5.0                0   \n",
       "\n",
       "      has_top_institution  \n",
       "3401                    1  "
      ]
     },
     "execution_count": 235,
     "metadata": {},
     "output_type": "execute_result"
    }
   ],
   "source": [
    "paper2020.sample(1)\n"
   ]
  },
  {
   "cell_type": "code",
   "execution_count": 245,
   "metadata": {},
   "outputs": [
    {
     "name": "stderr",
     "output_type": "stream",
     "text": [
      "<ipython-input-245-e32ca63e170a>:2: SettingWithCopyWarning: \n",
      "A value is trying to be set on a copy of a slice from a DataFrame.\n",
      "Try using .loc[row_indexer,col_indexer] = value instead\n",
      "\n",
      "See the caveats in the documentation: https://pandas.pydata.org/pandas-docs/stable/user_guide/indexing.html#returning-a-view-versus-a-copy\n",
      "  paper2020['decisions'] = paper2020['decisions'].apply(lambda x : 1 if x=='Accept' else 0)\n"
     ]
    }
   ],
   "source": [
    "paper2020 = df.loc[df['year']==2020]\n",
    "paper2020['decisions'] = paper2020['decisions'].apply(lambda x : 1 if x=='Accept' else 0)"
   ]
  },
  {
   "cell_type": "code",
   "execution_count": 238,
   "metadata": {},
   "outputs": [
    {
     "data": {
      "text/html": [
       "<div>\n",
       "<style scoped>\n",
       "    .dataframe tbody tr th:only-of-type {\n",
       "        vertical-align: middle;\n",
       "    }\n",
       "\n",
       "    .dataframe tbody tr th {\n",
       "        vertical-align: top;\n",
       "    }\n",
       "\n",
       "    .dataframe thead th {\n",
       "        text-align: right;\n",
       "    }\n",
       "</style>\n",
       "<table border=\"1\" class=\"dataframe\">\n",
       "  <thead>\n",
       "    <tr style=\"text-align: right;\">\n",
       "      <th></th>\n",
       "      <th>year</th>\n",
       "      <th>paper</th>\n",
       "      <th>authors</th>\n",
       "      <th>ratings</th>\n",
       "      <th>decisions</th>\n",
       "      <th>institution</th>\n",
       "      <th>csranking</th>\n",
       "      <th>categories</th>\n",
       "      <th>authors_citations</th>\n",
       "      <th>authors_publications</th>\n",
       "      <th>authors_hindex</th>\n",
       "      <th>arxiv</th>\n",
       "      <th>authors_citations_median</th>\n",
       "      <th>authors_publications_median</th>\n",
       "      <th>authors_hindex_median</th>\n",
       "      <th>reputation</th>\n",
       "      <th>crazy</th>\n",
       "      <th>has_top_company</th>\n",
       "      <th>has_top_institution</th>\n",
       "    </tr>\n",
       "  </thead>\n",
       "  <tbody>\n",
       "    <tr>\n",
       "      <th>3215</th>\n",
       "      <td>2020</td>\n",
       "      <td>SAFE-DNN: A Deep Neural Network with Spike Ass...</td>\n",
       "      <td>Xueyuan She;Priyabrata Saha;Daehyun Kim;Yun Lo...</td>\n",
       "      <td>-0.273770</td>\n",
       "      <td>0</td>\n",
       "      <td>Georgia Institute of Technology;Georgia Instit...</td>\n",
       "      <td>13;13;13;13;13</td>\n",
       "      <td>0</td>\n",
       "      <td>32;26;285;571;314</td>\n",
       "      <td>8;15;72;102;90</td>\n",
       "      <td>3;3;8;12;8</td>\n",
       "      <td>False</td>\n",
       "      <td>285.0</td>\n",
       "      <td>72.0</td>\n",
       "      <td>8.0</td>\n",
       "      <td>-1.190636</td>\n",
       "      <td>5.0</td>\n",
       "      <td>0</td>\n",
       "      <td>1</td>\n",
       "    </tr>\n",
       "    <tr>\n",
       "      <th>3181</th>\n",
       "      <td>2020</td>\n",
       "      <td>Retrieving Signals in the Frequency Domain wit...</td>\n",
       "      <td>Chiheb Trabelsi;Olexa Bilaniuk;Ousmane Dia;Yin...</td>\n",
       "      <td>0.354264</td>\n",
       "      <td>0</td>\n",
       "      <td>Polytechnique Montreal;University of Montreal;...</td>\n",
       "      <td>390;128;-1;-1;128;128;-1;-1</td>\n",
       "      <td>0</td>\n",
       "      <td>286;281;5;18;763;693;389;8489</td>\n",
       "      <td>11;14;8;21;37;28;32;120</td>\n",
       "      <td>4;7;1;3;18;10;10;33</td>\n",
       "      <td>False</td>\n",
       "      <td>337.5</td>\n",
       "      <td>24.5</td>\n",
       "      <td>8.5</td>\n",
       "      <td>0.990237</td>\n",
       "      <td>-5.0</td>\n",
       "      <td>0</td>\n",
       "      <td>1</td>\n",
       "    </tr>\n",
       "    <tr>\n",
       "      <th>3588</th>\n",
       "      <td>2020</td>\n",
       "      <td>Graph Warp Module: an Auxiliary Module for Boo...</td>\n",
       "      <td>Katsuhiko Ishiguro;Shin-ichi Maeda;Masanori Ko...</td>\n",
       "      <td>0.354264</td>\n",
       "      <td>0</td>\n",
       "      <td>Preferred Networks, Inc.;Preferred Networks, I...</td>\n",
       "      <td>-1;-1;-1</td>\n",
       "      <td>8</td>\n",
       "      <td>628;2028;2498</td>\n",
       "      <td>73;99;35</td>\n",
       "      <td>14;21;12</td>\n",
       "      <td>True</td>\n",
       "      <td>2028.0</td>\n",
       "      <td>73.0</td>\n",
       "      <td>14.0</td>\n",
       "      <td>0.997114</td>\n",
       "      <td>-5.0</td>\n",
       "      <td>0</td>\n",
       "      <td>0</td>\n",
       "    </tr>\n",
       "  </tbody>\n",
       "</table>\n",
       "</div>"
      ],
      "text/plain": [
       "      year                                              paper  \\\n",
       "3215  2020  SAFE-DNN: A Deep Neural Network with Spike Ass...   \n",
       "3181  2020  Retrieving Signals in the Frequency Domain wit...   \n",
       "3588  2020  Graph Warp Module: an Auxiliary Module for Boo...   \n",
       "\n",
       "                                                authors   ratings  decisions  \\\n",
       "3215  Xueyuan She;Priyabrata Saha;Daehyun Kim;Yun Lo... -0.273770          0   \n",
       "3181  Chiheb Trabelsi;Olexa Bilaniuk;Ousmane Dia;Yin...  0.354264          0   \n",
       "3588  Katsuhiko Ishiguro;Shin-ichi Maeda;Masanori Ko...  0.354264          0   \n",
       "\n",
       "                                            institution  \\\n",
       "3215  Georgia Institute of Technology;Georgia Instit...   \n",
       "3181  Polytechnique Montreal;University of Montreal;...   \n",
       "3588  Preferred Networks, Inc.;Preferred Networks, I...   \n",
       "\n",
       "                        csranking categories              authors_citations  \\\n",
       "3215               13;13;13;13;13          0              32;26;285;571;314   \n",
       "3181  390;128;-1;-1;128;128;-1;-1          0  286;281;5;18;763;693;389;8489   \n",
       "3588                     -1;-1;-1          8                  628;2028;2498   \n",
       "\n",
       "         authors_publications       authors_hindex  arxiv  \\\n",
       "3215           8;15;72;102;90           3;3;8;12;8  False   \n",
       "3181  11;14;8;21;37;28;32;120  4;7;1;3;18;10;10;33  False   \n",
       "3588                 73;99;35             14;21;12   True   \n",
       "\n",
       "      authors_citations_median  authors_publications_median  \\\n",
       "3215                     285.0                         72.0   \n",
       "3181                     337.5                         24.5   \n",
       "3588                    2028.0                         73.0   \n",
       "\n",
       "      authors_hindex_median  reputation  crazy  has_top_company  \\\n",
       "3215                    8.0   -1.190636    5.0                0   \n",
       "3181                    8.5    0.990237   -5.0                0   \n",
       "3588                   14.0    0.997114   -5.0                0   \n",
       "\n",
       "      has_top_institution  \n",
       "3215                    1  \n",
       "3181                    1  \n",
       "3588                    0  "
      ]
     },
     "execution_count": 238,
     "metadata": {},
     "output_type": "execute_result"
    }
   ],
   "source": [
    "paper2020.sample(3)"
   ]
  },
  {
   "cell_type": "markdown",
   "metadata": {},
   "source": [
    "## Statsmodels"
   ]
  },
  {
   "cell_type": "code",
   "execution_count": 242,
   "metadata": {},
   "outputs": [],
   "source": [
    "import statsmodels.api as sm\n",
    "import statsmodels.formula.api as smf\n"
   ]
  },
  {
   "cell_type": "code",
   "execution_count": 246,
   "metadata": {},
   "outputs": [
    {
     "name": "stdout",
     "output_type": "stream",
     "text": [
      "Optimization terminated successfully.\n",
      "         Current function value: 0.251882\n",
      "         Iterations 8\n",
      "                           Logit Regression Results                           \n",
      "==============================================================================\n",
      "Dep. Variable:              decisions   No. Observations:                 2052\n",
      "Model:                          Logit   Df Residuals:                     2050\n",
      "Method:                           MLE   Df Model:                            1\n",
      "Date:                Tue, 17 Nov 2020   Pseudo R-squ.:                  0.5913\n",
      "Time:                        16:01:08   Log-Likelihood:                -516.86\n",
      "converged:                       True   LL-Null:                       -1264.6\n",
      "Covariance Type:            nonrobust   LLR p-value:                     0.000\n",
      "==============================================================================\n",
      "                 coef    std err          z      P>|z|      [0.025      0.975]\n",
      "------------------------------------------------------------------------------\n",
      "Intercept    -12.8811      0.597    -21.574      0.000     -14.051     -11.711\n",
      "ratings        2.3672      0.110     21.438      0.000       2.151       2.584\n",
      "==============================================================================\n"
     ]
    }
   ],
   "source": [
    "mod = smf.logit(formula='decisions ~ ratings' , data = paper2020)\n",
    "res= mod.fit()\n",
    "print(res.summary())"
   ]
  },
  {
   "cell_type": "markdown",
   "metadata": {},
   "source": [
    "### Sklearn"
   ]
  },
  {
   "cell_type": "code",
   "execution_count": 197,
   "metadata": {},
   "outputs": [],
   "source": [
    "from sklearn.linear_model import LinearRegression, LogisticRegression, Ridge\n",
    "log_reg = LogisticRegression(fit_intercept=True)  # create the model\n",
    "paper2020 = df.loc[df['year']==2020]\n",
    "#X_train = paper2020.drop(['decisions','paper','authors','institution','csranking','authors_hindex','authors_citations','authors_publications'],axis=1)\n",
    "X_train = paper2020[['ratings','year']]\n",
    "y_train = paper2020['decisions'].apply(lambda x : 1 if x=='Accept' else 0)"
   ]
  },
  {
   "cell_type": "code",
   "execution_count": 198,
   "metadata": {},
   "outputs": [
    {
     "data": {
      "text/plain": [
       "LogisticRegression()"
      ]
     },
     "execution_count": 198,
     "metadata": {},
     "output_type": "execute_result"
    }
   ],
   "source": [
    "log_reg.fit(X_train, y_train)  # train it"
   ]
  },
  {
   "cell_type": "code",
   "execution_count": 200,
   "metadata": {},
   "outputs": [
    {
     "name": "stdout",
     "output_type": "stream",
     "text": [
      "2.3391183508113884 * ratings + \n",
      "-0.006302224925080839 * year + \n",
      "-3.120351191864452e-06\n"
     ]
    }
   ],
   "source": [
    "for f in range(0,len(X_train.columns)):\n",
    "    print(\"{0} * {1} + \".format(log_reg.coef_[0][f], X_train.columns[f]))\n",
    "print(log_reg.intercept_[0])"
   ]
  },
  {
   "cell_type": "markdown",
   "metadata": {},
   "source": [
    "### Task 2.3\n",
    "\n",
    "Our model is not so interesting since the only independent variable (that is, our model' feature or predictor) is something blatantly associated with paper acceptance. Let's go further! \n",
    "\n",
    "1. Run a logistic regression with the binary decision as the dependent variable (the outcome) and using as independent variables (the features): ratings, the reputation of the last author, and whether the paper was on arxiv or not. That is, in [patsy-style formula](https://patsy.readthedocs.io/en/latest/formulas.html): `decisions ~ ratings + reputation + arxiv` (variable names do not need to be exactly these). Consider all papers submitted in 2020 as your training data.\n",
    "Notice that reputation was calculated in Task 1.1. \n",
    "2. **Discuss:** Unlike `ratings` and `reputation`, the variable `arxiv` is binary. Following the same logic as we did for continuous variables in the text of Task 2.2, interpret the meaning of this coefficient. What happens to the odds ratio if the paper was seen in arxiv? Is this effect statistically significant?"
   ]
  },
  {
   "cell_type": "markdown",
   "metadata": {},
   "source": [
    " ## Statmodel"
   ]
  },
  {
   "cell_type": "code",
   "execution_count": 223,
   "metadata": {},
   "outputs": [],
   "source": [
    "paper2020 = df.loc[df['year']==2020]"
   ]
  },
  {
   "cell_type": "code",
   "execution_count": 224,
   "metadata": {},
   "outputs": [
    {
     "name": "stderr",
     "output_type": "stream",
     "text": [
      "<ipython-input-224-26335df3789a>:1: SettingWithCopyWarning: \n",
      "A value is trying to be set on a copy of a slice from a DataFrame.\n",
      "Try using .loc[row_indexer,col_indexer] = value instead\n",
      "\n",
      "See the caveats in the documentation: https://pandas.pydata.org/pandas-docs/stable/user_guide/indexing.html#returning-a-view-versus-a-copy\n",
      "  paper2020['decisions'] = paper2020['decisions'].apply(lambda x : 1 if x=='Accept'\n"
     ]
    }
   ],
   "source": [
    "paper2020['decisions'] = paper2020['decisions'].apply(lambda x : 1 if x=='Accept'\n",
    "                                                 else 0)"
   ]
  },
  {
   "cell_type": "code",
   "execution_count": 225,
   "metadata": {},
   "outputs": [
    {
     "name": "stdout",
     "output_type": "stream",
     "text": [
      "Optimization terminated successfully.\n",
      "         Current function value: 0.250440\n",
      "         Iterations 8\n",
      "                           Logit Regression Results                           \n",
      "==============================================================================\n",
      "Dep. Variable:              decisions   No. Observations:                 2052\n",
      "Model:                          Logit   Df Residuals:                     2048\n",
      "Method:                           MLE   Df Model:                            3\n",
      "Date:                Tue, 17 Nov 2020   Pseudo R-squ.:                  0.5936\n",
      "Time:                        15:51:20   Log-Likelihood:                -513.90\n",
      "converged:                       True   LL-Null:                       -1264.6\n",
      "Covariance Type:            nonrobust   LLR p-value:                     0.000\n",
      "=================================================================================\n",
      "                    coef    std err          z      P>|z|      [0.025      0.975]\n",
      "---------------------------------------------------------------------------------\n",
      "Intercept       -13.2261      0.634    -20.873      0.000     -14.468     -11.984\n",
      "arxiv[T.True]     0.2890      0.167      1.727      0.084      -0.039       0.617\n",
      "ratings           2.3541      0.111     21.296      0.000       2.137       2.571\n",
      "reputation        0.2267      0.148      1.533      0.125      -0.063       0.517\n",
      "=================================================================================\n"
     ]
    }
   ],
   "source": [
    "mod = smf.logit(formula='decisions ~ ratings + reputation + arxiv' , data =paper2020)\n",
    "res= mod.fit()\n",
    "print(res.summary())"
   ]
  },
  {
   "cell_type": "markdown",
   "metadata": {},
   "source": [
    "## SKlearn"
   ]
  },
  {
   "cell_type": "code",
   "execution_count": 164,
   "metadata": {},
   "outputs": [
    {
     "data": {
      "text/plain": [
       "LogisticRegression()"
      ]
     },
     "execution_count": 164,
     "metadata": {},
     "output_type": "execute_result"
    }
   ],
   "source": [
    "from sklearn.linear_model import LinearRegression, LogisticRegression, Ridge\n",
    "log_reg = LogisticRegression()\n",
    "X_train = paper2020[['ratings','arxiv','reputation']]\n",
    "y_train = paper2020['decisions'].apply(lambda x : 1 if x=='Accept'\n",
    "                                                 else 0)\n",
    "log_reg.fit(X_train, y_train)"
   ]
  },
  {
   "cell_type": "code",
   "execution_count": 165,
   "metadata": {},
   "outputs": [
    {
     "data": {
      "text/plain": [
       "2.326095073953047"
      ]
     },
     "execution_count": 165,
     "metadata": {},
     "output_type": "execute_result"
    }
   ],
   "source": [
    "log_reg.coef_[0][0]"
   ]
  },
  {
   "cell_type": "code",
   "execution_count": 166,
   "metadata": {},
   "outputs": [
    {
     "name": "stdout",
     "output_type": "stream",
     "text": [
      "2.326095073953047 * ratings + \n",
      "0.2814665530259435 * arxiv + \n",
      "0.22254585322636183 * reputation + \n",
      "-13.067313325364816\n"
     ]
    }
   ],
   "source": [
    "\n",
    "for f in range(0,len(X_train.columns)):\n",
    "    print(\"{0} * {1} + \".format(log_reg.coef_[0][f], X_train.columns[f]))\n",
    "print(log_reg.intercept_[0])"
   ]
  },
  {
   "cell_type": "markdown",
   "metadata": {},
   "source": [
    "### Task 2.4\n",
    "\n",
    "Let's finally move on to the question that you have been dying to answer: Do pre-prints favor top institutions? \n",
    "\n",
    "In order to (try to) answer that question, you must fit yet another logistic regression.\n",
    "\n",
    "Your regression should have the paper decision as the dependent variable, and `ratings`, `reputation`, and `arxiv` as independent variables just like in task 2.3. Yet, here, include also as independent variables the binary variable `has_top_institution`, which equals 1 if the paper has an author in a top-10 institution; and the interaction variable `arxiv:has_top_institution`, which equals one only if the paper is from a top-10 institution **and** if it appeared on arxiv before the submission deadline. In patsy-style formula your model should look something like: \n",
    "\n",
    "`decisions_bool ~ ratings + reputation + arxiv + has_top_institution + arxiv:has_top_institution`\n",
    "\n",
    "\n",
    "1. Fit this model and estimate the effect of posting on arxiv for a top institution. Again, consider only papers submitted in the 2020 edition.\n",
    "2. **Discuss:** Interpreting the p-values, discuss: is this evidence that arxiv breaks double-blind submissions?"
   ]
  },
  {
   "cell_type": "code",
   "execution_count": 228,
   "metadata": {},
   "outputs": [],
   "source": [
    "paper2020 = df.loc[df['year']==2020]"
   ]
  },
  {
   "cell_type": "code",
   "execution_count": 229,
   "metadata": {},
   "outputs": [
    {
     "name": "stderr",
     "output_type": "stream",
     "text": [
      "<ipython-input-229-26335df3789a>:1: SettingWithCopyWarning: \n",
      "A value is trying to be set on a copy of a slice from a DataFrame.\n",
      "Try using .loc[row_indexer,col_indexer] = value instead\n",
      "\n",
      "See the caveats in the documentation: https://pandas.pydata.org/pandas-docs/stable/user_guide/indexing.html#returning-a-view-versus-a-copy\n",
      "  paper2020['decisions'] = paper2020['decisions'].apply(lambda x : 1 if x=='Accept'\n"
     ]
    }
   ],
   "source": [
    "paper2020['decisions'] = paper2020['decisions'].apply(lambda x : 1 if x=='Accept'\n",
    "                                                 else 0)"
   ]
  },
  {
   "cell_type": "code",
   "execution_count": 231,
   "metadata": {},
   "outputs": [
    {
     "name": "stdout",
     "output_type": "stream",
     "text": [
      "Optimization terminated successfully.\n",
      "         Current function value: 0.247857\n",
      "         Iterations 8\n",
      "                           Logit Regression Results                           \n",
      "==============================================================================\n",
      "Dep. Variable:              decisions   No. Observations:                 2052\n",
      "Model:                          Logit   Df Residuals:                     2046\n",
      "Method:                           MLE   Df Model:                            5\n",
      "Date:                Tue, 17 Nov 2020   Pseudo R-squ.:                  0.5978\n",
      "Time:                        15:52:55   Log-Likelihood:                -508.60\n",
      "converged:                       True   LL-Null:                       -1264.6\n",
      "Covariance Type:            nonrobust   LLR p-value:                     0.000\n",
      "=====================================================================================================\n",
      "                                        coef    std err          z      P>|z|      [0.025      0.975]\n",
      "-----------------------------------------------------------------------------------------------------\n",
      "Intercept                           -14.2630      0.742    -19.231      0.000     -15.717     -12.809\n",
      "arxiv[T.True]                         0.8348      0.491      1.700      0.089      -0.128       1.797\n",
      "ratings                               2.3783      0.112     21.159      0.000       2.158       2.599\n",
      "reputation                            0.2354      0.149      1.584      0.113      -0.056       0.527\n",
      "has_top_institution                   1.0035      0.328      3.056      0.002       0.360       1.647\n",
      "arxiv[T.True]:has_top_institution    -0.6042      0.522     -1.158      0.247      -1.627       0.419\n",
      "=====================================================================================================\n"
     ]
    }
   ],
   "source": [
    "mod = smf.logit(formula='decisions ~ ratings + reputation + arxiv * has_top_institution' , data =paper2020)\n",
    "res= mod.fit()\n",
    "print(res.summary())"
   ]
  },
  {
   "cell_type": "markdown",
   "metadata": {},
   "source": [
    "## Step 3: Matching\n",
    "\n",
    "Okay, so let's change hats one last time.\n",
    "\n",
    "As you have all seen in class, a particularly powerful way of disentangling causal effects from observational data is through matching: making sure we are not comparing apples to oranges.\n",
    "\n",
    "\n",
    "### Task 3.1\n",
    "\n",
    "One of the ways to do matching is called \"Propensity Score Matching.\" There, we calculate a *propensity score* for each subject which represents the propensity to receive a \"treatment.\" Then, we match subjects who received and did not receive the treatment, but that had similar propensity scores (that is, even though some received the treatment and some did not, they had similar chances to receive it).\n",
    "\n",
    "In our specific case, we can further attempt to study the impact of pre-prints by considering publishing to arxiv as our \"treatment\".\n",
    "\n",
    "In that context, the first step to perform propensity score matching is to create a classifier that predicts whether a paper was published on arxiv or not.\n",
    "\n",
    "1. We have trained this classifier for you (don't get spoiled!). You may load the pandas dataframe entitled `propensity_scores.csv.gz` from the github repo. \n",
    "Notice that we will be using only the articles published in 2020. \n",
    "Create a new dataframe that is a merged version of this new dataframe with the dataframe you have been working on so far. Remember to keep only the papers published in 2020!\n",
    "2. **Discuss:** In which way is this classifier (that is a classifier trained to estimate propensity scores) different from the previous classifier that you trained in Step 1?\n",
    "\n",
    "**Hint:** For a classifier tra we don't need a training set and a test set!\n"
   ]
  },
  {
   "cell_type": "code",
   "execution_count": 255,
   "metadata": {},
   "outputs": [
    {
     "data": {
      "text/plain": [
       "0       0.360486\n",
       "1       0.567842\n",
       "2       0.334322\n",
       "3       0.402644\n",
       "4       0.334322\n",
       "          ...   \n",
       "2047    0.306323\n",
       "2048    0.219910\n",
       "2049    0.208421\n",
       "2050    0.213840\n",
       "2051    0.304699\n",
       "Name: propensity_score, Length: 2052, dtype: float64"
      ]
     },
     "execution_count": 255,
     "metadata": {},
     "output_type": "execute_result"
    }
   ],
   "source": [
    "propensity_df['propensity_score']"
   ]
  },
  {
   "cell_type": "code",
   "execution_count": 256,
   "metadata": {},
   "outputs": [],
   "source": [
    "paper2020_with_propensity = paper2020.merge(propensity_df,\n",
    "                                           on = 'paper')"
   ]
  },
  {
   "cell_type": "code",
   "execution_count": 257,
   "metadata": {},
   "outputs": [
    {
     "data": {
      "text/html": [
       "<div>\n",
       "<style scoped>\n",
       "    .dataframe tbody tr th:only-of-type {\n",
       "        vertical-align: middle;\n",
       "    }\n",
       "\n",
       "    .dataframe tbody tr th {\n",
       "        vertical-align: top;\n",
       "    }\n",
       "\n",
       "    .dataframe thead th {\n",
       "        text-align: right;\n",
       "    }\n",
       "</style>\n",
       "<table border=\"1\" class=\"dataframe\">\n",
       "  <thead>\n",
       "    <tr style=\"text-align: right;\">\n",
       "      <th></th>\n",
       "      <th>year</th>\n",
       "      <th>paper</th>\n",
       "      <th>authors</th>\n",
       "      <th>ratings</th>\n",
       "      <th>decisions</th>\n",
       "      <th>institution</th>\n",
       "      <th>csranking</th>\n",
       "      <th>categories</th>\n",
       "      <th>authors_citations</th>\n",
       "      <th>authors_publications</th>\n",
       "      <th>authors_hindex</th>\n",
       "      <th>arxiv</th>\n",
       "      <th>authors_citations_median</th>\n",
       "      <th>authors_publications_median</th>\n",
       "      <th>authors_hindex_median</th>\n",
       "      <th>reputation</th>\n",
       "      <th>crazy</th>\n",
       "      <th>has_top_company</th>\n",
       "      <th>has_top_institution</th>\n",
       "      <th>propensity_score</th>\n",
       "    </tr>\n",
       "  </thead>\n",
       "  <tbody>\n",
       "    <tr>\n",
       "      <th>0</th>\n",
       "      <td>2020</td>\n",
       "      <td>Pitfalls of In-Domain Uncertainty Estimation a...</td>\n",
       "      <td>Arsenii Ashukha;Alexander Lyzhov;Dmitry Molcha...</td>\n",
       "      <td>6.666667</td>\n",
       "      <td>Accept</td>\n",
       "      <td>Samsung;Skolkovo Institute of Science and Tech...</td>\n",
       "      <td>-1;-1;-1;481</td>\n",
       "      <td>0</td>\n",
       "      <td>488;12;481;2097</td>\n",
       "      <td>14;2;17;124</td>\n",
       "      <td>8;1;7;16</td>\n",
       "      <td>False</td>\n",
       "      <td>484.5</td>\n",
       "      <td>15.5</td>\n",
       "      <td>7.5</td>\n",
       "      <td>1.253127</td>\n",
       "      <td>-6.666667</td>\n",
       "      <td>0</td>\n",
       "      <td>1</td>\n",
       "      <td>0.360486</td>\n",
       "    </tr>\n",
       "    <tr>\n",
       "      <th>1</th>\n",
       "      <td>2020</td>\n",
       "      <td>An Inductive Bias for Distances: Neural Nets t...</td>\n",
       "      <td>Silviu Pitis;Harris Chan;Kiarash Jamali;Jimmy Ba</td>\n",
       "      <td>6.750000</td>\n",
       "      <td>Accept</td>\n",
       "      <td>Department of Computer Science, University of ...</td>\n",
       "      <td>18;18;18;18</td>\n",
       "      <td>1;10</td>\n",
       "      <td>15;23;3;52924</td>\n",
       "      <td>9;13;3;56</td>\n",
       "      <td>2;3;1;22</td>\n",
       "      <td>False</td>\n",
       "      <td>19.0</td>\n",
       "      <td>11.0</td>\n",
       "      <td>2.5</td>\n",
       "      <td>2.975924</td>\n",
       "      <td>-6.750000</td>\n",
       "      <td>0</td>\n",
       "      <td>1</td>\n",
       "      <td>0.567842</td>\n",
       "    </tr>\n",
       "  </tbody>\n",
       "</table>\n",
       "</div>"
      ],
      "text/plain": [
       "   year                                              paper  \\\n",
       "0  2020  Pitfalls of In-Domain Uncertainty Estimation a...   \n",
       "1  2020  An Inductive Bias for Distances: Neural Nets t...   \n",
       "\n",
       "                                             authors   ratings decisions  \\\n",
       "0  Arsenii Ashukha;Alexander Lyzhov;Dmitry Molcha...  6.666667    Accept   \n",
       "1   Silviu Pitis;Harris Chan;Kiarash Jamali;Jimmy Ba  6.750000    Accept   \n",
       "\n",
       "                                         institution     csranking categories  \\\n",
       "0  Samsung;Skolkovo Institute of Science and Tech...  -1;-1;-1;481          0   \n",
       "1  Department of Computer Science, University of ...   18;18;18;18       1;10   \n",
       "\n",
       "  authors_citations authors_publications authors_hindex  arxiv  \\\n",
       "0   488;12;481;2097          14;2;17;124       8;1;7;16  False   \n",
       "1     15;23;3;52924            9;13;3;56       2;3;1;22  False   \n",
       "\n",
       "   authors_citations_median  authors_publications_median  \\\n",
       "0                     484.5                         15.5   \n",
       "1                      19.0                         11.0   \n",
       "\n",
       "   authors_hindex_median  reputation     crazy  has_top_company  \\\n",
       "0                    7.5    1.253127 -6.666667                0   \n",
       "1                    2.5    2.975924 -6.750000                0   \n",
       "\n",
       "   has_top_institution  propensity_score  \n",
       "0                    1          0.360486  \n",
       "1                    1          0.567842  "
      ]
     },
     "execution_count": 257,
     "metadata": {},
     "output_type": "execute_result"
    }
   ],
   "source": [
    "paper2020_with_propensity.head(2)"
   ]
  },
  {
   "cell_type": "markdown",
   "metadata": {},
   "source": [
    "This classifier is different because he is based on residual ??\n",
    "Tree vs classifier ?\n",
    "Je pense que la différence est qu'on n'utilise pas de training et test set dans le deuxieme car on va utiliser des cluster pour regrouper les data tandis que le premier on utilisait des tree ?\n"
   ]
  },
  {
   "cell_type": "markdown",
   "metadata": {},
   "source": [
    "### Task 3.2\n",
    "\n",
    "Now is time to match users! You will be implementing a technique called *caliper matching*. \n",
    "\n",
    "Create pairs of users as follows. For each treated subject (here a paper that was submitted to arxiv), find a non-treated subject (a paper that was not submitted to arxiv) with similar propensity score. Namely, if the propensity score of the treated unit is $p_t$, you must find a non-treated unit $p_c$ with propensity score $|p_{c} - p_t| < \\epsilon$. If there is no such a non-treated unit, you may ignore the treated unit and move forward with the matching. Notice that your output must be a 1-to-1 matching. So each paper can only be matched once.\n",
    "\n",
    "1. Perform this matching procedure using $\\epsilon = 0.05$.\n",
    "2. Report how many pairs did you manage to match? How many didn't you?"
   ]
  },
  {
   "cell_type": "code",
   "execution_count": 258,
   "metadata": {},
   "outputs": [],
   "source": [
    "import networkx as nx"
   ]
  },
  {
   "cell_type": "code",
   "execution_count": 259,
   "metadata": {},
   "outputs": [],
   "source": [
    "def get_estimation(ptreat, pcontr):\n",
    "    ''' Return the estimator of the similarity between propensity score '''\n",
    "    return np.abs(pcontr-ptreat)"
   ]
  },
  {
   "cell_type": "code",
   "execution_count": 275,
   "metadata": {},
   "outputs": [],
   "source": [
    "def get_similarity(propensity_score1, propensity_score2):\n",
    "    '''Calculate similarity for instances with given propensity scores'''\n",
    "    return 1-np.abs(propensity_score1-propensity_score2)"
   ]
  },
  {
   "cell_type": "code",
   "execution_count": null,
   "metadata": {},
   "outputs": [],
   "source": [
    "# Separate the treatment and control groups\n",
    "treatment_df = paper2020_with_propensity.loc[paper2020_with_propensity['arxiv']==True]\n",
    "control_df = paper2020_with_propensity.loc[paper2020_with_propensity['arxiv']==False]\n",
    "\n",
    "# Create an empty undirected graph\n",
    "G = nx.Graph()\n",
    "matched_control_id=[]\n",
    "matched_treatment_id=[]\n",
    "# Loop through all the pairs of instances control 1 prepare to link all the treatment \n",
    "for treatment_id, treatment_row in treatment_df.iterrows():\n",
    "    for control_id, control_row in control_df.iterrows():\n",
    "        if (control_id not in matched_control_id)&(treatment_id not in matched_treatment_id ):\n",
    "            # Calculate the similarity \n",
    "            estimator = get_estimation(treatment_row['propensity_score'],\n",
    "                                      control_row['propensity_score'])\n",
    "            if estimator < 0.5:\n",
    "                # Add an edge between the two instances weighted by the similarity between them\n",
    "                G.add_weighted_edges_from([(control_id, treatment_id, 1)])\n",
    "                matched_control_id.append(control_id)\n",
    "                matched_treatment_id.append(treatment_id)\n",
    "# Generate and return the maximum weight matching on the generated graph\n",
    "matching = list(G.edges)"
   ]
  },
  {
   "cell_type": "code",
   "execution_count": 260,
   "metadata": {},
   "outputs": [
    {
     "data": {
      "text/plain": [
       "[]"
      ]
     },
     "execution_count": 260,
     "metadata": {},
     "output_type": "execute_result"
    }
   ],
   "source": [
    "matching[:5]"
   ]
  },
  {
   "cell_type": "code",
   "execution_count": 47,
   "metadata": {},
   "outputs": [
    {
     "name": "stdout",
     "output_type": "stream",
     "text": [
      "We have  590  pairs on 1462\n"
     ]
    }
   ],
   "source": [
    "print('We have ',len(matching),' pairs on',len(control_df))"
   ]
  },
  {
   "cell_type": "markdown",
   "metadata": {},
   "source": [
    "treatment_id=6\n",
    "matched_id=[1,5,7,8]\n",
    "if treatment_id not in matched_id:\n",
    "    print('ok')\n",
    "    \n",
    "matched_id.append(6)\n",
    "\n",
    "treatment_id=6\n",
    "if treatment_id not in matched_id:\n",
    "    print('ok')\n"
   ]
  },
  {
   "cell_type": "markdown",
   "metadata": {
    "pycharm": {
     "name": "#%% md\n"
    }
   },
   "source": [
    "### Task 3.3\n",
    "\n",
    "Let's evaluate your matching! There are more rigorous ways to do it, but we'll go the easy path.\n",
    "\n",
    "\n",
    "1. Using one or several appropriate plot types, visualize the distributions of the variables reputation and ratings, for treated and non-treated subjects that you matched.\n",
    "2. Visualize the distributions of these variables for all papers from 2020 that appeared on arxiv, and all papers that did not (including those you did not manage to match).\n",
    "3. **Discuss:** According to your visual analysis (no statistical tests needed here), did the matching do a good job at balancing covariates?"
   ]
  },
  {
   "cell_type": "code",
   "execution_count": 108,
   "metadata": {
    "pycharm": {
     "name": "#%%\n"
    }
   },
   "outputs": [],
   "source": [
    "balanced_df_all = paper2020_with_propensity.iloc[[subj_id for t in matching for subj_id in t]]"
   ]
  },
  {
   "cell_type": "code",
   "execution_count": 109,
   "metadata": {},
   "outputs": [
    {
     "data": {
      "text/html": [
       "<div>\n",
       "<style scoped>\n",
       "    .dataframe tbody tr th:only-of-type {\n",
       "        vertical-align: middle;\n",
       "    }\n",
       "\n",
       "    .dataframe tbody tr th {\n",
       "        vertical-align: top;\n",
       "    }\n",
       "\n",
       "    .dataframe thead th {\n",
       "        text-align: right;\n",
       "    }\n",
       "</style>\n",
       "<table border=\"1\" class=\"dataframe\">\n",
       "  <thead>\n",
       "    <tr style=\"text-align: right;\">\n",
       "      <th></th>\n",
       "      <th>year</th>\n",
       "      <th>ratings</th>\n",
       "      <th>authors_citations_median</th>\n",
       "      <th>authors_publications_median</th>\n",
       "      <th>authors_hindex_median</th>\n",
       "      <th>reputation</th>\n",
       "      <th>crazy</th>\n",
       "      <th>has_top_company</th>\n",
       "      <th>has_top_institution</th>\n",
       "      <th>propensity_score</th>\n",
       "    </tr>\n",
       "  </thead>\n",
       "  <tbody>\n",
       "    <tr>\n",
       "      <th>count</th>\n",
       "      <td>1180.0</td>\n",
       "      <td>1180.000000</td>\n",
       "      <td>1180.000000</td>\n",
       "      <td>1180.000000</td>\n",
       "      <td>1180.000000</td>\n",
       "      <td>1180.000000</td>\n",
       "      <td>1180.000000</td>\n",
       "      <td>1180.000000</td>\n",
       "      <td>1180.0</td>\n",
       "      <td>1180.000000</td>\n",
       "    </tr>\n",
       "    <tr>\n",
       "      <th>mean</th>\n",
       "      <td>2020.0</td>\n",
       "      <td>5.071695</td>\n",
       "      <td>1565.096186</td>\n",
       "      <td>51.242373</td>\n",
       "      <td>11.216102</td>\n",
       "      <td>1.383946</td>\n",
       "      <td>-1.746271</td>\n",
       "      <td>0.238983</td>\n",
       "      <td>0.0</td>\n",
       "      <td>0.317638</td>\n",
       "    </tr>\n",
       "    <tr>\n",
       "      <th>std</th>\n",
       "      <td>0.0</td>\n",
       "      <td>1.524218</td>\n",
       "      <td>4428.959333</td>\n",
       "      <td>70.305716</td>\n",
       "      <td>8.931290</td>\n",
       "      <td>0.544101</td>\n",
       "      <td>5.688530</td>\n",
       "      <td>0.426643</td>\n",
       "      <td>0.0</td>\n",
       "      <td>0.083169</td>\n",
       "    </tr>\n",
       "    <tr>\n",
       "      <th>min</th>\n",
       "      <td>2020.0</td>\n",
       "      <td>1.000000</td>\n",
       "      <td>1.000000</td>\n",
       "      <td>1.500000</td>\n",
       "      <td>1.000000</td>\n",
       "      <td>0.096910</td>\n",
       "      <td>-8.000000</td>\n",
       "      <td>0.000000</td>\n",
       "      <td>0.0</td>\n",
       "      <td>0.104224</td>\n",
       "    </tr>\n",
       "    <tr>\n",
       "      <th>25%</th>\n",
       "      <td>2020.0</td>\n",
       "      <td>4.000000</td>\n",
       "      <td>152.000000</td>\n",
       "      <td>19.500000</td>\n",
       "      <td>5.000000</td>\n",
       "      <td>1.028979</td>\n",
       "      <td>-6.000000</td>\n",
       "      <td>0.000000</td>\n",
       "      <td>0.0</td>\n",
       "      <td>0.260262</td>\n",
       "    </tr>\n",
       "    <tr>\n",
       "      <th>50%</th>\n",
       "      <td>2020.0</td>\n",
       "      <td>5.000000</td>\n",
       "      <td>477.750000</td>\n",
       "      <td>34.000000</td>\n",
       "      <td>9.000000</td>\n",
       "      <td>1.389486</td>\n",
       "      <td>-5.000000</td>\n",
       "      <td>0.000000</td>\n",
       "      <td>0.0</td>\n",
       "      <td>0.320276</td>\n",
       "    </tr>\n",
       "    <tr>\n",
       "      <th>75%</th>\n",
       "      <td>2020.0</td>\n",
       "      <td>6.000000</td>\n",
       "      <td>1377.375000</td>\n",
       "      <td>58.625000</td>\n",
       "      <td>14.000000</td>\n",
       "      <td>1.765957</td>\n",
       "      <td>5.000000</td>\n",
       "      <td>0.000000</td>\n",
       "      <td>0.0</td>\n",
       "      <td>0.376009</td>\n",
       "    </tr>\n",
       "    <tr>\n",
       "      <th>max</th>\n",
       "      <td>2020.0</td>\n",
       "      <td>8.000000</td>\n",
       "      <td>104743.500000</td>\n",
       "      <td>1514.500000</td>\n",
       "      <td>79.500000</td>\n",
       "      <td>3.174548</td>\n",
       "      <td>8.000000</td>\n",
       "      <td>1.000000</td>\n",
       "      <td>0.0</td>\n",
       "      <td>0.587562</td>\n",
       "    </tr>\n",
       "  </tbody>\n",
       "</table>\n",
       "</div>"
      ],
      "text/plain": [
       "         year      ratings  authors_citations_median  \\\n",
       "count  1180.0  1180.000000               1180.000000   \n",
       "mean   2020.0     5.071695               1565.096186   \n",
       "std       0.0     1.524218               4428.959333   \n",
       "min    2020.0     1.000000                  1.000000   \n",
       "25%    2020.0     4.000000                152.000000   \n",
       "50%    2020.0     5.000000                477.750000   \n",
       "75%    2020.0     6.000000               1377.375000   \n",
       "max    2020.0     8.000000             104743.500000   \n",
       "\n",
       "       authors_publications_median  authors_hindex_median   reputation  \\\n",
       "count                  1180.000000            1180.000000  1180.000000   \n",
       "mean                     51.242373              11.216102     1.383946   \n",
       "std                      70.305716               8.931290     0.544101   \n",
       "min                       1.500000               1.000000     0.096910   \n",
       "25%                      19.500000               5.000000     1.028979   \n",
       "50%                      34.000000               9.000000     1.389486   \n",
       "75%                      58.625000              14.000000     1.765957   \n",
       "max                    1514.500000              79.500000     3.174548   \n",
       "\n",
       "             crazy  has_top_company  has_top_institution  propensity_score  \n",
       "count  1180.000000      1180.000000               1180.0       1180.000000  \n",
       "mean     -1.746271         0.238983                  0.0          0.317638  \n",
       "std       5.688530         0.426643                  0.0          0.083169  \n",
       "min      -8.000000         0.000000                  0.0          0.104224  \n",
       "25%      -6.000000         0.000000                  0.0          0.260262  \n",
       "50%      -5.000000         0.000000                  0.0          0.320276  \n",
       "75%       5.000000         0.000000                  0.0          0.376009  \n",
       "max       8.000000         1.000000                  0.0          0.587562  "
      ]
     },
     "execution_count": 109,
     "metadata": {},
     "output_type": "execute_result"
    }
   ],
   "source": [
    "balanced_df_all.describe()"
   ]
  },
  {
   "cell_type": "markdown",
   "metadata": {},
   "source": [
    "## With Matching"
   ]
  },
  {
   "cell_type": "code",
   "execution_count": 110,
   "metadata": {
    "jupyter": {
     "source_hidden": true
    }
   },
   "outputs": [
    {
     "data": {
      "image/png": "[encoded data removed]",
      "text/plain": [
       "<Figure size 720x360 with 2 Axes>"
      ]
     },
     "metadata": {
      "needs_background": "light"
     },
     "output_type": "display_data"
    }
   ],
   "source": [
    "\n",
    "g = sns.FacetGrid(balanced_df_all, col='arxiv',margin_titles=True, height=5)\n",
    "g.map(plt.hist, 'reputation')\n",
    "plt.suptitle('Reputation')\n",
    "plt.show()"
   ]
  },
  {
   "cell_type": "code",
   "execution_count": 111,
   "metadata": {
    "jupyter": {
     "source_hidden": true
    }
   },
   "outputs": [
    {
     "data": {
      "image/png": "[encoded data removed]",
      "text/plain": [
       "<Figure size 720x360 with 2 Axes>"
      ]
     },
     "metadata": {
      "needs_background": "light"
     },
     "output_type": "display_data"
    }
   ],
   "source": [
    "g = sns.FacetGrid(balanced_df_all, col='arxiv',margin_titles=True, height=5)\n",
    "g.map(plt.hist, 'ratings')\n",
    "plt.suptitle('Ratings')\n",
    "plt.show()"
   ]
  },
  {
   "cell_type": "markdown",
   "metadata": {},
   "source": [
    "## Without Matching For both arvix = True and arvix = False"
   ]
  },
  {
   "cell_type": "code",
   "execution_count": 112,
   "metadata": {
    "jupyter": {
     "source_hidden": true
    }
   },
   "outputs": [
    {
     "data": {
      "image/png": "[encoded data removed]",
      "text/plain": [
       "<Figure size 720x360 with 2 Axes>"
      ]
     },
     "metadata": {
      "needs_background": "light"
     },
     "output_type": "display_data"
    }
   ],
   "source": [
    "g = sns.FacetGrid(paper2020_with_propensity, col='arxiv',margin_titles=True, height=5)\n",
    "g.map(plt.hist, 'reputation')\n",
    "plt.suptitle('Paper 2020 -> Reputation')\n",
    "plt.show()"
   ]
  },
  {
   "cell_type": "code",
   "execution_count": 113,
   "metadata": {
    "jupyter": {
     "source_hidden": true
    }
   },
   "outputs": [
    {
     "data": {
      "image/png": "[encoded data removed]",
      "text/plain": [
       "<Figure size 720x360 with 2 Axes>"
      ]
     },
     "metadata": {
      "needs_background": "light"
     },
     "output_type": "display_data"
    }
   ],
   "source": [
    "g = sns.FacetGrid(paper2020_with_propensity, col='arxiv',margin_titles=True, height=5)\n",
    "g.map(plt.hist, 'ratings')\n",
    "plt.suptitle('Paper 2020 -> Reputation')\n",
    "plt.show()"
   ]
  },
  {
   "cell_type": "markdown",
   "metadata": {
    "pycharm": {
     "name": "#%% md\n"
    }
   },
   "source": [
    "### Task 3.4\n",
    "\n",
    "Finally, it's time to estimate the treatment effect. Given that we have pairs of matched samples, one that received treatment and one that did not, and that they have associated outcomes $y_{treat}$ and $y_{\\neg treat}$. We can calculate the average treatment effect as:\n",
    "\n",
    "$$\n",
    "ATE = \\frac{1}{N} \\sum_i^N  y_{treat}^{(i)} - y_{\\neg treat}^{(i)}\n",
    "$$\n",
    "\n",
    "Notice that here the outcome is a simple binary variable which equals 1 if the paper has been accepted and equals 0 if the paper has been rejected, and $N$ is the total number of matched samples in our analysis.\n",
    "\n",
    "According to your matched sample, estimate the treatment effect of publishing a paper on arxiv. \n",
    "### Report the 95% CI through bootstrapping.????\n"
   ]
  },
  {
   "cell_type": "code",
   "execution_count": 263,
   "metadata": {},
   "outputs": [
    {
     "data": {
      "text/plain": [
       "[]"
      ]
     },
     "execution_count": 263,
     "metadata": {},
     "output_type": "execute_result"
    }
   ],
   "source": [
    "matching[:5]"
   ]
  },
  {
   "cell_type": "code",
   "execution_count": 262,
   "metadata": {
    "pycharm": {
     "name": "#%%\n"
    }
   },
   "outputs": [],
   "source": [
    "matching_df_treat = balanced_df_all.loc[balanced_df_all['arxiv']==True].reset_index(drop=True)\n",
    "matching_df_control = balanced_df_all.loc[balanced_df_all['arxiv']==False].reset_index(drop=True)\n",
    "matching_df_treat['y_treat_treat'] = matching_df_treat['decisions'].apply(lambda x : 1 if x == 'Accept' else 0)\n",
    "matching_df_control['y_treat_control'] = matching_df_control['decisions'].apply(lambda x : 1 if x == 'Accept' else 0)"
   ]
  },
  {
   "cell_type": "code",
   "execution_count": null,
   "metadata": {},
   "outputs": [],
   "source": []
  },
  {
   "cell_type": "code",
   "execution_count": 131,
   "metadata": {},
   "outputs": [],
   "source": [
    "ATE = (matching_df_treat ['y_treat_treat'] - matching_df_control['y_treat_control']).sum(\n",
    "    axis=0)/ matching_df_control['y_treat_control'].shape[0]"
   ]
  },
  {
   "cell_type": "code",
   "execution_count": 133,
   "metadata": {},
   "outputs": [
    {
     "name": "stdout",
     "output_type": "stream",
     "text": [
      "Ate = -0.26610169491525426\n"
     ]
    }
   ],
   "source": [
    "print('Ate =', ATE)"
   ]
  },
  {
   "cell_type": "markdown",
   "metadata": {
    "pycharm": {
     "name": "#%% md\n"
    }
   },
   "source": [
    "### Task 3.5\n",
    "\n",
    "Wait, but what about prestigious institutions? \n",
    "\n",
    "1.  To understand what is going on there, repeat tasks 3.2 to 3.4 considering *only* the top 10 institutions. Notice that you can use the same propensity scores and re-do the steps in a reduced dataframe containing only top-institutions.\n",
    "2. **Discuss:** Is this evidence that arxiv breaks double-blind submissions?"
   ]
  },
  {
   "cell_type": "code",
   "execution_count": 270,
   "metadata": {
    "pycharm": {
     "name": "#%%\n"
    }
   },
   "outputs": [],
   "source": [
    "# Separate the treatment and control groups\n",
    "treatment_df = paper2020_with_propensity.loc[(paper2020_with_propensity['arxiv']==True) \n",
    "                                             & (paper2020_with_propensity['has_top_institution'] == 1) ]\n",
    "control_df = paper2020_with_propensity.loc[(paper2020_with_propensity['arxiv']==False)\n",
    "                                           & ((paper2020_with_propensity['has_top_institution'] == 1) ) ]\n",
    "\n",
    "# Create an empty undirected graph\n",
    "G = nx.Graph()\n",
    "matched_control_id=[]\n",
    "matched_treatment_id=[]\n",
    "# Loop through all the pairs of instances control 1 prepare to link all the treatment \n",
    "for treatment_id, treatment_row in treatment_df.iterrows():\n",
    "    for control_id, control_row in control_df.iterrows():\n",
    "        if (control_id not in matched_control_id)&(treatment_id not in matched_treatment_id ):\n",
    "            # Calculate the similarity \n",
    "            estimator = get_estimation(treatment_row['propensity_score'],\n",
    "                                      control_row['propensity_score'])\n",
    "            if estimator < 0.5:\n",
    "                # Add an edge between the two instances weighted by the similarity between them\n",
    "                G.add_weighted_edges_from([(control_id, treatment_id, 1)])\n",
    "                matched_control_id.append(control_id)\n",
    "                matched_treatment_id.append(treatment_id)\n",
    "# Generate and return the maximum weight matching on the generated graph\n",
    "matching_ = list(G.edges)"
   ]
  },
  {
   "cell_type": "code",
   "execution_count": 271,
   "metadata": {},
   "outputs": [],
   "source": [
    "\n",
    "balanced_df_all_top10 = paper2020_with_propensity.iloc[[subj_id for t in matching for subj_id in t]]"
   ]
  },
  {
   "cell_type": "code",
   "execution_count": 272,
   "metadata": {},
   "outputs": [],
   "source": [
    "matching_df_treat = balanced_df_all_top10.loc[balanced_df_all_top10['arxiv']==True].reset_index(drop=True)\n",
    "matching_df_control = balanced_df_all_top10.loc[balanced_df_all_top10['arxiv']==False].reset_index(drop=True)\n",
    "matching_df_treat['y_treat_treat'] = matching_df_treat['decisions'].apply(lambda x : 1 if x == 'Accept' else 0)\n",
    "matching_df_control['y_treat_control'] = matching_df_control['decisions'].apply(lambda x : 1 if x == 'Accept' else 0)"
   ]
  },
  {
   "cell_type": "code",
   "execution_count": 273,
   "metadata": {},
   "outputs": [],
   "source": [
    "ATE = (matching_df_treat ['y_treat_treat'] - matching_df_control['y_treat_control']).sum(\n",
    "    axis=0)/ matching_df_control['y_treat_control'].shape[0]"
   ]
  },
  {
   "cell_type": "code",
   "execution_count": 274,
   "metadata": {},
   "outputs": [
    {
     "name": "stdout",
     "output_type": "stream",
     "text": [
      "Ate = -0.29296875\n"
     ]
    }
   ],
   "source": [
    "print('Ate =', ATE)"
   ]
  },
  {
   "cell_type": "code",
   "execution_count": null,
   "metadata": {},
   "outputs": [],
   "source": []
  }
 ],
 "metadata": {
  "kernelspec": {
   "display_name": "Python 3",
   "language": "python",
   "name": "python3"
  },
  "language_info": {
   "codemirror_mode": {
    "name": "ipython",
    "version": 3
   },
   "file_extension": ".py",
   "mimetype": "text/x-python",
   "name": "python",
   "nbconvert_exporter": "python",
   "pygments_lexer": "ipython3",
   "version": "3.8.5"
  },
  "pycharm": {
   "stem_cell": {
    "cell_type": "raw",
    "metadata": {
     "collapsed": false
    },
    "source": []
   }
  }
 },
 "nbformat": 4,
 "nbformat_minor": 4
}
